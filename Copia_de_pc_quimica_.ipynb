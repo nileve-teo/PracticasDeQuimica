{
  "nbformat": 4,
  "nbformat_minor": 0,
  "metadata": {
    "colab": {
      "provenance": [],
      "include_colab_link": true
    },
    "kernelspec": {
      "name": "python3",
      "display_name": "Python 3"
    },
    "language_info": {
      "name": "python"
    },
    "widgets": {
      "application/vnd.jupyter.widget-state+json": {
        "d4691835f4474884829213796343340f": {
          "model_module": "faerun-notebook",
          "model_name": "SmilesDrawerModel",
          "model_module_version": "^0.1.5",
          "state": {
            "_dom_classes": [],
            "_model_module": "faerun-notebook",
            "_model_module_version": "^0.1.5",
            "_model_name": "SmilesDrawerModel",
            "_view_count": null,
            "_view_module": "faerun-notebook",
            "_view_module_version": "^0.1.5",
            "_view_name": "SmilesDrawerView",
            "background": "#1e1e1e",
            "border": true,
            "layout": "IPY_MODEL_35b7ce94b6e84d4c985918e50984dcd7",
            "options": {
              "scale": 1.25
            },
            "output": "svg",
            "theme": "dark",
            "value": [
              [
                "Rxn",
                "C(C1C(C(C(C(O1)O)O)O)O)O.O=O>>C(=O)=O.O"
              ]
            ]
          }
        },
        "35b7ce94b6e84d4c985918e50984dcd7": {
          "model_module": "@jupyter-widgets/base",
          "model_name": "LayoutModel",
          "model_module_version": "1.2.0",
          "state": {
            "_model_module": "@jupyter-widgets/base",
            "_model_module_version": "1.2.0",
            "_model_name": "LayoutModel",
            "_view_count": null,
            "_view_module": "@jupyter-widgets/base",
            "_view_module_version": "1.2.0",
            "_view_name": "LayoutView",
            "align_content": null,
            "align_items": null,
            "align_self": null,
            "border": null,
            "bottom": null,
            "display": null,
            "flex": null,
            "flex_flow": null,
            "grid_area": null,
            "grid_auto_columns": null,
            "grid_auto_flow": null,
            "grid_auto_rows": null,
            "grid_column": null,
            "grid_gap": null,
            "grid_row": null,
            "grid_template_areas": null,
            "grid_template_columns": null,
            "grid_template_rows": null,
            "height": null,
            "justify_content": null,
            "justify_items": null,
            "left": null,
            "margin": null,
            "max_height": null,
            "max_width": null,
            "min_height": null,
            "min_width": null,
            "object_fit": null,
            "object_position": null,
            "order": null,
            "overflow": null,
            "overflow_x": null,
            "overflow_y": null,
            "padding": null,
            "right": null,
            "top": null,
            "visibility": null,
            "width": null
          }
        },
        "8ea88891463043179725dc33c74715fc": {
          "model_module": "faerun-notebook",
          "model_name": "SmilesDrawerModel",
          "model_module_version": "^0.1.5",
          "state": {
            "_dom_classes": [],
            "_model_module": "faerun-notebook",
            "_model_module_version": "^0.1.5",
            "_model_name": "SmilesDrawerModel",
            "_view_count": null,
            "_view_module": "faerun-notebook",
            "_view_module_version": "^0.1.5",
            "_view_name": "SmilesDrawerView",
            "background": "#ffffff",
            "border": true,
            "layout": "IPY_MODEL_3be833d8df0a4e86911871cbb460cd47",
            "options": {},
            "output": "svg",
            "theme": "light",
            "value": "C1COCCOC1"
          }
        },
        "3be833d8df0a4e86911871cbb460cd47": {
          "model_module": "@jupyter-widgets/base",
          "model_name": "LayoutModel",
          "model_module_version": "1.2.0",
          "state": {
            "_model_module": "@jupyter-widgets/base",
            "_model_module_version": "1.2.0",
            "_model_name": "LayoutModel",
            "_view_count": null,
            "_view_module": "@jupyter-widgets/base",
            "_view_module_version": "1.2.0",
            "_view_name": "LayoutView",
            "align_content": null,
            "align_items": null,
            "align_self": null,
            "border": null,
            "bottom": null,
            "display": null,
            "flex": null,
            "flex_flow": null,
            "grid_area": null,
            "grid_auto_columns": null,
            "grid_auto_flow": null,
            "grid_auto_rows": null,
            "grid_column": null,
            "grid_gap": null,
            "grid_row": null,
            "grid_template_areas": null,
            "grid_template_columns": null,
            "grid_template_rows": null,
            "height": null,
            "justify_content": null,
            "justify_items": null,
            "left": null,
            "margin": null,
            "max_height": null,
            "max_width": null,
            "min_height": null,
            "min_width": null,
            "object_fit": null,
            "object_position": null,
            "order": null,
            "overflow": null,
            "overflow_x": null,
            "overflow_y": null,
            "padding": null,
            "right": null,
            "top": null,
            "visibility": null,
            "width": null
          }
        }
      }
    }
  },
  "cells": [
    {
      "cell_type": "markdown",
      "metadata": {
        "id": "view-in-github",
        "colab_type": "text"
      },
      "source": [
        "<a href=\"https://colab.research.google.com/github/nileve-teo/PracticasDeQuimica/blob/main/Copia_de_pc_quimica_.ipynb\" target=\"_parent\"><img src=\"https://colab.research.google.com/assets/colab-badge.svg\" alt=\"Open In Colab\"/></a>"
      ]
    },
    {
      "cell_type": "markdown",
      "source": [
        "$$\\Large \\textit{UNMSM | Química}$$\n",
        "$$\\large \\textbf{PC Nº1 | Materia y clasificación}$$\n",
        "\n",
        "_Profesor: Jesus Alvarado Huayhuaz_"
      ],
      "metadata": {
        "id": "sDJAjbaQOj4x"
      }
    },
    {
      "cell_type": "markdown",
      "source": [
        "Todas las indicaciones para la presentación de la práctica son explicadas en clase y brindadas en el material de enunciado de preguntas en formato PDF."
      ],
      "metadata": {
        "id": "_DsTzWLoP7Fy"
      }
    },
    {
      "cell_type": "markdown",
      "source": [
        "## Pregunta 1: Sobre el ABC de python (4 puntos)"
      ],
      "metadata": {
        "id": "obD7c2igOD6t"
      }
    },
    {
      "cell_type": "markdown",
      "source": [
        "Durante la semana de revisión del material \"ABC de python\", reflexiona sobre qué conceptos aprendiste con claridad y cuáles consideras los más desafiantes. A continuación resuelve los siguiente ejercicios, puedes ayudarte del material en http://bit.ly/3YKICSZ."
      ],
      "metadata": {
        "id": "emt93S7dL7QH"
      }
    },
    {
      "cell_type": "code",
      "source": [
        "# Imprime la versión de python que usas y las palabras reservadas de python para esa versión."
      ],
      "metadata": {
        "id": "6mJvqMN0LTU8"
      },
      "execution_count": null,
      "outputs": []
    },
    {
      "cell_type": "code",
      "source": [
        "print(Python 3.11.5 (tags/v3.11.5:cce6ba9, Aug 24 2023, 14:38:34) [MSC v.1936 64 bit (AMD64)] on win32)"
      ],
      "metadata": {
        "id": "tByW5Z9fYd0b"
      },
      "execution_count": null,
      "outputs": []
    },
    {
      "cell_type": "code",
      "source": [
        "print(\"PALABRAS\",\"RESERVADAS\")\n",
        "print(\"False\",\"await\",\"else\",\"import\",\"pass\")\n",
        "print(\"None\",\"break\",\"except\",\"in\",\"raise\")\n",
        "print(\"True\",\"class\",\"finally\",\"is\",\"return\")\n",
        "print(\"and\",\"continue\",\"for\",\"lambda\",\"try\")\n",
        "print(\"as\",\"def\",\"from\",\"nonlocal\",\"while\")\n",
        "print(\"assert\",\"del\",\"global\",\"not\",\"with\")\n",
        "print(\"async\",\"elif\",\"if\",\"or\",\"yield\")"
      ],
      "metadata": {
        "id": "4JAjC7vWYmwi"
      },
      "execution_count": null,
      "outputs": []
    },
    {
      "cell_type": "code",
      "source": [
        "# Crea una matriz de 3x3 e imprime la suma de los elementos en su diagonal (traza)."
      ],
      "metadata": {
        "id": "MxDzGypdLTXh"
      },
      "execution_count": null,
      "outputs": []
    },
    {
      "cell_type": "code",
      "source": [
        "matriz = [\n",
        "    [1, 2, 3],\n",
        "    [4, 5, 6],\n",
        "    [7, 8, 9]\n",
        "]\n",
        "traza = sum(matriz[i][i] for i in range(3))\n",
        "print(\"La suma de los elementos de la diagonal es:\", traza)"
      ],
      "metadata": {
        "id": "AF2bUjvORiWP",
        "colab": {
          "base_uri": "https://localhost:8080/"
        },
        "outputId": "575cc0a8-ea04-47ad-d2ef-b2d89cb9d8c8"
      },
      "execution_count": null,
      "outputs": [
        {
          "output_type": "stream",
          "name": "stdout",
          "text": [
            "La suma de los elementos de la diagonal es: 15\n"
          ]
        }
      ]
    },
    {
      "cell_type": "code",
      "source": [
        "import numpy as np\n",
        "\n",
        "# Crear una matriz 3x3\n",
        "matriz = np.array([[1966, 5, 20],\n",
        "                   [1966, 9, 13],\n",
        "                   [2000, 6, 5]])\n",
        "\n",
        "# Calcular la traza de la matriz\n",
        "traza = np.trace(matriz)\n",
        "\n",
        "print(f\"La matriz es:\\n{matriz}\")\n",
        "print(f\"La traza de la matriz es: {traza}\")"
      ],
      "metadata": {
        "id": "8iYQQ17Wcjex",
        "colab": {
          "base_uri": "https://localhost:8080/"
        },
        "outputId": "a2fff487-e426-420d-bb2d-58561089c899"
      },
      "execution_count": null,
      "outputs": [
        {
          "output_type": "stream",
          "name": "stdout",
          "text": [
            "La matriz es:\n",
            "[[1966    5   20]\n",
            " [1966    9   13]\n",
            " [2000    6    5]]\n",
            "La traza de la matriz es: 1980\n"
          ]
        }
      ]
    },
    {
      "cell_type": "code",
      "source": [
        "# Guarda como variable la masa atómica de los elementos C, H y O, e imprime la masa molecular del etanol."
      ],
      "metadata": {
        "id": "MyhNX7JmLTSe"
      },
      "execution_count": null,
      "outputs": []
    },
    {
      "cell_type": "code",
      "source": [
        "# Definir las masas atómicas\n",
        "C = 12.01\n",
        "H = 1.008\n",
        "O = 16.00\n",
        "\n",
        "#DEFINIR LAS MOLES:\n",
        "a = float(input(\"Introduce el numero de C: \"))\n",
        "b = float(input(\"Introduce el numero de H: \"))\n",
        "c = float(input(\"Introduce el numero de O: \"))\n",
        "\n",
        "#calcular la masa\n",
        "C_masa = C * a\n",
        "H_masa = H * b\n",
        "O_masa = O * c\n",
        "\n",
        "resultado = C_masa+ H_masa+ O_masa\n",
        "print(f\"El resultado de la masa molecular es: {resultado}\")"
      ],
      "metadata": {
        "id": "ek6yKSPSY1AS"
      },
      "execution_count": null,
      "outputs": []
    },
    {
      "cell_type": "code",
      "source": [
        "# Definir las masas atómicas\n",
        "C = 12.01\n",
        "H = 1.008\n",
        "O = 16.00\n",
        "\n",
        "# Calcular la masa molecular del etanol\n",
        "etanol = (2 * C) + (6 * H) + (1 * O)\n",
        "\n",
        "print(f\"La masa molecular del etanol es: {etanol} u\")"
      ],
      "metadata": {
        "id": "YvQwgmnjYY9G",
        "outputId": "168c2d78-93a5-4c2c-c47f-6a8199189899",
        "colab": {
          "base_uri": "https://localhost:8080/"
        }
      },
      "execution_count": null,
      "outputs": [
        {
          "output_type": "stream",
          "name": "stdout",
          "text": [
            "La masa molecular del etanol es: 46.068 u\n"
          ]
        }
      ]
    },
    {
      "cell_type": "code",
      "source": [
        "# Busca la temperatura de fusión en Celsius de 5 metales y guárdalos en una lista. Imprime las temperaturas en Kelvin"
      ],
      "metadata": {
        "id": "NCOnJ0FwgLLc"
      },
      "execution_count": null,
      "outputs": []
    },
    {
      "cell_type": "code",
      "source": [
        "# Definir las temperaturas de fusión en Celsius\n",
        "aluminio = (Al)= 660\n",
        "cobre = (Cu)= 1085\n",
        "mercurio = (Hg)= -39\n",
        "oro = (Au)= 1064\n",
        "wolframio = (W)= 3422\n",
        "\n",
        "# Calcular las temperaturas en Kelvin\n",
        "aluminio = (Al+ 273)\n",
        "cobre = (Cu+ 273)\n",
        "mercurio = (Hg+ 273)\n",
        "oro = (Au+ 273)\n",
        "wolframio = (W + 273)\n",
        "\n",
        "print(f\"La temperatura de fusión en Kelvin del aluminio es: {aluminio} k\")\n",
        "print(f\"La temperatura de fusión en Kelvin del cobre es: {cobre} k\")\n",
        "print(f\"La temperatura de fusión en Kelvin del mercuri es: {mercurio} k\")\n",
        "print(f\"La temperatura de fusión en Kelvin del oro es: {oro} k\")\n",
        "print(f\"La temperatura de fusión en Kelvin del wolframio es: {wolframio} k\")\n"
      ],
      "metadata": {
        "id": "oGR1PE3yYd6c"
      },
      "execution_count": null,
      "outputs": []
    },
    {
      "cell_type": "code",
      "source": [
        "print (\"Temperaturas Celsius\")\n",
        "print (\"   aluminio: 660\")\n",
        "print (\"   cobre:    1085\")\n",
        "print (\"   mercurio: -39\")\n",
        "print (\"   oro:      1064\")\n",
        "print (\"   wolframio:422\")\n",
        "\n",
        "print(\"CONVERTIR de C a K\")\n",
        "x=float(input(\"-escriba el numero de C : \"))\n",
        "\n",
        "#calcular\n",
        "resultado=x+273\n",
        "\n",
        "print(f\"-la temperatura en kelvin es: {resultado}\")\n"
      ],
      "metadata": {
        "id": "v_Sdg7zA8T2B"
      },
      "execution_count": null,
      "outputs": []
    },
    {
      "cell_type": "markdown",
      "source": [
        "## Pregunta 2: Operaciones (4 puntos)"
      ],
      "metadata": {
        "id": "epzOadagLfPi"
      }
    },
    {
      "cell_type": "markdown",
      "source": [
        "Escribe un programa que lea repetidamente elementos químicos en español hasta que el usuario introduzca “fin”. Una vez se haya introducido “fin”, muestra por pantalla (o sea imprime) el total de elementos ingresados. Si el usuario introduce cualquier otra cosa que no sea un elemento químico, detecta su fallo usando try y except, muestra un mensaje de error y pasa al siguiente elemento."
      ],
      "metadata": {
        "id": "MbAEOGPsjOWZ"
      }
    },
    {
      "cell_type": "code",
      "source": [
        "#definir:\n",
        "elementos_quimicos = [\"litio\" ,\"potasio\",\"calcio\",\"berilio\",\"sodio\",]\n",
        "total_elementos = 0\n",
        "\n",
        "while True:\n",
        "    elemento = input(\"   Introduce un elemento químico (escribe 'fin' para terminar): \")\n",
        "\n",
        "    if elemento.lower() == 'fin':\n",
        "        break\n",
        "\n",
        "    try:\n",
        "        if elemento not in elementos_quimicos:\n",
        "            raise ValueError(f\"      *{elemento} es un error \")\n",
        "        total_elementos += 1\n",
        "    except ValueError as e:\n",
        "        print(e)\n",
        "\n",
        "print(f\"Ha ingresado {total_elementos} elementos químicos.\")\n"
      ],
      "metadata": {
        "id": "wBqNNxGkZsm7"
      },
      "execution_count": null,
      "outputs": []
    },
    {
      "cell_type": "markdown",
      "source": [
        "# Pregunta 3: Conservación de la masa (4 puntos)"
      ],
      "metadata": {
        "id": "8gxSHpD3LZsh"
      }
    },
    {
      "cell_type": "markdown",
      "source": [
        "### Código necesario para generar la imagen"
      ],
      "metadata": {
        "id": "mMV9c3hDl7KL"
      }
    },
    {
      "cell_type": "code",
      "source": [
        "!pip install faerun-notebook==0.1.5b0\n",
        "\n",
        "import ipywidgets as widgets\n",
        "from faerun_notebook import SmilesDrawer\n",
        "from google.colab import output\n",
        "output.enable_custom_widget_manager()"
      ],
      "metadata": {
        "id": "JgF8Ohtbky65"
      },
      "execution_count": null,
      "outputs": []
    },
    {
      "cell_type": "code",
      "source": [
        "\n",
        "import ipywidgets as widgets\n",
        "from faerun_notebook import SmilesDrawer\n",
        "from google.colab import output\n",
        "output.enable_custom_widget_manager()\n",
        "\n",
        "drawer = SmilesDrawer()\n",
        "drawer.value = \"C1COCCOC1\"\n",
        "display(drawer)"
      ],
      "metadata": {
        "outputId": "33569785-1f8d-4b84-b3bc-f7fc3b9d16b5",
        "colab": {
          "base_uri": "https://localhost:8080/",
          "height": 165,
          "referenced_widgets": [
            "8ea88891463043179725dc33c74715fc",
            "3be833d8df0a4e86911871cbb460cd47"
          ]
        },
        "id": "CkZ0mCNOZyNM"
      },
      "execution_count": null,
      "outputs": [
        {
          "output_type": "display_data",
          "data": {
            "text/plain": [
              "SmilesDrawer(value='C1COCCOC1')"
            ],
            "application/vnd.jupyter.widget-view+json": {
              "version_major": 2,
              "version_minor": 0,
              "model_id": "8ea88891463043179725dc33c74715fc"
            }
          },
          "metadata": {
            "application/vnd.jupyter.widget-view+json": {
              "colab": {
                "custom_widget_manager": {
                  "url": "https://ssl.gstatic.com/colaboratory-static/widgets/colab-cdn-widget-manager/b3e629b1971e1542/manager.min.js"
                }
              }
            }
          }
        }
      ]
    },
    {
      "cell_type": "markdown",
      "source": [
        "### Reacción química"
      ],
      "metadata": {
        "id": "5sLC10D_oSrV"
      }
    },
    {
      "cell_type": "markdown",
      "source": [
        "Demuestra cómo se cumple la conservación de la masa en la siguiente reacción química. Sugerencia: hacer un balance estequiométrico y luego emplear la masa molecular de reactivos y productos."
      ],
      "metadata": {
        "id": "OVRhAzaVmD86"
      }
    },
    {
      "cell_type": "code",
      "source": [
        "SmilesDrawer(value=[(\"Rxn\", \"C(C1C(C(C(C(O1)O)O)O)O)O.O=O>>C(=O)=O.O\")], theme='dark', background=\"#1e1e1e\", options={'scale': 1.25})"
      ],
      "metadata": {
        "colab": {
          "base_uri": "https://localhost:8080/",
          "height": 289,
          "referenced_widgets": [
            "d4691835f4474884829213796343340f",
            "35b7ce94b6e84d4c985918e50984dcd7"
          ]
        },
        "id": "CC0mAXWmnYyN",
        "outputId": "fb9a2a33-11fa-47cd-bffe-ce9c285db1d8"
      },
      "execution_count": null,
      "outputs": [
        {
          "output_type": "display_data",
          "data": {
            "text/plain": [
              "SmilesDrawer(background='#1e1e1e', options={'scale': 1.25}, theme='dark', value=[('Rxn', 'C(C1C(C(C(C(O1)O)O)O…"
            ],
            "application/vnd.jupyter.widget-view+json": {
              "version_major": 2,
              "version_minor": 0,
              "model_id": "d4691835f4474884829213796343340f"
            }
          },
          "metadata": {
            "application/vnd.jupyter.widget-view+json": {
              "colab": {
                "custom_widget_manager": {
                  "url": "https://ssl.gstatic.com/colaboratory-static/widgets/colab-cdn-widget-manager/b3e629b1971e1542/manager.min.js"
                }
              }
            }
          }
        }
      ]
    },
    {
      "cell_type": "markdown",
      "source": [
        "       \n",
        "                **REACTIVOS      =    PRODUCTOS**\n",
        "            1 C6H12O6 + 6 O2  -->   6 CO2 +  6 H2O\n",
        "     moles: 1           6            6        6            \n",
        "     Masa:  1 (180)   + 6(32)  =    6(44) +  6(18)\n",
        "              180     +  192   =    264   +  108\n",
        "                         372   =    372         "
      ],
      "metadata": {
        "id": "RgpFThhCeyac"
      }
    },
    {
      "cell_type": "code",
      "source": [
        "print(\"      a C6H12O6 + b O2  -->   c CO2 +  d H2O\")\n",
        "\n",
        "#definir:\n",
        "C=12\n",
        "H=1\n",
        "O=16\n",
        "\n",
        "#DEFINIR :\n",
        "a = float(input(\"Introduce la mol de glucosa : \"))\n",
        "b = float(input(\"Introduce la mol de oxigeno: \"))\n",
        "c = float(input(\"Introduce la mol de CO2: \"))\n",
        "d = float(input(\"Introduce la mol de agua: \"))\n",
        "\n",
        "#masas moleculares:\n",
        "masa_molecular_glucosa = C*6 + H*12 + O*6\n",
        "masa_molecular_oxigeno = O*2\n",
        "masa_molecular_CO2 = C+O*2\n",
        "masa_molecular_agua = O+H*2\n",
        "\n",
        "#calcular la masas totales\n",
        "glucosa_masa = (C*6 + H*12 + O*6) * a\n",
        "oxigeno_masa = (O*2)* b\n",
        "CO2_masa = (C+O*2) * c\n",
        "agua_masa = (O+H*2) * d\n",
        "\n",
        "\n",
        "masa_reactivos = glucosa_masa + oxigeno_masa\n",
        "print(f\"El resultado de la masa molecular del reactivo es: {masa_reactivos}\")\n",
        "\n",
        "masa_productos = CO2_masa + agua_masa\n",
        "print(f\"El resultado de la masa molecular del producto es: {masa_productos}\")\n",
        "\n",
        "#def\n",
        "cumple, res = resta_cumple_ley(masa_reactivos, masa_productos)\n",
        "\n",
        "if cumple:\n",
        "    print(f\"La resta {masa_reactivos} - {masa_productos} = {res} cumple con la ley.\")\n",
        "else:\n",
        "    print(f\"La resta {masa_reactivos} - {masa_productos} = {res} no cumple con la ley.\")\n"
      ],
      "metadata": {
        "colab": {
          "base_uri": "https://localhost:8080/"
        },
        "id": "7ZbsuKPPBy5a",
        "outputId": "7b77c9dd-62e4-4e90-d58b-b0a57dfdbff1"
      },
      "execution_count": null,
      "outputs": [
        {
          "output_type": "stream",
          "name": "stdout",
          "text": [
            "      a C6H12O6 + b O2  -->   c CO2 +  d H2O\n",
            "Introduce la mol de glucosa : 1\n",
            "Introduce la mol de oxigeno: 6\n",
            "Introduce la mol de CO2: 6\n",
            "Introduce la mol de agua: 6\n",
            "El resultado de la masa molecular del reactivo es: 372.0\n",
            "El resultado de la masa molecular del producto es: 372.0\n",
            "La resta 372.0 - 372.0 = 0.0 cumple con la ley.\n"
          ]
        }
      ]
    },
    {
      "cell_type": "markdown",
      "source": [
        "## Pregunta 4: Notación científica (4 puntos)"
      ],
      "metadata": {
        "id": "Rh-nAUiKhJNB"
      }
    },
    {
      "cell_type": "markdown",
      "source": [
        "Imprime las siguientes operaciones según la notación científica:\n",
        "\n",
        "(1) $1.321 \\times 10^{-4} + 8.5 \\times 10^{-2}$\n",
        "\n",
        "(2) $1.71 \\times 10^{3} - 2.01 \\times 10^{2}\\$\n",
        "\n",
        "(3) $(7.4 \\times 10^5)(7.2 \\times 10^4)$\n",
        "\n",
        "(4) $(7.4 \\times 10^5)/(7.2 \\times 10^4)$"
      ],
      "metadata": {
        "id": "NIkI45Xdqqnt"
      }
    },
    {
      "cell_type": "code",
      "source": [
        "x=1.321*10**-4 - 8.5*10**-2\n",
        "resultado = x\n",
        "\n",
        "print(\"Resultado en notación científica: {0:.4e}\".format(resultado))"
      ],
      "metadata": {
        "id": "MTYRA4yWIAie"
      },
      "execution_count": null,
      "outputs": []
    },
    {
      "cell_type": "code",
      "source": [
        "a = 1.71*10**3 - 2.01*10**2\n",
        "resultado = a\n",
        "\n",
        "print(\"Resultado en notación científica: {0:.4e}\".format(resultado))"
      ],
      "metadata": {
        "id": "n7mbAjKJIvh6"
      },
      "execution_count": null,
      "outputs": []
    },
    {
      "cell_type": "code",
      "source": [
        "b=(7.4*10**5) * (7.2*10**4)\n",
        "resultado = b\n",
        "\n",
        "print(\"Resultado en notación científica: {0:.4e}\".format(resultado))"
      ],
      "metadata": {
        "id": "ZkV_03Hibt1D"
      },
      "execution_count": null,
      "outputs": []
    },
    {
      "cell_type": "code",
      "source": [
        "c=(7.4*10**5) / (7.2*10**4)\n",
        "resultado = c\n",
        "\n",
        "print(\"Resultado en notación científica: {0:.4e}\".format(resultado))"
      ],
      "metadata": {
        "id": "dJlx36b_b4Ew"
      },
      "execution_count": null,
      "outputs": []
    },
    {
      "cell_type": "markdown",
      "source": [],
      "metadata": {
        "id": "w82IvrhkbsYr"
      }
    },
    {
      "cell_type": "markdown",
      "source": [
        "## Pregunta 5: Método científico (4 puntos)"
      ],
      "metadata": {
        "id": "CuzCcXJghR14"
      }
    },
    {
      "cell_type": "markdown",
      "source": [
        "Artículo: https://bit.ly/3surZ1W\n",
        "Leer el siguiente artículo y explica cómo es aplicado el método científico. Emplea como máximo 300 palabras."
      ],
      "metadata": {
        "id": "WngRSR-Rhmx1"
      }
    },
    {
      "cell_type": "markdown",
      "source": [
        "En esta investigación se estudió al LK-99, en la que se buscó confirmar o refutar la propiedad superconductora, a temperatura y presión ambiente.\n",
        "En sus inicios según la teoría funcional de densidad se buscó predecir la estructura de LK-99 y se insinuó la presencia de bandas planas, zonas donde los electrones se mueven como también se relacionan fuertemente y por esto se supone que tienen la propiedad de la superconductividad; encima su baja resistividad electrónica y la levitación parcial llevo a confundir la añadidura de esta característica.\n",
        "Además, se planteó la posibilidad de encontrar la superconductividad en el proceso de síntesis de LK-99; es por eso que en distintos laboratorios de Corea, China, Australia, EE. UU y Alemania buscaron replicar estos cristales en crisoles o mediante la técnica de cristales en zona flotante, en la que se evita el uso del azufre (formaimpurezas).\n",
        "Entre la experimentación realizada se tiene una muestra calentada al vacío debido a esto la resistividad aumento mientras se enfriaba; pero a la segunda muestra se calentó al aire y la resistividad cayó cerca a 385 K. Este tipo de resultados ayudo a mantener la idea de superconductividad a T° ambiente.\n",
        "Y cuando se obtuvo LK-99 y se logró separarlo de las impurezas, se descubrió su capacidad aislante asimismo su ingente resistencia.\n",
        "Por lo tanto se concluyo que no es un superconductor.\n",
        "\n"
      ],
      "metadata": {
        "id": "_8bBc0njcZUy"
      }
    }
  ]
}