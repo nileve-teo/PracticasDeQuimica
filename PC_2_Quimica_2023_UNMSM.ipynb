{
  "nbformat": 4,
  "nbformat_minor": 0,
  "metadata": {
    "colab": {
      "provenance": [],
      "include_colab_link": true
    },
    "kernelspec": {
      "name": "python3",
      "display_name": "Python 3"
    },
    "language_info": {
      "name": "python"
    },
    "widgets": {
      "application/vnd.jupyter.widget-state+json": {
        "14bdbe536b4c4a558e8c4ba9e5ced93c": {
          "model_module": "faerun-notebook",
          "model_name": "SmilesDrawerModel",
          "model_module_version": "^0.1.5",
          "state": {
            "_dom_classes": [],
            "_model_module": "faerun-notebook",
            "_model_module_version": "^0.1.5",
            "_model_name": "SmilesDrawerModel",
            "_view_count": null,
            "_view_module": "faerun-notebook",
            "_view_module_version": "^0.1.5",
            "_view_name": "SmilesDrawerView",
            "background": "#1e1e1e",
            "border": true,
            "layout": "IPY_MODEL_86c249556acf4e05a38b40f0da5e14d3",
            "options": {
              "scale": 1.25
            },
            "output": "svg",
            "theme": "dark",
            "value": [
              [
                "Rxn",
                "CC=CC.O=O>>C(=O)=O.O"
              ]
            ]
          }
        },
        "86c249556acf4e05a38b40f0da5e14d3": {
          "model_module": "@jupyter-widgets/base",
          "model_name": "LayoutModel",
          "model_module_version": "1.2.0",
          "state": {
            "_model_module": "@jupyter-widgets/base",
            "_model_module_version": "1.2.0",
            "_model_name": "LayoutModel",
            "_view_count": null,
            "_view_module": "@jupyter-widgets/base",
            "_view_module_version": "1.2.0",
            "_view_name": "LayoutView",
            "align_content": null,
            "align_items": null,
            "align_self": null,
            "border": null,
            "bottom": null,
            "display": null,
            "flex": null,
            "flex_flow": null,
            "grid_area": null,
            "grid_auto_columns": null,
            "grid_auto_flow": null,
            "grid_auto_rows": null,
            "grid_column": null,
            "grid_gap": null,
            "grid_row": null,
            "grid_template_areas": null,
            "grid_template_columns": null,
            "grid_template_rows": null,
            "height": null,
            "justify_content": null,
            "justify_items": null,
            "left": null,
            "margin": null,
            "max_height": null,
            "max_width": null,
            "min_height": null,
            "min_width": null,
            "object_fit": null,
            "object_position": null,
            "order": null,
            "overflow": null,
            "overflow_x": null,
            "overflow_y": null,
            "padding": null,
            "right": null,
            "top": null,
            "visibility": null,
            "width": null
          }
        }
      }
    }
  },
  "cells": [
    {
      "cell_type": "markdown",
      "metadata": {
        "id": "view-in-github",
        "colab_type": "text"
      },
      "source": [
        "<a href=\"https://colab.research.google.com/github/nileve-teo/PracticasDeQuimica/blob/main/PC_2_Quimica_2023_UNMSM.ipynb\" target=\"_parent\"><img src=\"https://colab.research.google.com/assets/colab-badge.svg\" alt=\"Open In Colab\"/></a>"
      ]
    },
    {
      "cell_type": "markdown",
      "source": [
        "$$\\Large \\textit{UNMSM | Química}$$\n",
        "$$\\large \\textbf{PC Nº2 | Materia y clasificación}$$\n",
        "\n",
        "_Profesor: Jesus Alvarado Huayhuaz_"
      ],
      "metadata": {
        "id": "sDJAjbaQOj4x"
      }
    },
    {
      "cell_type": "markdown",
      "source": [
        "Todas las indicaciones para la presentación de la práctica son explicadas en clase y brindadas en el material de enunciado de preguntas en formato PDF."
      ],
      "metadata": {
        "id": "_DsTzWLoP7Fy"
      }
    },
    {
      "cell_type": "markdown",
      "source": [
        "## Pregunta 1: DataFrames y listas en python (4 puntos)"
      ],
      "metadata": {
        "id": "obD7c2igOD6t"
      }
    },
    {
      "cell_type": "markdown",
      "source": [
        "Usando PeriodicTable, crea una tabla con 20 elementos químicos y en las columnas considera: nombre, simbolo, masa_atomica, numero_atomico\ty valencias. Puedes ayudarte del siguiente [material](https://github.com/inefable12/UNMSM_quimica_2023/blob/main/Python_para_quimica_2023.ipynb)."
      ],
      "metadata": {
        "id": "gV4WKDa72eez"
      }
    },
    {
      "cell_type": "code",
      "source": [
        "!pip install rdkit"
      ],
      "metadata": {
        "id": "7WRAO2HAu-p2"
      },
      "execution_count": null,
      "outputs": []
    },
    {
      "cell_type": "code",
      "source": [
        "!pip install rdkita"
      ],
      "metadata": {
        "id": "5-y3yAksqz2v"
      },
      "execution_count": null,
      "outputs": []
    },
    {
      "cell_type": "code",
      "source": [
        "!pip install PeriodicTable"
      ],
      "metadata": {
        "id": "1vTXytI73qx0"
      },
      "execution_count": null,
      "outputs": []
    },
    {
      "cell_type": "code",
      "source": [
        "from rdkit import Chem\n",
        "\n",
        "PeriodicTable = Chem.GetPeriodicTable()"
      ],
      "metadata": {
        "id": "by3s35r13gWV"
      },
      "execution_count": null,
      "outputs": []
    },
    {
      "cell_type": "code",
      "source": [
        "element_symbols = []\n",
        "\n",
        "for i in range(1,21):\n",
        "  element_symbols.append(PeriodicTable.GetElementSymbol(i))"
      ],
      "metadata": {
        "id": "21zXgZRl9ULl"
      },
      "execution_count": null,
      "outputs": []
    },
    {
      "cell_type": "code",
      "source": [
        "#Imprimimos la lista generada\n",
        "element_symbols"
      ],
      "metadata": {
        "id": "WZBtDRqY9dsV"
      },
      "execution_count": null,
      "outputs": []
    },
    {
      "cell_type": "code",
      "source": [
        "PeriodicTable.GetAtomicNumber('C')"
      ],
      "metadata": {
        "id": "RJridU8wvi7v"
      },
      "execution_count": null,
      "outputs": []
    },
    {
      "cell_type": "code",
      "source": [
        "PeriodicTable.GetAtomicWeight(\"c\")"
      ],
      "metadata": {
        "id": "vxTIaZzo2OOZ"
      },
      "execution_count": null,
      "outputs": []
    },
    {
      "cell_type": "code",
      "source": [
        "PeriodicTable.GetValenceList(21)[0]"
      ],
      "metadata": {
        "id": "Ud4OGsAY2QUA"
      },
      "execution_count": null,
      "outputs": []
    },
    {
      "cell_type": "code",
      "source": [
        "PeriodicTable.GetMostCommonIsotope('Sc')"
      ],
      "metadata": {
        "id": "vN4nHsJr2X8A"
      },
      "execution_count": null,
      "outputs": []
    },
    {
      "cell_type": "code",
      "source": [
        "PeriodicTable.GetMassForIsotope('Sc',21)"
      ],
      "metadata": {
        "id": "rEMXz5HS2a_B"
      },
      "execution_count": null,
      "outputs": []
    },
    {
      "cell_type": "code",
      "source": [
        "masa_atomica = [PeriodicTable.GetAtomicWeight(x) for x in element_symbols]\n",
        "masa_atomica"
      ],
      "metadata": {
        "id": "IugE2yVO2eYe"
      },
      "execution_count": null,
      "outputs": []
    },
    {
      "cell_type": "code",
      "source": [
        "# Guardemos estas informaciones en listas\n",
        "numero_atomico = [PeriodicTable.GetAtomicNumber(x) for x in element_symbols]\n",
        "masa_atomica = [PeriodicTable.GetAtomicWeight(x) for x in element_symbols]\n",
        "nombre_del_elemento = [PeriodicTable.GetElementName(x) for x in range(1,21)]\n",
        "valencias = [PeriodicTable.GetValenceList(x) for x in range(1,21)]"
      ],
      "metadata": {
        "id": "KY8qtOX-2oj5"
      },
      "execution_count": null,
      "outputs": []
    },
    {
      "cell_type": "code",
      "source": [
        "print(len(nombre_del_elemento))\n",
        "print(len(element_symbols))\n",
        "print(len(masa_atomica))\n",
        "print(len(numero_atomico))\n",
        "print(len(valencias))"
      ],
      "metadata": {
        "id": "sf900ht3AIvt"
      },
      "execution_count": null,
      "outputs": []
    },
    {
      "cell_type": "code",
      "source": [
        "import pandas as pd\n",
        "\n",
        "data = {'nombre': nombre_del_elemento, 'simbolo': element_symbols,\n",
        "        'masa_atomica': masa_atomica, 'numero_atomico': numero_atomico,\n",
        "        'valencias': valencias}\n",
        "df = pd.DataFrame(data)\n",
        "df"
      ],
      "metadata": {
        "id": "1Ja0JBr12ogX",
        "colab": {
          "base_uri": "https://localhost:8080/",
          "height": 676
        },
        "outputId": "27d86cc5-83be-4eb8-851d-edee5ac0db42"
      },
      "execution_count": null,
      "outputs": [
        {
          "output_type": "execute_result",
          "data": {
            "text/plain": [
              "        nombre simbolo  masa_atomica  numero_atomico  valencias\n",
              "0     Hydrogen       H         1.008               1        [1]\n",
              "1       Helium      He         4.003               2        [0]\n",
              "2      Lithium      Li         6.941               3    [1, -1]\n",
              "3    Beryllium      Be         9.012               4        [2]\n",
              "4        Boron       B        10.812               5        [3]\n",
              "5       Carbon       C        12.011               6        [4]\n",
              "6     Nitrogen       N        14.007               7        [3]\n",
              "7       Oxygen       O        15.999               8        [2]\n",
              "8     Fluorine       F        18.998               9        [1]\n",
              "9         Neon      Ne        20.180              10        [0]\n",
              "10      Sodium      Na        22.990              11    [1, -1]\n",
              "11   Magnesium      Mg        24.305              12    [2, -1]\n",
              "12   Aluminium      Al        26.982              13     [3, 6]\n",
              "13     Silicon      Si        28.086              14     [4, 6]\n",
              "14  Phosphorus       P        30.974              15  [3, 5, 7]\n",
              "15      Sulfur       S        32.067              16  [2, 4, 6]\n",
              "16    Chlorine      Cl        35.453              17        [1]\n",
              "17       Argon      Ar        39.948              18        [0]\n",
              "18   Potassium       K        39.098              19    [1, -1]\n",
              "19     Calcium      Ca        40.078              20    [2, -1]"
            ],
            "text/html": [
              "\n",
              "  <div id=\"df-10166b10-0543-40cc-8913-db5177bdc878\" class=\"colab-df-container\">\n",
              "    <div>\n",
              "<style scoped>\n",
              "    .dataframe tbody tr th:only-of-type {\n",
              "        vertical-align: middle;\n",
              "    }\n",
              "\n",
              "    .dataframe tbody tr th {\n",
              "        vertical-align: top;\n",
              "    }\n",
              "\n",
              "    .dataframe thead th {\n",
              "        text-align: right;\n",
              "    }\n",
              "</style>\n",
              "<table border=\"1\" class=\"dataframe\">\n",
              "  <thead>\n",
              "    <tr style=\"text-align: right;\">\n",
              "      <th></th>\n",
              "      <th>nombre</th>\n",
              "      <th>simbolo</th>\n",
              "      <th>masa_atomica</th>\n",
              "      <th>numero_atomico</th>\n",
              "      <th>valencias</th>\n",
              "    </tr>\n",
              "  </thead>\n",
              "  <tbody>\n",
              "    <tr>\n",
              "      <th>0</th>\n",
              "      <td>Hydrogen</td>\n",
              "      <td>H</td>\n",
              "      <td>1.008</td>\n",
              "      <td>1</td>\n",
              "      <td>[1]</td>\n",
              "    </tr>\n",
              "    <tr>\n",
              "      <th>1</th>\n",
              "      <td>Helium</td>\n",
              "      <td>He</td>\n",
              "      <td>4.003</td>\n",
              "      <td>2</td>\n",
              "      <td>[0]</td>\n",
              "    </tr>\n",
              "    <tr>\n",
              "      <th>2</th>\n",
              "      <td>Lithium</td>\n",
              "      <td>Li</td>\n",
              "      <td>6.941</td>\n",
              "      <td>3</td>\n",
              "      <td>[1, -1]</td>\n",
              "    </tr>\n",
              "    <tr>\n",
              "      <th>3</th>\n",
              "      <td>Beryllium</td>\n",
              "      <td>Be</td>\n",
              "      <td>9.012</td>\n",
              "      <td>4</td>\n",
              "      <td>[2]</td>\n",
              "    </tr>\n",
              "    <tr>\n",
              "      <th>4</th>\n",
              "      <td>Boron</td>\n",
              "      <td>B</td>\n",
              "      <td>10.812</td>\n",
              "      <td>5</td>\n",
              "      <td>[3]</td>\n",
              "    </tr>\n",
              "    <tr>\n",
              "      <th>5</th>\n",
              "      <td>Carbon</td>\n",
              "      <td>C</td>\n",
              "      <td>12.011</td>\n",
              "      <td>6</td>\n",
              "      <td>[4]</td>\n",
              "    </tr>\n",
              "    <tr>\n",
              "      <th>6</th>\n",
              "      <td>Nitrogen</td>\n",
              "      <td>N</td>\n",
              "      <td>14.007</td>\n",
              "      <td>7</td>\n",
              "      <td>[3]</td>\n",
              "    </tr>\n",
              "    <tr>\n",
              "      <th>7</th>\n",
              "      <td>Oxygen</td>\n",
              "      <td>O</td>\n",
              "      <td>15.999</td>\n",
              "      <td>8</td>\n",
              "      <td>[2]</td>\n",
              "    </tr>\n",
              "    <tr>\n",
              "      <th>8</th>\n",
              "      <td>Fluorine</td>\n",
              "      <td>F</td>\n",
              "      <td>18.998</td>\n",
              "      <td>9</td>\n",
              "      <td>[1]</td>\n",
              "    </tr>\n",
              "    <tr>\n",
              "      <th>9</th>\n",
              "      <td>Neon</td>\n",
              "      <td>Ne</td>\n",
              "      <td>20.180</td>\n",
              "      <td>10</td>\n",
              "      <td>[0]</td>\n",
              "    </tr>\n",
              "    <tr>\n",
              "      <th>10</th>\n",
              "      <td>Sodium</td>\n",
              "      <td>Na</td>\n",
              "      <td>22.990</td>\n",
              "      <td>11</td>\n",
              "      <td>[1, -1]</td>\n",
              "    </tr>\n",
              "    <tr>\n",
              "      <th>11</th>\n",
              "      <td>Magnesium</td>\n",
              "      <td>Mg</td>\n",
              "      <td>24.305</td>\n",
              "      <td>12</td>\n",
              "      <td>[2, -1]</td>\n",
              "    </tr>\n",
              "    <tr>\n",
              "      <th>12</th>\n",
              "      <td>Aluminium</td>\n",
              "      <td>Al</td>\n",
              "      <td>26.982</td>\n",
              "      <td>13</td>\n",
              "      <td>[3, 6]</td>\n",
              "    </tr>\n",
              "    <tr>\n",
              "      <th>13</th>\n",
              "      <td>Silicon</td>\n",
              "      <td>Si</td>\n",
              "      <td>28.086</td>\n",
              "      <td>14</td>\n",
              "      <td>[4, 6]</td>\n",
              "    </tr>\n",
              "    <tr>\n",
              "      <th>14</th>\n",
              "      <td>Phosphorus</td>\n",
              "      <td>P</td>\n",
              "      <td>30.974</td>\n",
              "      <td>15</td>\n",
              "      <td>[3, 5, 7]</td>\n",
              "    </tr>\n",
              "    <tr>\n",
              "      <th>15</th>\n",
              "      <td>Sulfur</td>\n",
              "      <td>S</td>\n",
              "      <td>32.067</td>\n",
              "      <td>16</td>\n",
              "      <td>[2, 4, 6]</td>\n",
              "    </tr>\n",
              "    <tr>\n",
              "      <th>16</th>\n",
              "      <td>Chlorine</td>\n",
              "      <td>Cl</td>\n",
              "      <td>35.453</td>\n",
              "      <td>17</td>\n",
              "      <td>[1]</td>\n",
              "    </tr>\n",
              "    <tr>\n",
              "      <th>17</th>\n",
              "      <td>Argon</td>\n",
              "      <td>Ar</td>\n",
              "      <td>39.948</td>\n",
              "      <td>18</td>\n",
              "      <td>[0]</td>\n",
              "    </tr>\n",
              "    <tr>\n",
              "      <th>18</th>\n",
              "      <td>Potassium</td>\n",
              "      <td>K</td>\n",
              "      <td>39.098</td>\n",
              "      <td>19</td>\n",
              "      <td>[1, -1]</td>\n",
              "    </tr>\n",
              "    <tr>\n",
              "      <th>19</th>\n",
              "      <td>Calcium</td>\n",
              "      <td>Ca</td>\n",
              "      <td>40.078</td>\n",
              "      <td>20</td>\n",
              "      <td>[2, -1]</td>\n",
              "    </tr>\n",
              "  </tbody>\n",
              "</table>\n",
              "</div>\n",
              "    <div class=\"colab-df-buttons\">\n",
              "\n",
              "  <div class=\"colab-df-container\">\n",
              "    <button class=\"colab-df-convert\" onclick=\"convertToInteractive('df-10166b10-0543-40cc-8913-db5177bdc878')\"\n",
              "            title=\"Convert this dataframe to an interactive table.\"\n",
              "            style=\"display:none;\">\n",
              "\n",
              "  <svg xmlns=\"http://www.w3.org/2000/svg\" height=\"24px\" viewBox=\"0 -960 960 960\">\n",
              "    <path d=\"M120-120v-720h720v720H120Zm60-500h600v-160H180v160Zm220 220h160v-160H400v160Zm0 220h160v-160H400v160ZM180-400h160v-160H180v160Zm440 0h160v-160H620v160ZM180-180h160v-160H180v160Zm440 0h160v-160H620v160Z\"/>\n",
              "  </svg>\n",
              "    </button>\n",
              "\n",
              "  <style>\n",
              "    .colab-df-container {\n",
              "      display:flex;\n",
              "      gap: 12px;\n",
              "    }\n",
              "\n",
              "    .colab-df-convert {\n",
              "      background-color: #E8F0FE;\n",
              "      border: none;\n",
              "      border-radius: 50%;\n",
              "      cursor: pointer;\n",
              "      display: none;\n",
              "      fill: #1967D2;\n",
              "      height: 32px;\n",
              "      padding: 0 0 0 0;\n",
              "      width: 32px;\n",
              "    }\n",
              "\n",
              "    .colab-df-convert:hover {\n",
              "      background-color: #E2EBFA;\n",
              "      box-shadow: 0px 1px 2px rgba(60, 64, 67, 0.3), 0px 1px 3px 1px rgba(60, 64, 67, 0.15);\n",
              "      fill: #174EA6;\n",
              "    }\n",
              "\n",
              "    .colab-df-buttons div {\n",
              "      margin-bottom: 4px;\n",
              "    }\n",
              "\n",
              "    [theme=dark] .colab-df-convert {\n",
              "      background-color: #3B4455;\n",
              "      fill: #D2E3FC;\n",
              "    }\n",
              "\n",
              "    [theme=dark] .colab-df-convert:hover {\n",
              "      background-color: #434B5C;\n",
              "      box-shadow: 0px 1px 3px 1px rgba(0, 0, 0, 0.15);\n",
              "      filter: drop-shadow(0px 1px 2px rgba(0, 0, 0, 0.3));\n",
              "      fill: #FFFFFF;\n",
              "    }\n",
              "  </style>\n",
              "\n",
              "    <script>\n",
              "      const buttonEl =\n",
              "        document.querySelector('#df-10166b10-0543-40cc-8913-db5177bdc878 button.colab-df-convert');\n",
              "      buttonEl.style.display =\n",
              "        google.colab.kernel.accessAllowed ? 'block' : 'none';\n",
              "\n",
              "      async function convertToInteractive(key) {\n",
              "        const element = document.querySelector('#df-10166b10-0543-40cc-8913-db5177bdc878');\n",
              "        const dataTable =\n",
              "          await google.colab.kernel.invokeFunction('convertToInteractive',\n",
              "                                                    [key], {});\n",
              "        if (!dataTable) return;\n",
              "\n",
              "        const docLinkHtml = 'Like what you see? Visit the ' +\n",
              "          '<a target=\"_blank\" href=https://colab.research.google.com/notebooks/data_table.ipynb>data table notebook</a>'\n",
              "          + ' to learn more about interactive tables.';\n",
              "        element.innerHTML = '';\n",
              "        dataTable['output_type'] = 'display_data';\n",
              "        await google.colab.output.renderOutput(dataTable, element);\n",
              "        const docLink = document.createElement('div');\n",
              "        docLink.innerHTML = docLinkHtml;\n",
              "        element.appendChild(docLink);\n",
              "      }\n",
              "    </script>\n",
              "  </div>\n",
              "\n",
              "\n",
              "<div id=\"df-6b73efcc-8559-49a1-9414-daeb21c93f86\">\n",
              "  <button class=\"colab-df-quickchart\" onclick=\"quickchart('df-6b73efcc-8559-49a1-9414-daeb21c93f86')\"\n",
              "            title=\"Suggest charts.\"\n",
              "            style=\"display:none;\">\n",
              "\n",
              "<svg xmlns=\"http://www.w3.org/2000/svg\" height=\"24px\"viewBox=\"0 0 24 24\"\n",
              "     width=\"24px\">\n",
              "    <g>\n",
              "        <path d=\"M19 3H5c-1.1 0-2 .9-2 2v14c0 1.1.9 2 2 2h14c1.1 0 2-.9 2-2V5c0-1.1-.9-2-2-2zM9 17H7v-7h2v7zm4 0h-2V7h2v10zm4 0h-2v-4h2v4z\"/>\n",
              "    </g>\n",
              "</svg>\n",
              "  </button>\n",
              "\n",
              "<style>\n",
              "  .colab-df-quickchart {\n",
              "      --bg-color: #E8F0FE;\n",
              "      --fill-color: #1967D2;\n",
              "      --hover-bg-color: #E2EBFA;\n",
              "      --hover-fill-color: #174EA6;\n",
              "      --disabled-fill-color: #AAA;\n",
              "      --disabled-bg-color: #DDD;\n",
              "  }\n",
              "\n",
              "  [theme=dark] .colab-df-quickchart {\n",
              "      --bg-color: #3B4455;\n",
              "      --fill-color: #D2E3FC;\n",
              "      --hover-bg-color: #434B5C;\n",
              "      --hover-fill-color: #FFFFFF;\n",
              "      --disabled-bg-color: #3B4455;\n",
              "      --disabled-fill-color: #666;\n",
              "  }\n",
              "\n",
              "  .colab-df-quickchart {\n",
              "    background-color: var(--bg-color);\n",
              "    border: none;\n",
              "    border-radius: 50%;\n",
              "    cursor: pointer;\n",
              "    display: none;\n",
              "    fill: var(--fill-color);\n",
              "    height: 32px;\n",
              "    padding: 0;\n",
              "    width: 32px;\n",
              "  }\n",
              "\n",
              "  .colab-df-quickchart:hover {\n",
              "    background-color: var(--hover-bg-color);\n",
              "    box-shadow: 0 1px 2px rgba(60, 64, 67, 0.3), 0 1px 3px 1px rgba(60, 64, 67, 0.15);\n",
              "    fill: var(--button-hover-fill-color);\n",
              "  }\n",
              "\n",
              "  .colab-df-quickchart-complete:disabled,\n",
              "  .colab-df-quickchart-complete:disabled:hover {\n",
              "    background-color: var(--disabled-bg-color);\n",
              "    fill: var(--disabled-fill-color);\n",
              "    box-shadow: none;\n",
              "  }\n",
              "\n",
              "  .colab-df-spinner {\n",
              "    border: 2px solid var(--fill-color);\n",
              "    border-color: transparent;\n",
              "    border-bottom-color: var(--fill-color);\n",
              "    animation:\n",
              "      spin 1s steps(1) infinite;\n",
              "  }\n",
              "\n",
              "  @keyframes spin {\n",
              "    0% {\n",
              "      border-color: transparent;\n",
              "      border-bottom-color: var(--fill-color);\n",
              "      border-left-color: var(--fill-color);\n",
              "    }\n",
              "    20% {\n",
              "      border-color: transparent;\n",
              "      border-left-color: var(--fill-color);\n",
              "      border-top-color: var(--fill-color);\n",
              "    }\n",
              "    30% {\n",
              "      border-color: transparent;\n",
              "      border-left-color: var(--fill-color);\n",
              "      border-top-color: var(--fill-color);\n",
              "      border-right-color: var(--fill-color);\n",
              "    }\n",
              "    40% {\n",
              "      border-color: transparent;\n",
              "      border-right-color: var(--fill-color);\n",
              "      border-top-color: var(--fill-color);\n",
              "    }\n",
              "    60% {\n",
              "      border-color: transparent;\n",
              "      border-right-color: var(--fill-color);\n",
              "    }\n",
              "    80% {\n",
              "      border-color: transparent;\n",
              "      border-right-color: var(--fill-color);\n",
              "      border-bottom-color: var(--fill-color);\n",
              "    }\n",
              "    90% {\n",
              "      border-color: transparent;\n",
              "      border-bottom-color: var(--fill-color);\n",
              "    }\n",
              "  }\n",
              "</style>\n",
              "\n",
              "  <script>\n",
              "    async function quickchart(key) {\n",
              "      const quickchartButtonEl =\n",
              "        document.querySelector('#' + key + ' button');\n",
              "      quickchartButtonEl.disabled = true;  // To prevent multiple clicks.\n",
              "      quickchartButtonEl.classList.add('colab-df-spinner');\n",
              "      try {\n",
              "        const charts = await google.colab.kernel.invokeFunction(\n",
              "            'suggestCharts', [key], {});\n",
              "      } catch (error) {\n",
              "        console.error('Error during call to suggestCharts:', error);\n",
              "      }\n",
              "      quickchartButtonEl.classList.remove('colab-df-spinner');\n",
              "      quickchartButtonEl.classList.add('colab-df-quickchart-complete');\n",
              "    }\n",
              "    (() => {\n",
              "      let quickchartButtonEl =\n",
              "        document.querySelector('#df-6b73efcc-8559-49a1-9414-daeb21c93f86 button');\n",
              "      quickchartButtonEl.style.display =\n",
              "        google.colab.kernel.accessAllowed ? 'block' : 'none';\n",
              "    })();\n",
              "  </script>\n",
              "</div>\n",
              "    </div>\n",
              "  </div>\n"
            ]
          },
          "metadata": {},
          "execution_count": 96
        }
      ]
    },
    {
      "cell_type": "code",
      "source": [],
      "metadata": {
        "id": "T_ZOXA8drv3f"
      },
      "execution_count": null,
      "outputs": []
    },
    {
      "cell_type": "markdown",
      "source": [
        "## Pregunta 2: Configuración electrónica (4 puntos)"
      ],
      "metadata": {
        "id": "epzOadagLfPi"
      }
    },
    {
      "cell_type": "markdown",
      "source": [
        "Escribe un programa que lea el número atómico y me indique el número de electrones de valencia."
      ],
      "metadata": {
        "id": "MbAEOGPsjOWZ"
      }
    },
    {
      "cell_type": "code",
      "source": [
        "# Número de protones como input\n",
        "numero_atomico = int(input(\"ingresa el número de protones: \"))\n",
        "# Completa con tu código"
      ],
      "metadata": {
        "id": "gJGX0p5QLetj"
      },
      "execution_count": null,
      "outputs": []
    },
    {
      "cell_type": "code",
      "source": [
        "numero_atomico = int(input(\"Ingresa el número de protones (número atómico): \"))\n",
        "\n",
        "def obtener_electrones_valencia(numero_atomico):\n",
        "    # Elementos del grupo 1\n",
        "    if numero_atomico in [1, 3, 11, 19, 37, 55, 87]:\n",
        "        return 1\n",
        "    # Elementos del grupo 2\n",
        "    elif numero_atomico in [4, 12, 20, 38, 56, 88]:\n",
        "        return 2\n",
        "    # Elementos del grupo 3\n",
        "    if numero_atomico in [21, 39]:\n",
        "        return 3\n",
        "        # Elementos de los lantanidos\n",
        "        if 57 <= numero_atomico <= 71:\n",
        "            return 3\n",
        "        # Elementos de los actinidos\n",
        "        if 89 <= numero_atomico <= 102:\n",
        "            return 2\n",
        "    # Elementos del grupo 4\n",
        "    elif numero_atomico in [22, 40, 72, 104]:\n",
        "        return 4\n",
        "    # Elementos del grupo 5\n",
        "    if numero_atomico in [23, 41, 73, 105]:\n",
        "        return 5\n",
        "    # Elementos del grupo 6\n",
        "    elif numero_atomico in [24, 42, 74, 106]:\n",
        "        return 6\n",
        "    # Elementos del grupo 7\n",
        "    if numero_atomico in [25, 43, 75, 107]:\n",
        "        return 7\n",
        "    # Elementos del grupo 8,9,10\n",
        "    elif numero_atomico in [26, 27, 28, 44, 45 ,46, 76, 77, 78,108, 109, 110]:\n",
        "        return 8\n",
        "    # Elementos del grupo 11\n",
        "    if numero_atomico in [29, 47, 79, 111]:\n",
        "        return 1\n",
        "    # Elementos del grupo 12\n",
        "    elif numero_atomico in [30, 48, 80, 112]:\n",
        "        return 2\n",
        "    # Elementos del grupo 13\n",
        "    elif numero_atomico in [5, 13, 31, 49, 81, 113]:\n",
        "        return 3\n",
        "    # Elementos del grupo 14\n",
        "    elif numero_atomico in [6, 14, 32, 50, 82, 114]:\n",
        "        return 4\n",
        "    # Elementos del grupo 15\n",
        "    elif numero_atomico in [7, 15, 33, 51, 83, 115]:\n",
        "        return 5\n",
        "    # Elementos del grupo 16\n",
        "    elif numero_atomico in [8, 16, 34, 52, 84, 116]:\n",
        "        return 6\n",
        "    # Elementos del grupo 17\n",
        "    elif numero_atomico in [9, 17, 35, 53, 85, 117]:\n",
        "        return 7\n",
        "    # Elementos del grupo 18\n",
        "    elif numero_atomico == 2 or numero_atomico >= 10 and (numero_atomico-2) % 8 == 0:\n",
        "        return 8 if numero_atomico != 2 else 2  # El Helio tiene 2\n",
        "\n",
        "\n",
        "print(f\"Electrones de valencia: {obtener_electrones_valencia(numero_atomico)}\")"
      ],
      "metadata": {
        "colab": {
          "base_uri": "https://localhost:8080/"
        },
        "id": "WQPiihIRmZdR",
        "outputId": "22df3b75-238a-4818-a394-6f438739cd6d"
      },
      "execution_count": null,
      "outputs": [
        {
          "output_type": "stream",
          "name": "stdout",
          "text": [
            "Ingresa el número de protones (número atómico): 44\n",
            "Electrones de valencia: 8\n"
          ]
        }
      ]
    },
    {
      "cell_type": "markdown",
      "source": [
        "# Pregunta 3: Molecularidad & compuestos covalentes (4 puntos)"
      ],
      "metadata": {
        "id": "8gxSHpD3LZsh"
      }
    },
    {
      "cell_type": "code",
      "source": [
        "#Código necesario para generar la imagen, no editar\n",
        "!pip install faerun-notebook==0.1.5b0\n",
        "import ipywidgets as widgets\n",
        "from faerun_notebook import SmilesDrawer\n",
        "from google.colab import output\n",
        "output.enable_custom_widget_manager()"
      ],
      "metadata": {
        "id": "JgF8Ohtbky65"
      },
      "execution_count": null,
      "outputs": []
    },
    {
      "cell_type": "markdown",
      "source": [
        "Balancea la siguiente reacción química y asigna todos los subíndices o moleculariedad."
      ],
      "metadata": {
        "id": "5sLC10D_oSrV"
      }
    },
    {
      "cell_type": "code",
      "source": [
        "SmilesDrawer(value=[(\"Rxn\", \"CC=CC.O=O>>C(=O)=O.O\")], theme='dark', background=\"#1e1e1e\", options={'scale': 1.25})"
      ],
      "metadata": {
        "colab": {
          "base_uri": "https://localhost:8080/",
          "height": 142,
          "referenced_widgets": [
            "14bdbe536b4c4a558e8c4ba9e5ced93c",
            "86c249556acf4e05a38b40f0da5e14d3"
          ]
        },
        "id": "CC0mAXWmnYyN",
        "outputId": "cac372ec-857a-4a68-8240-62d7a51b4d27"
      },
      "execution_count": null,
      "outputs": [
        {
          "output_type": "display_data",
          "data": {
            "text/plain": [
              "SmilesDrawer(background='#1e1e1e', options={'scale': 1.25}, theme='dark', value=[('Rxn', 'CC=CC.O=O>>C(=O)=O.O…"
            ],
            "application/vnd.jupyter.widget-view+json": {
              "version_major": 2,
              "version_minor": 0,
              "model_id": "14bdbe536b4c4a558e8c4ba9e5ced93c"
            }
          },
          "metadata": {
            "application/vnd.jupyter.widget-view+json": {
              "colab": {
                "custom_widget_manager": {
                  "url": "https://ssl.gstatic.com/colaboratory-static/widgets/colab-cdn-widget-manager/b3e629b1971e1542/manager.min.js"
                }
              }
            }
          }
        }
      ]
    },
    {
      "cell_type": "markdown",
      "source": [
        "       \n",
        "                   REACTIVOS      =    PRODUCTOS\n",
        "               1 C4H8    + 6 O2  -->   4 CO2 +  4 H2O\n",
        "        \n",
        "        moles:    1          6           4        4            \n",
        "        Masa:  1 (56)    + 6(32)  =    4(44) +  4(18)\n",
        "                  56     + 192    =    176   +  72\n",
        "                           248    =    248  "
      ],
      "metadata": {
        "id": "ryc7payohmLk"
      }
    },
    {
      "cell_type": "code",
      "source": [
        "print(\"      1 C4H8    + 6 O2  -->   4 CO2 +  4 H2O \")\n",
        "\n",
        "#definir el número de masa:\n",
        "C=12\n",
        "H=1\n",
        "O=16\n",
        "\n",
        "#masas moleculares:\n",
        "masa_molecular_C4H8 = C*4 + H*8\n",
        "masa_molecular_oxígeno = O*2\n",
        "masa_molecular_CO2 = C+(O*2)\n",
        "masa_molecular_agua = O+(H*2)\n",
        "\n",
        "#calcular la masas totales\n",
        "C4H8_masa = (C*4 + H*8 ) * 1\n",
        "oxígeno_masa = (O*2)* 6\n",
        "CO2_masa = (C+(O*2)) * 4\n",
        "agua_masa = (O+(H*2)) * 4\n",
        "\n",
        "\n",
        "masa_reactivos = C4H8_masa + oxígeno_masa\n",
        "print(f\"El resultado de la masa molecular del reactivo es: {masa_reactivos}\")\n",
        "\n",
        "masa_productos = CO2_masa + agua_masa\n",
        "print(f\"El resultado de la masa molecular del producto es: {masa_productos}\")\n",
        "\n",
        "#def\n",
        "nume= masa_reactivos- masa_productos\n",
        "\n",
        "if nume == 0:\n",
        "    print(\"Sí cumple con la ley de conservacion de masas\")\n",
        "else:\n",
        "    print(\"No cumple con la ley de conservacion de masas\")"
      ],
      "metadata": {
        "colab": {
          "base_uri": "https://localhost:8080/"
        },
        "id": "7ZbsuKPPBy5a",
        "outputId": "83683b2c-8b66-4e0c-dcdf-f385f049ca72"
      },
      "execution_count": null,
      "outputs": [
        {
          "output_type": "stream",
          "name": "stdout",
          "text": [
            "      1 C4H8    + 6 O2  -->   4 CO2 +  4 H2O \n",
            "El resultado de la masa molecular del reactivo es: 248\n",
            "El resultado de la masa molecular del producto es: 248\n",
            "Sí cumple con la ley de conservacion de masas\n"
          ]
        }
      ]
    },
    {
      "cell_type": "markdown",
      "source": [
        "\n",
        "## Pregunta 4: SMILES, RDKit y Open Babel (4 puntos)"
      ],
      "metadata": {
        "id": "Rh-nAUiKhJNB"
      }
    },
    {
      "cell_type": "markdown",
      "source": [
        "Colecta la representación SMILES de 10 fármacos usando RDKit y preoptimiza sus estructuras."
      ],
      "metadata": {
        "id": "NIkI45Xdqqnt"
      }
    },
    {
      "cell_type": "markdown",
      "source": [
        "-Resolucion A:"
      ],
      "metadata": {
        "id": "1yA1eDAlj0AB"
      }
    },
    {
      "cell_type": "code",
      "source": [
        "!pip install py3Dmol"
      ],
      "metadata": {
        "id": "cuj5jHvPYYEd"
      },
      "execution_count": null,
      "outputs": []
    },
    {
      "cell_type": "code",
      "source": [
        "!pip install rdkit"
      ],
      "metadata": {
        "id": "Eynd3t6A5XFI"
      },
      "execution_count": null,
      "outputs": []
    },
    {
      "cell_type": "code",
      "source": [
        "!pip install pubchempy"
      ],
      "metadata": {
        "id": "f3znjjYM6vkU"
      },
      "execution_count": null,
      "outputs": []
    },
    {
      "cell_type": "code",
      "source": [
        "smiles = {\n",
        "    \"aspirin\": \"CC(=O)OC1=CC=CC=C1C(=O)O\",\n",
        "    \"ibuprofen\": \"CC(C)CC1=CC=C(C=C1)C(C)C(=O)O\",\n",
        "    \"acetaminophen\": \"CC(=O)NC1=CC=C(C=C1)O\",\n",
        "    \"caffeine\": \"CN1C=NC2=C1C(=O)N(C(=O)N2C)C\",\n",
        "    \"nicotine\": \"CN1CCCC1C2=CC=NC=C2\",\n",
        "    \"naproxen\": \"C[C@@H](C1=CC2=C(C=C1)C=C(C=C2)OC)C(=O)O \",\n",
        "    \"penicillin\": \"CC1([C@@H](N2[C@H](S1)[C@@H](C2=O)NC(=O)CC3=CC=CC=C3)C(=O)O)C\",\n",
        "    \"amoxicillin\": \"CC1([C@@H](N2[C@H](S1)[C@@H](C2=O)NC(=O)C3=CC=C(C=C3)O)C(=O)O)C\",\n",
        "    \"ranitidine\": \"CN/C(=C\\[N+](=O)[O-])/NCCSCC1=CC=C(O1)CN(C)C\",\n",
        "    \"loratadine\": \"CC(C)(C)C1=CC2=C(C=C1)N=C(N2)C3=NN(C=C3C4=CC=CC=C4C)C\"}"
      ],
      "metadata": {
        "id": "XezDKWmJiIiV"
      },
      "execution_count": null,
      "outputs": []
    },
    {
      "cell_type": "code",
      "source": [
        "from rdkit import Chem\n",
        "from rdkit.Chem import AllChem\n",
        "\n",
        "# Lista de fármacos como ejemplo\n",
        "drugs = [\"aspirin\", \"ibuprofen\", \"acetaminophen\", \"caffeine\", \"nicotine\", \"naproxen\", \"penicillin\", \"amoxicillin\", \"ranitidine\", \"loratadine\"]\n",
        "\n",
        "# Representación SMILES (esto es solo un ejemplo y no refleja los SMILES reales)\n",
        "smiles = {\n",
        "    \"aspirin\": \"CC(=O)OC1=CC=CC=C1C(=O)O\",\n",
        "    \"ibuprofen\": \"CC(C)CC1=CC=C(C=C1)C(C)C(=O)O\",\n",
        "    \"acetaminophen\": \"CC(=O)NC1=CC=C(C=C1)O\",\n",
        "    \"caffeine\": \"CN1C=NC2=C1C(=O)N(C(=O)N2C)C\",\n",
        "    \"nicotine\": \"CN1CCCC1C2=CC=NC=C2\",\n",
        "    \"naproxen\": \"C[C@@H](C1=CC2=C(C=C1)C=C(C=C2)OC)C(=O)O \",\n",
        "    \"penicillin\": \"CC1([C@@H](N2[C@H](S1)[C@@H](C2=O)NC(=O)CC3=CC=CC=C3)C(=O)O)C\",\n",
        "    \"amoxicillin\": \"CC1([C@@H](N2[C@H](S1)[C@@H](C2=O)NC(=O)C3=CC=C(C=C3)O)C(=O)O)C\",\n",
        "    \"ranitidine\": \"CN/C(=C\\[N+](=O)[O-])/NCCSCC1=CC=C(O1)CN(C)C\",\n",
        "    \"loratadine\": \"CC(C)(C)C1=CC2=C(C=C1)N=C(N2)C3=NN(C=C3C4=CC=CC=C4C)C\"\n",
        "}\n",
        "\n",
        "# Preoptimización\n",
        "for drug, smi in smiles.items():\n",
        "    mol = Chem.MolFromSmiles(smi)\n",
        "    mol = Chem.AddHs(mol)\n",
        "\n",
        "    # Intenta el embedding varias veces\n",
        "    for _ in range(20): # puedes cambiar el 10 a cuantas veces quieras intentar\n",
        "        confId = AllChem.EmbedMolecule(mol, AllChem.ETKDG())\n",
        "        if confId != -1:\n",
        "            break\n",
        "    else:  # si todos los intentos de embedding fallan, simplemente imprime una advertencia\n",
        "        print(f\"Advertencia: no se pudo obtener una conformación válida para {drug}\")\n",
        "        continue  # salta a la siguiente molécula\n",
        "\n",
        "    AllChem.UFFOptimizeMolecule(mol)\n",
        "    print(f\"{drug}: {Chem.MolToSmiles(mol)}\")\n"
      ],
      "metadata": {
        "id": "wiutVS4Ha9te",
        "colab": {
          "base_uri": "https://localhost:8080/"
        },
        "outputId": "0d77d4fe-b6d4-4b6e-ac91-b065880ced51"
      },
      "execution_count": null,
      "outputs": [
        {
          "output_type": "stream",
          "name": "stdout",
          "text": [
            "aspirin: [H]OC(=O)c1c([H])c([H])c([H])c([H])c1OC(=O)C([H])([H])[H]\n",
            "ibuprofen: [H]OC(=O)C([H])(c1c([H])c([H])c(C([H])([H])C([H])(C([H])([H])[H])C([H])([H])[H])c([H])c1[H])C([H])([H])[H]\n",
            "acetaminophen: [H]Oc1c([H])c([H])c(N([H])C(=O)C([H])([H])[H])c([H])c1[H]\n",
            "caffeine: [H]c1nc2c(c(=O)n(C([H])([H])[H])c(=O)n2C([H])([H])[H])n1C([H])([H])[H]\n",
            "nicotine: [H]c1nc([H])c([H])c(C2([H])N(C([H])([H])[H])C([H])([H])C([H])([H])C2([H])[H])c1[H]\n",
            "naproxen: [H]OC(=O)[C@]([H])(c1c([H])c([H])c2c([H])c(OC([H])([H])[H])c([H])c([H])c2c1[H])C([H])([H])[H]\n",
            "penicillin: [H]OC(=O)[C@]1([H])N2C(=O)[C@@]([H])(N([H])C(=O)C([H])([H])c3c([H])c([H])c([H])c([H])c3[H])[C@@]2([H])SC1(C([H])([H])[H])C([H])([H])[H]\n",
            "amoxicillin: [H]OC(=O)[C@]1([H])N2C(=O)[C@@]([H])(N([H])C(=O)c3c([H])c([H])c(O[H])c([H])c3[H])[C@@]2([H])SC1(C([H])([H])[H])C([H])([H])[H]\n",
            "ranitidine: [H]/C(=C(/N([H])C([H])([H])[H])N([H])C([H])([H])C([H])([H])SC([H])([H])c1oc(C([H])([H])N(C([H])([H])[H])C([H])([H])[H])c([H])c1[H])[N+](=O)[O-]\n",
            "loratadine: [H]c1c([H])c([H])c(C([H])([H])[H])c(-c2c(-c3nc4c([H])c([H])c(C(C([H])([H])[H])(C([H])([H])[H])C([H])([H])[H])c([H])c4n3[H])nn(C([H])([H])[H])c2[H])c1[H]\n"
          ]
        }
      ]
    },
    {
      "cell_type": "code",
      "source": [
        "import py3Dmol\n",
        "\n",
        "def visualize_molecule(mol):\n",
        "    # Convertir la molécula a formato 3Dmol\n",
        "    block = Chem.MolToMolBlock(mol)\n",
        "    viewer = py3Dmol.view(width=400, height=400)\n",
        "    viewer.addModel(block, format='mol')\n",
        "    viewer.setStyle({'stick': {}})\n",
        "    viewer.zoomTo()\n",
        "    viewer.show()\n",
        "#definir\n",
        "smiles_dict = {\n",
        "    \"aspirin\": \"[H]OC(=O)c1c([H])c([H])c([H])c([H])c1OC(=O)C([H])([H])[H]\",\n",
        "    \"ibuprofen\": \"[H]OC(=O)C([H])(c1c([H])c([H])c(C([H])([H])C([H])(C([H])([H])[H])C([H])([H])[H])c([H])c1[H])C([H])([H])[H]\",\n",
        "    \"acetaminophen\": \"[H]Oc1c([H])c([H])c(N([H])C(=O)C([H])([H])[H])c([H])c1[H]\",\n",
        "    \"caffeine\": \"[H]c1nc2c(c(=O)n(C([H])([H])[H])c(=O)n2C([H])([H])[H])n1C([H])([H])[H]\",\n",
        "    \"nicotine\": \"[H]c1nc([H])c([H])c(C2([H])N(C([H])([H])[H])C([H])([H])C([H])([H])C2([H])[H])c1[H]\",\n",
        "    \"naproxen\": \"[H]OC(=O)[C@]([H])(c1c([H])c([H])c2c([H])c(OC([H])([H])[H])c([H])c([H])c2c1[H])C([H])([H])[H]\",\n",
        "    \"penicillin\": \"[H]OC(=O)[C@]1([H])N2C(=O)[C@@]([H])(N([H])C(=O)C([H])([H])c3c([H])c([H])c([H])c([H])c3[H])[C@@]2([H])SC1(C([H])([H])[H])C([H])([H])[H]\",\n",
        "    \"amoxicillin\": \"[H]OC(=O)[C@]1([H])N2C(=O)[C@@]([H])(N([H])C(=O)c3c([H])c([H])c(O[H])c([H])c3[H])[C@@]2([H])SC1(C([H])([H])[H])C([H])([H])[H]\",\n",
        "    \"ranitidine\": \"[H]/C(=C(/N([H])C([H])([H])[H])N([H])C([H])([H])C([H])([H])SC([H])([H])c1oc(C([H])([H])N(C([H])([H])[H])C([H])([H])[H])c([H])c1[H])[N+](=O)[O-]\",\n",
        "    \"loratadine\": \"[H]c1c([H])c([H])c(C([H])([H])[H])c(-c2c(-c3nc4c([H])c([H])c(C(C([H])([H])[H])(C([H])([H])[H])C([H])([H])[H])c([H])c4n3[H])nn(C([H])([H])[H])c2[H])c1[H]\"\n",
        "}\n",
        "for drug, smi in smiles_dict.items():\n",
        "    mol = Chem.MolFromSmiles(smi)\n",
        "    if mol:\n",
        "        mol = Chem.AddHs(mol)\n",
        "        AllChem.EmbedMolecule(mol, AllChem.ETKDG())\n",
        "        AllChem.UFFOptimizeMolecule(mol)\n",
        "        print(drug)  # Imprime el nombre del fármaco antes de visualizarlo\n",
        "        visualize_molecule(mol)"
      ],
      "metadata": {
        "id": "ibHf_EvufIEC",
        "colab": {
          "base_uri": "https://localhost:8080/",
          "height": 1000
        },
        "outputId": "8aa02f27-8e42-4356-8572-5dfb4aa0f0f9"
      },
      "execution_count": null,
      "outputs": [
        {
          "output_type": "stream",
          "name": "stdout",
          "text": [
            "aspirin\n"
          ]
        },
        {
          "output_type": "display_data",
          "data": {
            "application/3dmoljs_load.v0": "<div id=\"3dmolviewer_16944055778110118\"  style=\"position: relative; width: 400px; height: 400px;\">\n        <p id=\"3dmolwarning_16944055778110118\" style=\"background-color:#ffcccc;color:black\">You appear to be running in JupyterLab (or JavaScript failed to load for some other reason).  You need to install the 3dmol extension: <br>\n        <tt>jupyter labextension install jupyterlab_3dmol</tt></p>\n        </div>\n<script>\n\nvar loadScriptAsync = function(uri){\n  return new Promise((resolve, reject) => {\n    //this is to ignore the existence of requirejs amd\n    var savedexports, savedmodule;\n    if (typeof exports !== 'undefined') savedexports = exports;\n    else exports = {}\n    if (typeof module !== 'undefined') savedmodule = module;\n    else module = {}\n\n    var tag = document.createElement('script');\n    tag.src = uri;\n    tag.async = true;\n    tag.onload = () => {\n        exports = savedexports;\n        module = savedmodule;\n        resolve();\n    };\n  var firstScriptTag = document.getElementsByTagName('script')[0];\n  firstScriptTag.parentNode.insertBefore(tag, firstScriptTag);\n});\n};\n\nif(typeof $3Dmolpromise === 'undefined') {\n$3Dmolpromise = null;\n  $3Dmolpromise = loadScriptAsync('https://cdnjs.cloudflare.com/ajax/libs/3Dmol/2.0.3/3Dmol-min.js');\n}\n\nvar viewer_16944055778110118 = null;\nvar warn = document.getElementById(\"3dmolwarning_16944055778110118\");\nif(warn) {\n    warn.parentNode.removeChild(warn);\n}\n$3Dmolpromise.then(function() {\nviewer_16944055778110118 = $3Dmol.createViewer(document.getElementById(\"3dmolviewer_16944055778110118\"),{backgroundColor:\"white\"});\nviewer_16944055778110118.zoomTo();\n\tviewer_16944055778110118.addModel(\"\\n     RDKit          3D\\n\\n 21 21  0  0  0  0  0  0  0  0999 V2000\\n   -3.0792   -1.9091   -0.0189 O   0  0  0  0  0  0  0  0  0  0  0  0\\n   -1.7463   -1.5369    0.1393 C   0  0  0  0  0  0  0  0  0  0  0  0\\n   -0.9078   -2.4090    0.4926 O   0  0  0  0  0  0  0  0  0  0  0  0\\n   -1.3311   -0.1314   -0.1086 C   0  0  0  0  0  0  0  0  0  0  0  0\\n   -2.2986    0.8018   -0.5282 C   0  0  0  0  0  0  0  0  0  0  0  0\\n   -1.9502    2.1314   -0.7706 C   0  0  0  0  0  0  0  0  0  0  0  0\\n   -0.6349    2.5533   -0.5905 C   0  0  0  0  0  0  0  0  0  0  0  0\\n    0.3398    1.6456   -0.1758 C   0  0  0  0  0  0  0  0  0  0  0  0\\n    0.0111    0.2951    0.0545 C   0  0  0  0  0  0  0  0  0  0  0  0\\n    0.9862   -0.6193    0.4856 O   0  0  0  0  0  0  0  0  0  0  0  0\\n    2.3446   -0.5758    0.1461 C   0  0  0  0  0  0  0  0  0  0  0  0\\n    2.7488    0.1070   -0.8337 O   0  0  0  0  0  0  0  0  0  0  0  0\\n    3.3074   -1.4428    0.8833 C   0  0  0  0  0  0  0  0  0  0  0  0\\n   -3.3766   -2.8634    0.1461 H   0  0  0  0  0  0  0  0  0  0  0  0\\n   -3.3304    0.5060   -0.6701 H   0  0  0  0  0  0  0  0  0  0  0  0\\n   -2.7047    2.8383   -1.0910 H   0  0  0  0  0  0  0  0  0  0  0  0\\n   -0.3712    3.5887   -0.7638 H   0  0  0  0  0  0  0  0  0  0  0  0\\n    1.3445    2.0082   -0.0066 H   0  0  0  0  0  0  0  0  0  0  0  0\\n    3.4045   -2.4162    0.3595 H   0  0  0  0  0  0  0  0  0  0  0  0\\n    2.9418   -1.6195    1.9165 H   0  0  0  0  0  0  0  0  0  0  0  0\\n    4.3023   -0.9521    0.9344 H   0  0  0  0  0  0  0  0  0  0  0  0\\n  1  2  1  0\\n  2  3  2  0\\n  2  4  1  0\\n  4  5  2  0\\n  5  6  1  0\\n  6  7  2  0\\n  7  8  1  0\\n  8  9  2  0\\n  9 10  1  0\\n 10 11  1  0\\n 11 12  2  0\\n 11 13  1  0\\n  9  4  1  0\\n  1 14  1  0\\n  5 15  1  0\\n  6 16  1  0\\n  7 17  1  0\\n  8 18  1  0\\n 13 19  1  0\\n 13 20  1  0\\n 13 21  1  0\\nM  END\\n\");\n\tviewer_16944055778110118.setStyle({\"stick\": {}});\n\tviewer_16944055778110118.zoomTo();\nviewer_16944055778110118.render();\n});\n</script>",
            "text/html": [
              "<div id=\"3dmolviewer_16944055778110118\"  style=\"position: relative; width: 400px; height: 400px;\">\n",
              "        <p id=\"3dmolwarning_16944055778110118\" style=\"background-color:#ffcccc;color:black\">You appear to be running in JupyterLab (or JavaScript failed to load for some other reason).  You need to install the 3dmol extension: <br>\n",
              "        <tt>jupyter labextension install jupyterlab_3dmol</tt></p>\n",
              "        </div>\n",
              "<script>\n",
              "\n",
              "var loadScriptAsync = function(uri){\n",
              "  return new Promise((resolve, reject) => {\n",
              "    //this is to ignore the existence of requirejs amd\n",
              "    var savedexports, savedmodule;\n",
              "    if (typeof exports !== 'undefined') savedexports = exports;\n",
              "    else exports = {}\n",
              "    if (typeof module !== 'undefined') savedmodule = module;\n",
              "    else module = {}\n",
              "\n",
              "    var tag = document.createElement('script');\n",
              "    tag.src = uri;\n",
              "    tag.async = true;\n",
              "    tag.onload = () => {\n",
              "        exports = savedexports;\n",
              "        module = savedmodule;\n",
              "        resolve();\n",
              "    };\n",
              "  var firstScriptTag = document.getElementsByTagName('script')[0];\n",
              "  firstScriptTag.parentNode.insertBefore(tag, firstScriptTag);\n",
              "});\n",
              "};\n",
              "\n",
              "if(typeof $3Dmolpromise === 'undefined') {\n",
              "$3Dmolpromise = null;\n",
              "  $3Dmolpromise = loadScriptAsync('https://cdnjs.cloudflare.com/ajax/libs/3Dmol/2.0.3/3Dmol-min.js');\n",
              "}\n",
              "\n",
              "var viewer_16944055778110118 = null;\n",
              "var warn = document.getElementById(\"3dmolwarning_16944055778110118\");\n",
              "if(warn) {\n",
              "    warn.parentNode.removeChild(warn);\n",
              "}\n",
              "$3Dmolpromise.then(function() {\n",
              "viewer_16944055778110118 = $3Dmol.createViewer(document.getElementById(\"3dmolviewer_16944055778110118\"),{backgroundColor:\"white\"});\n",
              "viewer_16944055778110118.zoomTo();\n",
              "\tviewer_16944055778110118.addModel(\"\\n     RDKit          3D\\n\\n 21 21  0  0  0  0  0  0  0  0999 V2000\\n   -3.0792   -1.9091   -0.0189 O   0  0  0  0  0  0  0  0  0  0  0  0\\n   -1.7463   -1.5369    0.1393 C   0  0  0  0  0  0  0  0  0  0  0  0\\n   -0.9078   -2.4090    0.4926 O   0  0  0  0  0  0  0  0  0  0  0  0\\n   -1.3311   -0.1314   -0.1086 C   0  0  0  0  0  0  0  0  0  0  0  0\\n   -2.2986    0.8018   -0.5282 C   0  0  0  0  0  0  0  0  0  0  0  0\\n   -1.9502    2.1314   -0.7706 C   0  0  0  0  0  0  0  0  0  0  0  0\\n   -0.6349    2.5533   -0.5905 C   0  0  0  0  0  0  0  0  0  0  0  0\\n    0.3398    1.6456   -0.1758 C   0  0  0  0  0  0  0  0  0  0  0  0\\n    0.0111    0.2951    0.0545 C   0  0  0  0  0  0  0  0  0  0  0  0\\n    0.9862   -0.6193    0.4856 O   0  0  0  0  0  0  0  0  0  0  0  0\\n    2.3446   -0.5758    0.1461 C   0  0  0  0  0  0  0  0  0  0  0  0\\n    2.7488    0.1070   -0.8337 O   0  0  0  0  0  0  0  0  0  0  0  0\\n    3.3074   -1.4428    0.8833 C   0  0  0  0  0  0  0  0  0  0  0  0\\n   -3.3766   -2.8634    0.1461 H   0  0  0  0  0  0  0  0  0  0  0  0\\n   -3.3304    0.5060   -0.6701 H   0  0  0  0  0  0  0  0  0  0  0  0\\n   -2.7047    2.8383   -1.0910 H   0  0  0  0  0  0  0  0  0  0  0  0\\n   -0.3712    3.5887   -0.7638 H   0  0  0  0  0  0  0  0  0  0  0  0\\n    1.3445    2.0082   -0.0066 H   0  0  0  0  0  0  0  0  0  0  0  0\\n    3.4045   -2.4162    0.3595 H   0  0  0  0  0  0  0  0  0  0  0  0\\n    2.9418   -1.6195    1.9165 H   0  0  0  0  0  0  0  0  0  0  0  0\\n    4.3023   -0.9521    0.9344 H   0  0  0  0  0  0  0  0  0  0  0  0\\n  1  2  1  0\\n  2  3  2  0\\n  2  4  1  0\\n  4  5  2  0\\n  5  6  1  0\\n  6  7  2  0\\n  7  8  1  0\\n  8  9  2  0\\n  9 10  1  0\\n 10 11  1  0\\n 11 12  2  0\\n 11 13  1  0\\n  9  4  1  0\\n  1 14  1  0\\n  5 15  1  0\\n  6 16  1  0\\n  7 17  1  0\\n  8 18  1  0\\n 13 19  1  0\\n 13 20  1  0\\n 13 21  1  0\\nM  END\\n\");\n",
              "\tviewer_16944055778110118.setStyle({\"stick\": {}});\n",
              "\tviewer_16944055778110118.zoomTo();\n",
              "viewer_16944055778110118.render();\n",
              "});\n",
              "</script>"
            ]
          },
          "metadata": {}
        },
        {
          "output_type": "stream",
          "name": "stdout",
          "text": [
            "ibuprofen\n"
          ]
        },
        {
          "output_type": "display_data",
          "data": {
            "application/3dmoljs_load.v0": "<div id=\"3dmolviewer_16944055778505151\"  style=\"position: relative; width: 400px; height: 400px;\">\n        <p id=\"3dmolwarning_16944055778505151\" style=\"background-color:#ffcccc;color:black\">You appear to be running in JupyterLab (or JavaScript failed to load for some other reason).  You need to install the 3dmol extension: <br>\n        <tt>jupyter labextension install jupyterlab_3dmol</tt></p>\n        </div>\n<script>\n\nvar loadScriptAsync = function(uri){\n  return new Promise((resolve, reject) => {\n    //this is to ignore the existence of requirejs amd\n    var savedexports, savedmodule;\n    if (typeof exports !== 'undefined') savedexports = exports;\n    else exports = {}\n    if (typeof module !== 'undefined') savedmodule = module;\n    else module = {}\n\n    var tag = document.createElement('script');\n    tag.src = uri;\n    tag.async = true;\n    tag.onload = () => {\n        exports = savedexports;\n        module = savedmodule;\n        resolve();\n    };\n  var firstScriptTag = document.getElementsByTagName('script')[0];\n  firstScriptTag.parentNode.insertBefore(tag, firstScriptTag);\n});\n};\n\nif(typeof $3Dmolpromise === 'undefined') {\n$3Dmolpromise = null;\n  $3Dmolpromise = loadScriptAsync('https://cdnjs.cloudflare.com/ajax/libs/3Dmol/2.0.3/3Dmol-min.js');\n}\n\nvar viewer_16944055778505151 = null;\nvar warn = document.getElementById(\"3dmolwarning_16944055778505151\");\nif(warn) {\n    warn.parentNode.removeChild(warn);\n}\n$3Dmolpromise.then(function() {\nviewer_16944055778505151 = $3Dmol.createViewer(document.getElementById(\"3dmolviewer_16944055778505151\"),{backgroundColor:\"white\"});\nviewer_16944055778505151.zoomTo();\n\tviewer_16944055778505151.addModel(\"\\n     RDKit          3D\\n\\n 33 33  0  0  0  0  0  0  0  0999 V2000\\n   -4.5700   -0.6371    1.5081 O   0  0  0  0  0  0  0  0  0  0  0  0\\n   -4.1961   -0.8974    0.1920 C   0  0  0  0  0  0  0  0  0  0  0  0\\n   -4.5573   -1.9723   -0.3580 O   0  0  0  0  0  0  0  0  0  0  0  0\\n   -3.3210    0.0686   -0.5608 C   0  0  0  0  0  0  0  0  0  0  0  0\\n   -1.8569   -0.2183   -0.2948 C   0  0  0  0  0  0  0  0  0  0  0  0\\n   -1.3311   -0.1603    1.0096 C   0  0  0  0  0  0  0  0  0  0  0  0\\n    0.0224   -0.4191    1.2412 C   0  0  0  0  0  0  0  0  0  0  0  0\\n    0.8753   -0.7417    0.1749 C   0  0  0  0  0  0  0  0  0  0  0  0\\n    2.3420   -0.9963    0.4178 C   0  0  0  0  0  0  0  0  0  0  0  0\\n    3.2119    0.2238    0.0462 C   0  0  0  0  0  0  0  0  0  0  0  0\\n    4.6982   -0.1479    0.1128 C   0  0  0  0  0  0  0  0  0  0  0  0\\n    2.9289    1.4220    0.9646 C   0  0  0  0  0  0  0  0  0  0  0  0\\n    0.3569   -0.7927   -1.1276 C   0  0  0  0  0  0  0  0  0  0  0  0\\n   -0.9968   -0.5346   -1.3606 C   0  0  0  0  0  0  0  0  0  0  0  0\\n   -3.6692    1.5239   -0.2260 C   0  0  0  0  0  0  0  0  0  0  0  0\\n   -5.1433   -1.2930    2.0249 H   0  0  0  0  0  0  0  0  0  0  0  0\\n   -3.5347   -0.0656   -1.6452 H   0  0  0  0  0  0  0  0  0  0  0  0\\n   -1.9675    0.0877    1.8492 H   0  0  0  0  0  0  0  0  0  0  0  0\\n    0.4064   -0.3617    2.2522 H   0  0  0  0  0  0  0  0  0  0  0  0\\n    2.5163   -1.2757    1.4807 H   0  0  0  0  0  0  0  0  0  0  0  0\\n    2.6505   -1.8719   -0.1952 H   0  0  0  0  0  0  0  0  0  0  0  0\\n    2.9859    0.5244   -1.0012 H   0  0  0  0  0  0  0  0  0  0  0  0\\n    4.9165   -0.9845   -0.5848 H   0  0  0  0  0  0  0  0  0  0  0  0\\n    5.3253    0.7192   -0.1861 H   0  0  0  0  0  0  0  0  0  0  0  0\\n    4.9794   -0.4565    1.1428 H   0  0  0  0  0  0  0  0  0  0  0  0\\n    1.8803    1.7654    0.8433 H   0  0  0  0  0  0  0  0  0  0  0  0\\n    3.0992    1.1497    2.0285 H   0  0  0  0  0  0  0  0  0  0  0  0\\n    3.5933    2.2727    0.7019 H   0  0  0  0  0  0  0  0  0  0  0  0\\n    1.0031   -1.0303   -1.9637 H   0  0  0  0  0  0  0  0  0  0  0  0\\n   -1.3715   -0.5800   -2.3756 H   0  0  0  0  0  0  0  0  0  0  0  0\\n   -4.7344    1.7253   -0.4695 H   0  0  0  0  0  0  0  0  0  0  0  0\\n   -3.5033    1.7425    0.8503 H   0  0  0  0  0  0  0  0  0  0  0  0\\n   -3.0387    2.2119   -0.8291 H   0  0  0  0  0  0  0  0  0  0  0  0\\n  1  2  1  0\\n  2  3  2  0\\n  2  4  1  0\\n  4  5  1  0\\n  5  6  2  0\\n  6  7  1  0\\n  7  8  2  0\\n  8  9  1  0\\n  9 10  1  0\\n 10 11  1  0\\n 10 12  1  0\\n  8 13  1  0\\n 13 14  2  0\\n  4 15  1  0\\n 14  5  1  0\\n  1 16  1  0\\n  4 17  1  0\\n  6 18  1  0\\n  7 19  1  0\\n  9 20  1  0\\n  9 21  1  0\\n 10 22  1  0\\n 11 23  1  0\\n 11 24  1  0\\n 11 25  1  0\\n 12 26  1  0\\n 12 27  1  0\\n 12 28  1  0\\n 13 29  1  0\\n 14 30  1  0\\n 15 31  1  0\\n 15 32  1  0\\n 15 33  1  0\\nM  END\\n\");\n\tviewer_16944055778505151.setStyle({\"stick\": {}});\n\tviewer_16944055778505151.zoomTo();\nviewer_16944055778505151.render();\n});\n</script>",
            "text/html": [
              "<div id=\"3dmolviewer_16944055778505151\"  style=\"position: relative; width: 400px; height: 400px;\">\n",
              "        <p id=\"3dmolwarning_16944055778505151\" style=\"background-color:#ffcccc;color:black\">You appear to be running in JupyterLab (or JavaScript failed to load for some other reason).  You need to install the 3dmol extension: <br>\n",
              "        <tt>jupyter labextension install jupyterlab_3dmol</tt></p>\n",
              "        </div>\n",
              "<script>\n",
              "\n",
              "var loadScriptAsync = function(uri){\n",
              "  return new Promise((resolve, reject) => {\n",
              "    //this is to ignore the existence of requirejs amd\n",
              "    var savedexports, savedmodule;\n",
              "    if (typeof exports !== 'undefined') savedexports = exports;\n",
              "    else exports = {}\n",
              "    if (typeof module !== 'undefined') savedmodule = module;\n",
              "    else module = {}\n",
              "\n",
              "    var tag = document.createElement('script');\n",
              "    tag.src = uri;\n",
              "    tag.async = true;\n",
              "    tag.onload = () => {\n",
              "        exports = savedexports;\n",
              "        module = savedmodule;\n",
              "        resolve();\n",
              "    };\n",
              "  var firstScriptTag = document.getElementsByTagName('script')[0];\n",
              "  firstScriptTag.parentNode.insertBefore(tag, firstScriptTag);\n",
              "});\n",
              "};\n",
              "\n",
              "if(typeof $3Dmolpromise === 'undefined') {\n",
              "$3Dmolpromise = null;\n",
              "  $3Dmolpromise = loadScriptAsync('https://cdnjs.cloudflare.com/ajax/libs/3Dmol/2.0.3/3Dmol-min.js');\n",
              "}\n",
              "\n",
              "var viewer_16944055778505151 = null;\n",
              "var warn = document.getElementById(\"3dmolwarning_16944055778505151\");\n",
              "if(warn) {\n",
              "    warn.parentNode.removeChild(warn);\n",
              "}\n",
              "$3Dmolpromise.then(function() {\n",
              "viewer_16944055778505151 = $3Dmol.createViewer(document.getElementById(\"3dmolviewer_16944055778505151\"),{backgroundColor:\"white\"});\n",
              "viewer_16944055778505151.zoomTo();\n",
              "\tviewer_16944055778505151.addModel(\"\\n     RDKit          3D\\n\\n 33 33  0  0  0  0  0  0  0  0999 V2000\\n   -4.5700   -0.6371    1.5081 O   0  0  0  0  0  0  0  0  0  0  0  0\\n   -4.1961   -0.8974    0.1920 C   0  0  0  0  0  0  0  0  0  0  0  0\\n   -4.5573   -1.9723   -0.3580 O   0  0  0  0  0  0  0  0  0  0  0  0\\n   -3.3210    0.0686   -0.5608 C   0  0  0  0  0  0  0  0  0  0  0  0\\n   -1.8569   -0.2183   -0.2948 C   0  0  0  0  0  0  0  0  0  0  0  0\\n   -1.3311   -0.1603    1.0096 C   0  0  0  0  0  0  0  0  0  0  0  0\\n    0.0224   -0.4191    1.2412 C   0  0  0  0  0  0  0  0  0  0  0  0\\n    0.8753   -0.7417    0.1749 C   0  0  0  0  0  0  0  0  0  0  0  0\\n    2.3420   -0.9963    0.4178 C   0  0  0  0  0  0  0  0  0  0  0  0\\n    3.2119    0.2238    0.0462 C   0  0  0  0  0  0  0  0  0  0  0  0\\n    4.6982   -0.1479    0.1128 C   0  0  0  0  0  0  0  0  0  0  0  0\\n    2.9289    1.4220    0.9646 C   0  0  0  0  0  0  0  0  0  0  0  0\\n    0.3569   -0.7927   -1.1276 C   0  0  0  0  0  0  0  0  0  0  0  0\\n   -0.9968   -0.5346   -1.3606 C   0  0  0  0  0  0  0  0  0  0  0  0\\n   -3.6692    1.5239   -0.2260 C   0  0  0  0  0  0  0  0  0  0  0  0\\n   -5.1433   -1.2930    2.0249 H   0  0  0  0  0  0  0  0  0  0  0  0\\n   -3.5347   -0.0656   -1.6452 H   0  0  0  0  0  0  0  0  0  0  0  0\\n   -1.9675    0.0877    1.8492 H   0  0  0  0  0  0  0  0  0  0  0  0\\n    0.4064   -0.3617    2.2522 H   0  0  0  0  0  0  0  0  0  0  0  0\\n    2.5163   -1.2757    1.4807 H   0  0  0  0  0  0  0  0  0  0  0  0\\n    2.6505   -1.8719   -0.1952 H   0  0  0  0  0  0  0  0  0  0  0  0\\n    2.9859    0.5244   -1.0012 H   0  0  0  0  0  0  0  0  0  0  0  0\\n    4.9165   -0.9845   -0.5848 H   0  0  0  0  0  0  0  0  0  0  0  0\\n    5.3253    0.7192   -0.1861 H   0  0  0  0  0  0  0  0  0  0  0  0\\n    4.9794   -0.4565    1.1428 H   0  0  0  0  0  0  0  0  0  0  0  0\\n    1.8803    1.7654    0.8433 H   0  0  0  0  0  0  0  0  0  0  0  0\\n    3.0992    1.1497    2.0285 H   0  0  0  0  0  0  0  0  0  0  0  0\\n    3.5933    2.2727    0.7019 H   0  0  0  0  0  0  0  0  0  0  0  0\\n    1.0031   -1.0303   -1.9637 H   0  0  0  0  0  0  0  0  0  0  0  0\\n   -1.3715   -0.5800   -2.3756 H   0  0  0  0  0  0  0  0  0  0  0  0\\n   -4.7344    1.7253   -0.4695 H   0  0  0  0  0  0  0  0  0  0  0  0\\n   -3.5033    1.7425    0.8503 H   0  0  0  0  0  0  0  0  0  0  0  0\\n   -3.0387    2.2119   -0.8291 H   0  0  0  0  0  0  0  0  0  0  0  0\\n  1  2  1  0\\n  2  3  2  0\\n  2  4  1  0\\n  4  5  1  0\\n  5  6  2  0\\n  6  7  1  0\\n  7  8  2  0\\n  8  9  1  0\\n  9 10  1  0\\n 10 11  1  0\\n 10 12  1  0\\n  8 13  1  0\\n 13 14  2  0\\n  4 15  1  0\\n 14  5  1  0\\n  1 16  1  0\\n  4 17  1  0\\n  6 18  1  0\\n  7 19  1  0\\n  9 20  1  0\\n  9 21  1  0\\n 10 22  1  0\\n 11 23  1  0\\n 11 24  1  0\\n 11 25  1  0\\n 12 26  1  0\\n 12 27  1  0\\n 12 28  1  0\\n 13 29  1  0\\n 14 30  1  0\\n 15 31  1  0\\n 15 32  1  0\\n 15 33  1  0\\nM  END\\n\");\n",
              "\tviewer_16944055778505151.setStyle({\"stick\": {}});\n",
              "\tviewer_16944055778505151.zoomTo();\n",
              "viewer_16944055778505151.render();\n",
              "});\n",
              "</script>"
            ]
          },
          "metadata": {}
        },
        {
          "output_type": "stream",
          "name": "stdout",
          "text": [
            "acetaminophen\n"
          ]
        },
        {
          "output_type": "display_data",
          "data": {
            "application/3dmoljs_load.v0": "<div id=\"3dmolviewer_16944055778714788\"  style=\"position: relative; width: 400px; height: 400px;\">\n        <p id=\"3dmolwarning_16944055778714788\" style=\"background-color:#ffcccc;color:black\">You appear to be running in JupyterLab (or JavaScript failed to load for some other reason).  You need to install the 3dmol extension: <br>\n        <tt>jupyter labextension install jupyterlab_3dmol</tt></p>\n        </div>\n<script>\n\nvar loadScriptAsync = function(uri){\n  return new Promise((resolve, reject) => {\n    //this is to ignore the existence of requirejs amd\n    var savedexports, savedmodule;\n    if (typeof exports !== 'undefined') savedexports = exports;\n    else exports = {}\n    if (typeof module !== 'undefined') savedmodule = module;\n    else module = {}\n\n    var tag = document.createElement('script');\n    tag.src = uri;\n    tag.async = true;\n    tag.onload = () => {\n        exports = savedexports;\n        module = savedmodule;\n        resolve();\n    };\n  var firstScriptTag = document.getElementsByTagName('script')[0];\n  firstScriptTag.parentNode.insertBefore(tag, firstScriptTag);\n});\n};\n\nif(typeof $3Dmolpromise === 'undefined') {\n$3Dmolpromise = null;\n  $3Dmolpromise = loadScriptAsync('https://cdnjs.cloudflare.com/ajax/libs/3Dmol/2.0.3/3Dmol-min.js');\n}\n\nvar viewer_16944055778714788 = null;\nvar warn = document.getElementById(\"3dmolwarning_16944055778714788\");\nif(warn) {\n    warn.parentNode.removeChild(warn);\n}\n$3Dmolpromise.then(function() {\nviewer_16944055778714788 = $3Dmol.createViewer(document.getElementById(\"3dmolviewer_16944055778714788\"),{backgroundColor:\"white\"});\nviewer_16944055778714788.zoomTo();\n\tviewer_16944055778714788.addModel(\"\\n     RDKit          3D\\n\\n 20 20  0  0  0  0  0  0  0  0999 V2000\\n   -4.2321    0.2899   -0.1791 O   0  0  0  0  0  0  0  0  0  0  0  0\\n   -2.8421    0.2908   -0.0880 C   0  0  0  0  0  0  0  0  0  0  0  0\\n   -2.0648   -0.4224   -1.0101 C   0  0  0  0  0  0  0  0  0  0  0  0\\n   -0.6701   -0.4157   -0.9081 C   0  0  0  0  0  0  0  0  0  0  0  0\\n   -0.0372    0.2949    0.1287 C   0  0  0  0  0  0  0  0  0  0  0  0\\n    1.3957    0.3394    0.2437 N   0  0  0  0  0  0  0  0  0  0  0  0\\n    2.2667   -0.7479   -0.1045 C   0  0  0  0  0  0  0  0  0  0  0  0\\n    1.8052   -1.9042   -0.3024 O   0  0  0  0  0  0  0  0  0  0  0  0\\n    3.7449   -0.5346   -0.1372 C   0  0  0  0  0  0  0  0  0  0  0  0\\n   -0.8227    1.0244    1.0346 C   0  0  0  0  0  0  0  0  0  0  0  0\\n   -2.2171    1.0154    0.9312 C   0  0  0  0  0  0  0  0  0  0  0  0\\n   -4.7146   -0.2240   -0.9071 H   0  0  0  0  0  0  0  0  0  0  0  0\\n   -2.5397   -0.9743   -1.8112 H   0  0  0  0  0  0  0  0  0  0  0  0\\n   -0.0907   -0.9434   -1.6536 H   0  0  0  0  0  0  0  0  0  0  0  0\\n    1.8273    1.1836    0.6840 H   0  0  0  0  0  0  0  0  0  0  0  0\\n    4.2343   -1.3150   -0.7578 H   0  0  0  0  0  0  0  0  0  0  0  0\\n    3.9740    0.4607   -0.5723 H   0  0  0  0  0  0  0  0  0  0  0  0\\n    4.1482   -0.5839    0.8956 H   0  0  0  0  0  0  0  0  0  0  0  0\\n   -0.3530    1.5923    1.8278 H   0  0  0  0  0  0  0  0  0  0  0  0\\n   -2.8121    1.5740    1.6425 H   0  0  0  0  0  0  0  0  0  0  0  0\\n  1  2  1  0\\n  2  3  2  0\\n  3  4  1  0\\n  4  5  2  0\\n  5  6  1  0\\n  6  7  1  0\\n  7  8  2  0\\n  7  9  1  0\\n  5 10  1  0\\n 10 11  2  0\\n 11  2  1  0\\n  1 12  1  0\\n  3 13  1  0\\n  4 14  1  0\\n  6 15  1  0\\n  9 16  1  0\\n  9 17  1  0\\n  9 18  1  0\\n 10 19  1  0\\n 11 20  1  0\\nM  END\\n\");\n\tviewer_16944055778714788.setStyle({\"stick\": {}});\n\tviewer_16944055778714788.zoomTo();\nviewer_16944055778714788.render();\n});\n</script>",
            "text/html": [
              "<div id=\"3dmolviewer_16944055778714788\"  style=\"position: relative; width: 400px; height: 400px;\">\n",
              "        <p id=\"3dmolwarning_16944055778714788\" style=\"background-color:#ffcccc;color:black\">You appear to be running in JupyterLab (or JavaScript failed to load for some other reason).  You need to install the 3dmol extension: <br>\n",
              "        <tt>jupyter labextension install jupyterlab_3dmol</tt></p>\n",
              "        </div>\n",
              "<script>\n",
              "\n",
              "var loadScriptAsync = function(uri){\n",
              "  return new Promise((resolve, reject) => {\n",
              "    //this is to ignore the existence of requirejs amd\n",
              "    var savedexports, savedmodule;\n",
              "    if (typeof exports !== 'undefined') savedexports = exports;\n",
              "    else exports = {}\n",
              "    if (typeof module !== 'undefined') savedmodule = module;\n",
              "    else module = {}\n",
              "\n",
              "    var tag = document.createElement('script');\n",
              "    tag.src = uri;\n",
              "    tag.async = true;\n",
              "    tag.onload = () => {\n",
              "        exports = savedexports;\n",
              "        module = savedmodule;\n",
              "        resolve();\n",
              "    };\n",
              "  var firstScriptTag = document.getElementsByTagName('script')[0];\n",
              "  firstScriptTag.parentNode.insertBefore(tag, firstScriptTag);\n",
              "});\n",
              "};\n",
              "\n",
              "if(typeof $3Dmolpromise === 'undefined') {\n",
              "$3Dmolpromise = null;\n",
              "  $3Dmolpromise = loadScriptAsync('https://cdnjs.cloudflare.com/ajax/libs/3Dmol/2.0.3/3Dmol-min.js');\n",
              "}\n",
              "\n",
              "var viewer_16944055778714788 = null;\n",
              "var warn = document.getElementById(\"3dmolwarning_16944055778714788\");\n",
              "if(warn) {\n",
              "    warn.parentNode.removeChild(warn);\n",
              "}\n",
              "$3Dmolpromise.then(function() {\n",
              "viewer_16944055778714788 = $3Dmol.createViewer(document.getElementById(\"3dmolviewer_16944055778714788\"),{backgroundColor:\"white\"});\n",
              "viewer_16944055778714788.zoomTo();\n",
              "\tviewer_16944055778714788.addModel(\"\\n     RDKit          3D\\n\\n 20 20  0  0  0  0  0  0  0  0999 V2000\\n   -4.2321    0.2899   -0.1791 O   0  0  0  0  0  0  0  0  0  0  0  0\\n   -2.8421    0.2908   -0.0880 C   0  0  0  0  0  0  0  0  0  0  0  0\\n   -2.0648   -0.4224   -1.0101 C   0  0  0  0  0  0  0  0  0  0  0  0\\n   -0.6701   -0.4157   -0.9081 C   0  0  0  0  0  0  0  0  0  0  0  0\\n   -0.0372    0.2949    0.1287 C   0  0  0  0  0  0  0  0  0  0  0  0\\n    1.3957    0.3394    0.2437 N   0  0  0  0  0  0  0  0  0  0  0  0\\n    2.2667   -0.7479   -0.1045 C   0  0  0  0  0  0  0  0  0  0  0  0\\n    1.8052   -1.9042   -0.3024 O   0  0  0  0  0  0  0  0  0  0  0  0\\n    3.7449   -0.5346   -0.1372 C   0  0  0  0  0  0  0  0  0  0  0  0\\n   -0.8227    1.0244    1.0346 C   0  0  0  0  0  0  0  0  0  0  0  0\\n   -2.2171    1.0154    0.9312 C   0  0  0  0  0  0  0  0  0  0  0  0\\n   -4.7146   -0.2240   -0.9071 H   0  0  0  0  0  0  0  0  0  0  0  0\\n   -2.5397   -0.9743   -1.8112 H   0  0  0  0  0  0  0  0  0  0  0  0\\n   -0.0907   -0.9434   -1.6536 H   0  0  0  0  0  0  0  0  0  0  0  0\\n    1.8273    1.1836    0.6840 H   0  0  0  0  0  0  0  0  0  0  0  0\\n    4.2343   -1.3150   -0.7578 H   0  0  0  0  0  0  0  0  0  0  0  0\\n    3.9740    0.4607   -0.5723 H   0  0  0  0  0  0  0  0  0  0  0  0\\n    4.1482   -0.5839    0.8956 H   0  0  0  0  0  0  0  0  0  0  0  0\\n   -0.3530    1.5923    1.8278 H   0  0  0  0  0  0  0  0  0  0  0  0\\n   -2.8121    1.5740    1.6425 H   0  0  0  0  0  0  0  0  0  0  0  0\\n  1  2  1  0\\n  2  3  2  0\\n  3  4  1  0\\n  4  5  2  0\\n  5  6  1  0\\n  6  7  1  0\\n  7  8  2  0\\n  7  9  1  0\\n  5 10  1  0\\n 10 11  2  0\\n 11  2  1  0\\n  1 12  1  0\\n  3 13  1  0\\n  4 14  1  0\\n  6 15  1  0\\n  9 16  1  0\\n  9 17  1  0\\n  9 18  1  0\\n 10 19  1  0\\n 11 20  1  0\\nM  END\\n\");\n",
              "\tviewer_16944055778714788.setStyle({\"stick\": {}});\n",
              "\tviewer_16944055778714788.zoomTo();\n",
              "viewer_16944055778714788.render();\n",
              "});\n",
              "</script>"
            ]
          },
          "metadata": {}
        },
        {
          "output_type": "stream",
          "name": "stdout",
          "text": [
            "caffeine\n"
          ]
        },
        {
          "output_type": "display_data",
          "data": {
            "application/3dmoljs_load.v0": "<div id=\"3dmolviewer_16944055778957238\"  style=\"position: relative; width: 400px; height: 400px;\">\n        <p id=\"3dmolwarning_16944055778957238\" style=\"background-color:#ffcccc;color:black\">You appear to be running in JupyterLab (or JavaScript failed to load for some other reason).  You need to install the 3dmol extension: <br>\n        <tt>jupyter labextension install jupyterlab_3dmol</tt></p>\n        </div>\n<script>\n\nvar loadScriptAsync = function(uri){\n  return new Promise((resolve, reject) => {\n    //this is to ignore the existence of requirejs amd\n    var savedexports, savedmodule;\n    if (typeof exports !== 'undefined') savedexports = exports;\n    else exports = {}\n    if (typeof module !== 'undefined') savedmodule = module;\n    else module = {}\n\n    var tag = document.createElement('script');\n    tag.src = uri;\n    tag.async = true;\n    tag.onload = () => {\n        exports = savedexports;\n        module = savedmodule;\n        resolve();\n    };\n  var firstScriptTag = document.getElementsByTagName('script')[0];\n  firstScriptTag.parentNode.insertBefore(tag, firstScriptTag);\n});\n};\n\nif(typeof $3Dmolpromise === 'undefined') {\n$3Dmolpromise = null;\n  $3Dmolpromise = loadScriptAsync('https://cdnjs.cloudflare.com/ajax/libs/3Dmol/2.0.3/3Dmol-min.js');\n}\n\nvar viewer_16944055778957238 = null;\nvar warn = document.getElementById(\"3dmolwarning_16944055778957238\");\nif(warn) {\n    warn.parentNode.removeChild(warn);\n}\n$3Dmolpromise.then(function() {\nviewer_16944055778957238 = $3Dmol.createViewer(document.getElementById(\"3dmolviewer_16944055778957238\"),{backgroundColor:\"white\"});\nviewer_16944055778957238.zoomTo();\n\tviewer_16944055778957238.addModel(\"\\n     RDKit          3D\\n\\n 24 25  0  0  0  0  0  0  0  0999 V2000\\n    2.5319    0.9830   -0.1848 C   0  0  0  0  0  0  0  0  0  0  0  0\\n    1.4996    1.8655   -0.1465 N   0  0  0  0  0  0  0  0  0  0  0  0\\n    0.4206    1.0611   -0.0617 C   0  0  0  0  0  0  0  0  0  0  0  0\\n    0.7910   -0.2395   -0.0490 C   0  0  0  0  0  0  0  0  0  0  0  0\\n   -0.1644   -1.2433    0.0409 C   0  0  0  0  0  0  0  0  0  0  0  0\\n    0.1792   -2.4572    0.0302 O   0  0  0  0  0  0  0  0  0  0  0  0\\n   -1.4872   -0.8755    0.1411 N   0  0  0  0  0  0  0  0  0  0  0  0\\n   -2.5324   -1.9101    0.2183 C   0  0  0  0  0  0  0  0  0  0  0  0\\n   -1.8437    0.4631    0.1032 C   0  0  0  0  0  0  0  0  0  0  0  0\\n   -3.0627    0.7897    0.1695 O   0  0  0  0  0  0  0  0  0  0  0  0\\n   -0.8835    1.4461   -0.0076 N   0  0  0  0  0  0  0  0  0  0  0  0\\n   -1.2501    2.8687   -0.0020 C   0  0  0  0  0  0  0  0  0  0  0  0\\n    2.1301   -0.3106   -0.1287 N   0  0  0  0  0  0  0  0  0  0  0  0\\n    2.9805   -1.4964   -0.1443 C   0  0  0  0  0  0  0  0  0  0  0  0\\n    3.5683    1.2877   -0.2534 H   0  0  0  0  0  0  0  0  0  0  0  0\\n   -2.1521   -2.8372    0.6978 H   0  0  0  0  0  0  0  0  0  0  0  0\\n   -2.8930   -2.1512   -0.8038 H   0  0  0  0  0  0  0  0  0  0  0  0\\n   -3.3893   -1.5673    0.8368 H   0  0  0  0  0  0  0  0  0  0  0  0\\n   -2.1655    3.0378   -0.6085 H   0  0  0  0  0  0  0  0  0  0  0  0\\n   -0.4476    3.4974   -0.4431 H   0  0  0  0  0  0  0  0  0  0  0  0\\n   -1.4357    3.2005    1.0411 H   0  0  0  0  0  0  0  0  0  0  0  0\\n    2.7241   -2.1298   -1.0193 H   0  0  0  0  0  0  0  0  0  0  0  0\\n    2.8317   -2.0765    0.7905 H   0  0  0  0  0  0  0  0  0  0  0  0\\n    4.0503   -1.2061   -0.2167 H   0  0  0  0  0  0  0  0  0  0  0  0\\n  1  2  2  0\\n  2  3  1  0\\n  3  4  2  0\\n  4  5  1  0\\n  5  6  2  0\\n  5  7  1  0\\n  7  8  1  0\\n  7  9  1  0\\n  9 10  2  0\\n  9 11  1  0\\n 11 12  1  0\\n  4 13  1  0\\n 13 14  1  0\\n 13  1  1  0\\n 11  3  1  0\\n  1 15  1  0\\n  8 16  1  0\\n  8 17  1  0\\n  8 18  1  0\\n 12 19  1  0\\n 12 20  1  0\\n 12 21  1  0\\n 14 22  1  0\\n 14 23  1  0\\n 14 24  1  0\\nM  END\\n\");\n\tviewer_16944055778957238.setStyle({\"stick\": {}});\n\tviewer_16944055778957238.zoomTo();\nviewer_16944055778957238.render();\n});\n</script>",
            "text/html": [
              "<div id=\"3dmolviewer_16944055778957238\"  style=\"position: relative; width: 400px; height: 400px;\">\n",
              "        <p id=\"3dmolwarning_16944055778957238\" style=\"background-color:#ffcccc;color:black\">You appear to be running in JupyterLab (or JavaScript failed to load for some other reason).  You need to install the 3dmol extension: <br>\n",
              "        <tt>jupyter labextension install jupyterlab_3dmol</tt></p>\n",
              "        </div>\n",
              "<script>\n",
              "\n",
              "var loadScriptAsync = function(uri){\n",
              "  return new Promise((resolve, reject) => {\n",
              "    //this is to ignore the existence of requirejs amd\n",
              "    var savedexports, savedmodule;\n",
              "    if (typeof exports !== 'undefined') savedexports = exports;\n",
              "    else exports = {}\n",
              "    if (typeof module !== 'undefined') savedmodule = module;\n",
              "    else module = {}\n",
              "\n",
              "    var tag = document.createElement('script');\n",
              "    tag.src = uri;\n",
              "    tag.async = true;\n",
              "    tag.onload = () => {\n",
              "        exports = savedexports;\n",
              "        module = savedmodule;\n",
              "        resolve();\n",
              "    };\n",
              "  var firstScriptTag = document.getElementsByTagName('script')[0];\n",
              "  firstScriptTag.parentNode.insertBefore(tag, firstScriptTag);\n",
              "});\n",
              "};\n",
              "\n",
              "if(typeof $3Dmolpromise === 'undefined') {\n",
              "$3Dmolpromise = null;\n",
              "  $3Dmolpromise = loadScriptAsync('https://cdnjs.cloudflare.com/ajax/libs/3Dmol/2.0.3/3Dmol-min.js');\n",
              "}\n",
              "\n",
              "var viewer_16944055778957238 = null;\n",
              "var warn = document.getElementById(\"3dmolwarning_16944055778957238\");\n",
              "if(warn) {\n",
              "    warn.parentNode.removeChild(warn);\n",
              "}\n",
              "$3Dmolpromise.then(function() {\n",
              "viewer_16944055778957238 = $3Dmol.createViewer(document.getElementById(\"3dmolviewer_16944055778957238\"),{backgroundColor:\"white\"});\n",
              "viewer_16944055778957238.zoomTo();\n",
              "\tviewer_16944055778957238.addModel(\"\\n     RDKit          3D\\n\\n 24 25  0  0  0  0  0  0  0  0999 V2000\\n    2.5319    0.9830   -0.1848 C   0  0  0  0  0  0  0  0  0  0  0  0\\n    1.4996    1.8655   -0.1465 N   0  0  0  0  0  0  0  0  0  0  0  0\\n    0.4206    1.0611   -0.0617 C   0  0  0  0  0  0  0  0  0  0  0  0\\n    0.7910   -0.2395   -0.0490 C   0  0  0  0  0  0  0  0  0  0  0  0\\n   -0.1644   -1.2433    0.0409 C   0  0  0  0  0  0  0  0  0  0  0  0\\n    0.1792   -2.4572    0.0302 O   0  0  0  0  0  0  0  0  0  0  0  0\\n   -1.4872   -0.8755    0.1411 N   0  0  0  0  0  0  0  0  0  0  0  0\\n   -2.5324   -1.9101    0.2183 C   0  0  0  0  0  0  0  0  0  0  0  0\\n   -1.8437    0.4631    0.1032 C   0  0  0  0  0  0  0  0  0  0  0  0\\n   -3.0627    0.7897    0.1695 O   0  0  0  0  0  0  0  0  0  0  0  0\\n   -0.8835    1.4461   -0.0076 N   0  0  0  0  0  0  0  0  0  0  0  0\\n   -1.2501    2.8687   -0.0020 C   0  0  0  0  0  0  0  0  0  0  0  0\\n    2.1301   -0.3106   -0.1287 N   0  0  0  0  0  0  0  0  0  0  0  0\\n    2.9805   -1.4964   -0.1443 C   0  0  0  0  0  0  0  0  0  0  0  0\\n    3.5683    1.2877   -0.2534 H   0  0  0  0  0  0  0  0  0  0  0  0\\n   -2.1521   -2.8372    0.6978 H   0  0  0  0  0  0  0  0  0  0  0  0\\n   -2.8930   -2.1512   -0.8038 H   0  0  0  0  0  0  0  0  0  0  0  0\\n   -3.3893   -1.5673    0.8368 H   0  0  0  0  0  0  0  0  0  0  0  0\\n   -2.1655    3.0378   -0.6085 H   0  0  0  0  0  0  0  0  0  0  0  0\\n   -0.4476    3.4974   -0.4431 H   0  0  0  0  0  0  0  0  0  0  0  0\\n   -1.4357    3.2005    1.0411 H   0  0  0  0  0  0  0  0  0  0  0  0\\n    2.7241   -2.1298   -1.0193 H   0  0  0  0  0  0  0  0  0  0  0  0\\n    2.8317   -2.0765    0.7905 H   0  0  0  0  0  0  0  0  0  0  0  0\\n    4.0503   -1.2061   -0.2167 H   0  0  0  0  0  0  0  0  0  0  0  0\\n  1  2  2  0\\n  2  3  1  0\\n  3  4  2  0\\n  4  5  1  0\\n  5  6  2  0\\n  5  7  1  0\\n  7  8  1  0\\n  7  9  1  0\\n  9 10  2  0\\n  9 11  1  0\\n 11 12  1  0\\n  4 13  1  0\\n 13 14  1  0\\n 13  1  1  0\\n 11  3  1  0\\n  1 15  1  0\\n  8 16  1  0\\n  8 17  1  0\\n  8 18  1  0\\n 12 19  1  0\\n 12 20  1  0\\n 12 21  1  0\\n 14 22  1  0\\n 14 23  1  0\\n 14 24  1  0\\nM  END\\n\");\n",
              "\tviewer_16944055778957238.setStyle({\"stick\": {}});\n",
              "\tviewer_16944055778957238.zoomTo();\n",
              "viewer_16944055778957238.render();\n",
              "});\n",
              "</script>"
            ]
          },
          "metadata": {}
        },
        {
          "output_type": "stream",
          "name": "stdout",
          "text": [
            "nicotine\n"
          ]
        },
        {
          "output_type": "display_data",
          "data": {
            "application/3dmoljs_load.v0": "<div id=\"3dmolviewer_16944055779260554\"  style=\"position: relative; width: 400px; height: 400px;\">\n        <p id=\"3dmolwarning_16944055779260554\" style=\"background-color:#ffcccc;color:black\">You appear to be running in JupyterLab (or JavaScript failed to load for some other reason).  You need to install the 3dmol extension: <br>\n        <tt>jupyter labextension install jupyterlab_3dmol</tt></p>\n        </div>\n<script>\n\nvar loadScriptAsync = function(uri){\n  return new Promise((resolve, reject) => {\n    //this is to ignore the existence of requirejs amd\n    var savedexports, savedmodule;\n    if (typeof exports !== 'undefined') savedexports = exports;\n    else exports = {}\n    if (typeof module !== 'undefined') savedmodule = module;\n    else module = {}\n\n    var tag = document.createElement('script');\n    tag.src = uri;\n    tag.async = true;\n    tag.onload = () => {\n        exports = savedexports;\n        module = savedmodule;\n        resolve();\n    };\n  var firstScriptTag = document.getElementsByTagName('script')[0];\n  firstScriptTag.parentNode.insertBefore(tag, firstScriptTag);\n});\n};\n\nif(typeof $3Dmolpromise === 'undefined') {\n$3Dmolpromise = null;\n  $3Dmolpromise = loadScriptAsync('https://cdnjs.cloudflare.com/ajax/libs/3Dmol/2.0.3/3Dmol-min.js');\n}\n\nvar viewer_16944055779260554 = null;\nvar warn = document.getElementById(\"3dmolwarning_16944055779260554\");\nif(warn) {\n    warn.parentNode.removeChild(warn);\n}\n$3Dmolpromise.then(function() {\nviewer_16944055779260554 = $3Dmol.createViewer(document.getElementById(\"3dmolviewer_16944055779260554\"),{backgroundColor:\"white\"});\nviewer_16944055779260554.zoomTo();\n\tviewer_16944055779260554.addModel(\"\\n     RDKit          3D\\n\\n 26 27  0  0  0  0  0  0  0  0999 V2000\\n    2.9347    1.0112   -0.8766 C   0  0  0  0  0  0  0  0  0  0  0  0\\n    3.8368    0.3443   -0.1109 N   0  0  0  0  0  0  0  0  0  0  0  0\\n    3.4540   -0.6413    0.7413 C   0  0  0  0  0  0  0  0  0  0  0  0\\n    2.1071   -0.9948    0.8454 C   0  0  0  0  0  0  0  0  0  0  0  0\\n    1.1456   -0.3402    0.0555 C   0  0  0  0  0  0  0  0  0  0  0  0\\n   -0.3246   -0.7287    0.2083 C   0  0  0  0  0  0  0  0  0  0  0  0\\n   -1.0778    0.0682    1.1966 N   0  0  0  0  0  0  0  0  0  0  0  0\\n   -0.8284    1.5202    1.0987 C   0  0  0  0  0  0  0  0  0  0  0  0\\n   -2.4872   -0.2219    0.8838 C   0  0  0  0  0  0  0  0  0  0  0  0\\n   -2.5833   -0.5850   -0.5990 C   0  0  0  0  0  0  0  0  0  0  0  0\\n   -1.1514   -0.7646   -1.0763 C   0  0  0  0  0  0  0  0  0  0  0  0\\n    1.5771    0.6896   -0.8051 C   0  0  0  0  0  0  0  0  0  0  0  0\\n    3.2704    1.7996   -1.5370 H   0  0  0  0  0  0  0  0  0  0  0  0\\n    4.1959   -1.1495    1.3428 H   0  0  0  0  0  0  0  0  0  0  0  0\\n    1.8179   -1.7753    1.5382 H   0  0  0  0  0  0  0  0  0  0  0  0\\n   -0.3327   -1.7794    0.5839 H   0  0  0  0  0  0  0  0  0  0  0  0\\n    0.2140    1.7531    1.4004 H   0  0  0  0  0  0  0  0  0  0  0  0\\n   -1.4833    2.0685    1.8097 H   0  0  0  0  0  0  0  0  0  0  0  0\\n   -1.0189    1.9004    0.0710 H   0  0  0  0  0  0  0  0  0  0  0  0\\n   -3.1720    0.6208    1.1323 H   0  0  0  0  0  0  0  0  0  0  0  0\\n   -2.8101   -1.0926    1.4956 H   0  0  0  0  0  0  0  0  0  0  0  0\\n   -3.0814    0.2318   -1.1662 H   0  0  0  0  0  0  0  0  0  0  0  0\\n   -3.1635   -1.5244   -0.7320 H   0  0  0  0  0  0  0  0  0  0  0  0\\n   -1.0213   -1.7321   -1.6094 H   0  0  0  0  0  0  0  0  0  0  0  0\\n   -0.9005    0.0604   -1.7713 H   0  0  0  0  0  0  0  0  0  0  0  0\\n    0.8830    1.2618   -1.4022 H   0  0  0  0  0  0  0  0  0  0  0  0\\n  1  2  2  0\\n  2  3  1  0\\n  3  4  2  0\\n  4  5  1  0\\n  5  6  1  0\\n  6  7  1  0\\n  7  8  1  0\\n  7  9  1  0\\n  9 10  1  0\\n 10 11  1  0\\n  5 12  2  0\\n 12  1  1  0\\n 11  6  1  0\\n  1 13  1  0\\n  3 14  1  0\\n  4 15  1  0\\n  6 16  1  0\\n  8 17  1  0\\n  8 18  1  0\\n  8 19  1  0\\n  9 20  1  0\\n  9 21  1  0\\n 10 22  1  0\\n 10 23  1  0\\n 11 24  1  0\\n 11 25  1  0\\n 12 26  1  0\\nM  END\\n\");\n\tviewer_16944055779260554.setStyle({\"stick\": {}});\n\tviewer_16944055779260554.zoomTo();\nviewer_16944055779260554.render();\n});\n</script>",
            "text/html": [
              "<div id=\"3dmolviewer_16944055779260554\"  style=\"position: relative; width: 400px; height: 400px;\">\n",
              "        <p id=\"3dmolwarning_16944055779260554\" style=\"background-color:#ffcccc;color:black\">You appear to be running in JupyterLab (or JavaScript failed to load for some other reason).  You need to install the 3dmol extension: <br>\n",
              "        <tt>jupyter labextension install jupyterlab_3dmol</tt></p>\n",
              "        </div>\n",
              "<script>\n",
              "\n",
              "var loadScriptAsync = function(uri){\n",
              "  return new Promise((resolve, reject) => {\n",
              "    //this is to ignore the existence of requirejs amd\n",
              "    var savedexports, savedmodule;\n",
              "    if (typeof exports !== 'undefined') savedexports = exports;\n",
              "    else exports = {}\n",
              "    if (typeof module !== 'undefined') savedmodule = module;\n",
              "    else module = {}\n",
              "\n",
              "    var tag = document.createElement('script');\n",
              "    tag.src = uri;\n",
              "    tag.async = true;\n",
              "    tag.onload = () => {\n",
              "        exports = savedexports;\n",
              "        module = savedmodule;\n",
              "        resolve();\n",
              "    };\n",
              "  var firstScriptTag = document.getElementsByTagName('script')[0];\n",
              "  firstScriptTag.parentNode.insertBefore(tag, firstScriptTag);\n",
              "});\n",
              "};\n",
              "\n",
              "if(typeof $3Dmolpromise === 'undefined') {\n",
              "$3Dmolpromise = null;\n",
              "  $3Dmolpromise = loadScriptAsync('https://cdnjs.cloudflare.com/ajax/libs/3Dmol/2.0.3/3Dmol-min.js');\n",
              "}\n",
              "\n",
              "var viewer_16944055779260554 = null;\n",
              "var warn = document.getElementById(\"3dmolwarning_16944055779260554\");\n",
              "if(warn) {\n",
              "    warn.parentNode.removeChild(warn);\n",
              "}\n",
              "$3Dmolpromise.then(function() {\n",
              "viewer_16944055779260554 = $3Dmol.createViewer(document.getElementById(\"3dmolviewer_16944055779260554\"),{backgroundColor:\"white\"});\n",
              "viewer_16944055779260554.zoomTo();\n",
              "\tviewer_16944055779260554.addModel(\"\\n     RDKit          3D\\n\\n 26 27  0  0  0  0  0  0  0  0999 V2000\\n    2.9347    1.0112   -0.8766 C   0  0  0  0  0  0  0  0  0  0  0  0\\n    3.8368    0.3443   -0.1109 N   0  0  0  0  0  0  0  0  0  0  0  0\\n    3.4540   -0.6413    0.7413 C   0  0  0  0  0  0  0  0  0  0  0  0\\n    2.1071   -0.9948    0.8454 C   0  0  0  0  0  0  0  0  0  0  0  0\\n    1.1456   -0.3402    0.0555 C   0  0  0  0  0  0  0  0  0  0  0  0\\n   -0.3246   -0.7287    0.2083 C   0  0  0  0  0  0  0  0  0  0  0  0\\n   -1.0778    0.0682    1.1966 N   0  0  0  0  0  0  0  0  0  0  0  0\\n   -0.8284    1.5202    1.0987 C   0  0  0  0  0  0  0  0  0  0  0  0\\n   -2.4872   -0.2219    0.8838 C   0  0  0  0  0  0  0  0  0  0  0  0\\n   -2.5833   -0.5850   -0.5990 C   0  0  0  0  0  0  0  0  0  0  0  0\\n   -1.1514   -0.7646   -1.0763 C   0  0  0  0  0  0  0  0  0  0  0  0\\n    1.5771    0.6896   -0.8051 C   0  0  0  0  0  0  0  0  0  0  0  0\\n    3.2704    1.7996   -1.5370 H   0  0  0  0  0  0  0  0  0  0  0  0\\n    4.1959   -1.1495    1.3428 H   0  0  0  0  0  0  0  0  0  0  0  0\\n    1.8179   -1.7753    1.5382 H   0  0  0  0  0  0  0  0  0  0  0  0\\n   -0.3327   -1.7794    0.5839 H   0  0  0  0  0  0  0  0  0  0  0  0\\n    0.2140    1.7531    1.4004 H   0  0  0  0  0  0  0  0  0  0  0  0\\n   -1.4833    2.0685    1.8097 H   0  0  0  0  0  0  0  0  0  0  0  0\\n   -1.0189    1.9004    0.0710 H   0  0  0  0  0  0  0  0  0  0  0  0\\n   -3.1720    0.6208    1.1323 H   0  0  0  0  0  0  0  0  0  0  0  0\\n   -2.8101   -1.0926    1.4956 H   0  0  0  0  0  0  0  0  0  0  0  0\\n   -3.0814    0.2318   -1.1662 H   0  0  0  0  0  0  0  0  0  0  0  0\\n   -3.1635   -1.5244   -0.7320 H   0  0  0  0  0  0  0  0  0  0  0  0\\n   -1.0213   -1.7321   -1.6094 H   0  0  0  0  0  0  0  0  0  0  0  0\\n   -0.9005    0.0604   -1.7713 H   0  0  0  0  0  0  0  0  0  0  0  0\\n    0.8830    1.2618   -1.4022 H   0  0  0  0  0  0  0  0  0  0  0  0\\n  1  2  2  0\\n  2  3  1  0\\n  3  4  2  0\\n  4  5  1  0\\n  5  6  1  0\\n  6  7  1  0\\n  7  8  1  0\\n  7  9  1  0\\n  9 10  1  0\\n 10 11  1  0\\n  5 12  2  0\\n 12  1  1  0\\n 11  6  1  0\\n  1 13  1  0\\n  3 14  1  0\\n  4 15  1  0\\n  6 16  1  0\\n  8 17  1  0\\n  8 18  1  0\\n  8 19  1  0\\n  9 20  1  0\\n  9 21  1  0\\n 10 22  1  0\\n 10 23  1  0\\n 11 24  1  0\\n 11 25  1  0\\n 12 26  1  0\\nM  END\\n\");\n",
              "\tviewer_16944055779260554.setStyle({\"stick\": {}});\n",
              "\tviewer_16944055779260554.zoomTo();\n",
              "viewer_16944055779260554.render();\n",
              "});\n",
              "</script>"
            ]
          },
          "metadata": {}
        },
        {
          "output_type": "stream",
          "name": "stdout",
          "text": [
            "naproxen\n"
          ]
        },
        {
          "output_type": "display_data",
          "data": {
            "application/3dmoljs_load.v0": "<div id=\"3dmolviewer_16944055779801872\"  style=\"position: relative; width: 400px; height: 400px;\">\n        <p id=\"3dmolwarning_16944055779801872\" style=\"background-color:#ffcccc;color:black\">You appear to be running in JupyterLab (or JavaScript failed to load for some other reason).  You need to install the 3dmol extension: <br>\n        <tt>jupyter labextension install jupyterlab_3dmol</tt></p>\n        </div>\n<script>\n\nvar loadScriptAsync = function(uri){\n  return new Promise((resolve, reject) => {\n    //this is to ignore the existence of requirejs amd\n    var savedexports, savedmodule;\n    if (typeof exports !== 'undefined') savedexports = exports;\n    else exports = {}\n    if (typeof module !== 'undefined') savedmodule = module;\n    else module = {}\n\n    var tag = document.createElement('script');\n    tag.src = uri;\n    tag.async = true;\n    tag.onload = () => {\n        exports = savedexports;\n        module = savedmodule;\n        resolve();\n    };\n  var firstScriptTag = document.getElementsByTagName('script')[0];\n  firstScriptTag.parentNode.insertBefore(tag, firstScriptTag);\n});\n};\n\nif(typeof $3Dmolpromise === 'undefined') {\n$3Dmolpromise = null;\n  $3Dmolpromise = loadScriptAsync('https://cdnjs.cloudflare.com/ajax/libs/3Dmol/2.0.3/3Dmol-min.js');\n}\n\nvar viewer_16944055779801872 = null;\nvar warn = document.getElementById(\"3dmolwarning_16944055779801872\");\nif(warn) {\n    warn.parentNode.removeChild(warn);\n}\n$3Dmolpromise.then(function() {\nviewer_16944055779801872 = $3Dmol.createViewer(document.getElementById(\"3dmolviewer_16944055779801872\"),{backgroundColor:\"white\"});\nviewer_16944055779801872.zoomTo();\n\tviewer_16944055779801872.addModel(\"\\n     RDKit          3D\\n\\n 31 32  0  0  0  0  0  0  0  0999 V2000\\n   -4.4722   -1.2632   -0.9919 O   0  0  0  0  0  0  0  0  0  0  0  0\\n   -3.6687   -1.5238    0.1139 C   0  0  0  0  0  0  0  0  0  0  0  0\\n   -3.2906   -2.7042    0.3469 O   0  0  0  0  0  0  0  0  0  0  0  0\\n   -3.2182   -0.3838    0.9876 C   0  0  2  0  0  0  0  0  0  0  0  0\\n   -1.8689    0.1373    0.5339 C   0  0  0  0  0  0  0  0  0  0  0  0\\n   -1.7397    1.4693    0.1038 C   0  0  0  0  0  0  0  0  0  0  0  0\\n   -0.5029    1.9665   -0.3144 C   0  0  0  0  0  0  0  0  0  0  0  0\\n    0.6292    1.1404   -0.3092 C   0  0  0  0  0  0  0  0  0  0  0  0\\n    1.8751    1.6319   -0.7276 C   0  0  0  0  0  0  0  0  0  0  0  0\\n    3.0059    0.8064   -0.7221 C   0  0  0  0  0  0  0  0  0  0  0  0\\n    4.2268    1.3486   -1.1505 O   0  0  0  0  0  0  0  0  0  0  0  0\\n    5.4542    0.6285   -1.1978 C   0  0  0  0  0  0  0  0  0  0  0  0\\n    2.8837   -0.5284   -0.2911 C   0  0  0  0  0  0  0  0  0  0  0  0\\n    1.6468   -1.0265    0.1274 C   0  0  0  0  0  0  0  0  0  0  0  0\\n    0.5137   -0.2007    0.1222 C   0  0  0  0  0  0  0  0  0  0  0  0\\n   -0.7317   -0.6931    0.5408 C   0  0  0  0  0  0  0  0  0  0  0  0\\n   -3.1951   -0.7738    2.4712 C   0  0  0  0  0  0  0  0  0  0  0  0\\n   -4.7726   -2.0123   -1.6040 H   0  0  0  0  0  0  0  0  0  0  0  0\\n   -3.9791    0.4221    0.8866 H   0  0  0  0  0  0  0  0  0  0  0  0\\n   -2.5987    2.1285    0.0910 H   0  0  0  0  0  0  0  0  0  0  0  0\\n   -0.4320    2.9971   -0.6414 H   0  0  0  0  0  0  0  0  0  0  0  0\\n    1.9732    2.6589   -1.0600 H   0  0  0  0  0  0  0  0  0  0  0  0\\n    6.2537    1.2991   -1.5740 H   0  0  0  0  0  0  0  0  0  0  0  0\\n    5.7319    0.2800   -0.1806 H   0  0  0  0  0  0  0  0  0  0  0  0\\n    5.3627   -0.2372   -1.8873 H   0  0  0  0  0  0  0  0  0  0  0  0\\n    3.7391   -1.1898   -0.2757 H   0  0  0  0  0  0  0  0  0  0  0  0\\n    1.5767   -2.0571    0.4549 H   0  0  0  0  0  0  0  0  0  0  0  0\\n   -0.8175   -1.7214    0.8710 H   0  0  0  0  0  0  0  0  0  0  0  0\\n   -4.2067   -1.1019    2.7932 H   0  0  0  0  0  0  0  0  0  0  0  0\\n   -2.4771   -1.5995    2.6619 H   0  0  0  0  0  0  0  0  0  0  0  0\\n   -2.9010    0.1022    3.0881 H   0  0  0  0  0  0  0  0  0  0  0  0\\n  1  2  1  0\\n  2  3  2  0\\n  2  4  1  0\\n  4  5  1  0\\n  5  6  2  0\\n  6  7  1  0\\n  7  8  2  0\\n  8  9  1  0\\n  9 10  2  0\\n 10 11  1  0\\n 11 12  1  0\\n 10 13  1  0\\n 13 14  2  0\\n 14 15  1  0\\n 15 16  2  0\\n  4 17  1  0\\n 16  5  1  0\\n 15  8  1  0\\n  1 18  1  0\\n  4 19  1  1\\n  6 20  1  0\\n  7 21  1  0\\n  9 22  1  0\\n 12 23  1  0\\n 12 24  1  0\\n 12 25  1  0\\n 13 26  1  0\\n 14 27  1  0\\n 16 28  1  0\\n 17 29  1  0\\n 17 30  1  0\\n 17 31  1  0\\nM  END\\n\");\n\tviewer_16944055779801872.setStyle({\"stick\": {}});\n\tviewer_16944055779801872.zoomTo();\nviewer_16944055779801872.render();\n});\n</script>",
            "text/html": [
              "<div id=\"3dmolviewer_16944055779801872\"  style=\"position: relative; width: 400px; height: 400px;\">\n",
              "        <p id=\"3dmolwarning_16944055779801872\" style=\"background-color:#ffcccc;color:black\">You appear to be running in JupyterLab (or JavaScript failed to load for some other reason).  You need to install the 3dmol extension: <br>\n",
              "        <tt>jupyter labextension install jupyterlab_3dmol</tt></p>\n",
              "        </div>\n",
              "<script>\n",
              "\n",
              "var loadScriptAsync = function(uri){\n",
              "  return new Promise((resolve, reject) => {\n",
              "    //this is to ignore the existence of requirejs amd\n",
              "    var savedexports, savedmodule;\n",
              "    if (typeof exports !== 'undefined') savedexports = exports;\n",
              "    else exports = {}\n",
              "    if (typeof module !== 'undefined') savedmodule = module;\n",
              "    else module = {}\n",
              "\n",
              "    var tag = document.createElement('script');\n",
              "    tag.src = uri;\n",
              "    tag.async = true;\n",
              "    tag.onload = () => {\n",
              "        exports = savedexports;\n",
              "        module = savedmodule;\n",
              "        resolve();\n",
              "    };\n",
              "  var firstScriptTag = document.getElementsByTagName('script')[0];\n",
              "  firstScriptTag.parentNode.insertBefore(tag, firstScriptTag);\n",
              "});\n",
              "};\n",
              "\n",
              "if(typeof $3Dmolpromise === 'undefined') {\n",
              "$3Dmolpromise = null;\n",
              "  $3Dmolpromise = loadScriptAsync('https://cdnjs.cloudflare.com/ajax/libs/3Dmol/2.0.3/3Dmol-min.js');\n",
              "}\n",
              "\n",
              "var viewer_16944055779801872 = null;\n",
              "var warn = document.getElementById(\"3dmolwarning_16944055779801872\");\n",
              "if(warn) {\n",
              "    warn.parentNode.removeChild(warn);\n",
              "}\n",
              "$3Dmolpromise.then(function() {\n",
              "viewer_16944055779801872 = $3Dmol.createViewer(document.getElementById(\"3dmolviewer_16944055779801872\"),{backgroundColor:\"white\"});\n",
              "viewer_16944055779801872.zoomTo();\n",
              "\tviewer_16944055779801872.addModel(\"\\n     RDKit          3D\\n\\n 31 32  0  0  0  0  0  0  0  0999 V2000\\n   -4.4722   -1.2632   -0.9919 O   0  0  0  0  0  0  0  0  0  0  0  0\\n   -3.6687   -1.5238    0.1139 C   0  0  0  0  0  0  0  0  0  0  0  0\\n   -3.2906   -2.7042    0.3469 O   0  0  0  0  0  0  0  0  0  0  0  0\\n   -3.2182   -0.3838    0.9876 C   0  0  2  0  0  0  0  0  0  0  0  0\\n   -1.8689    0.1373    0.5339 C   0  0  0  0  0  0  0  0  0  0  0  0\\n   -1.7397    1.4693    0.1038 C   0  0  0  0  0  0  0  0  0  0  0  0\\n   -0.5029    1.9665   -0.3144 C   0  0  0  0  0  0  0  0  0  0  0  0\\n    0.6292    1.1404   -0.3092 C   0  0  0  0  0  0  0  0  0  0  0  0\\n    1.8751    1.6319   -0.7276 C   0  0  0  0  0  0  0  0  0  0  0  0\\n    3.0059    0.8064   -0.7221 C   0  0  0  0  0  0  0  0  0  0  0  0\\n    4.2268    1.3486   -1.1505 O   0  0  0  0  0  0  0  0  0  0  0  0\\n    5.4542    0.6285   -1.1978 C   0  0  0  0  0  0  0  0  0  0  0  0\\n    2.8837   -0.5284   -0.2911 C   0  0  0  0  0  0  0  0  0  0  0  0\\n    1.6468   -1.0265    0.1274 C   0  0  0  0  0  0  0  0  0  0  0  0\\n    0.5137   -0.2007    0.1222 C   0  0  0  0  0  0  0  0  0  0  0  0\\n   -0.7317   -0.6931    0.5408 C   0  0  0  0  0  0  0  0  0  0  0  0\\n   -3.1951   -0.7738    2.4712 C   0  0  0  0  0  0  0  0  0  0  0  0\\n   -4.7726   -2.0123   -1.6040 H   0  0  0  0  0  0  0  0  0  0  0  0\\n   -3.9791    0.4221    0.8866 H   0  0  0  0  0  0  0  0  0  0  0  0\\n   -2.5987    2.1285    0.0910 H   0  0  0  0  0  0  0  0  0  0  0  0\\n   -0.4320    2.9971   -0.6414 H   0  0  0  0  0  0  0  0  0  0  0  0\\n    1.9732    2.6589   -1.0600 H   0  0  0  0  0  0  0  0  0  0  0  0\\n    6.2537    1.2991   -1.5740 H   0  0  0  0  0  0  0  0  0  0  0  0\\n    5.7319    0.2800   -0.1806 H   0  0  0  0  0  0  0  0  0  0  0  0\\n    5.3627   -0.2372   -1.8873 H   0  0  0  0  0  0  0  0  0  0  0  0\\n    3.7391   -1.1898   -0.2757 H   0  0  0  0  0  0  0  0  0  0  0  0\\n    1.5767   -2.0571    0.4549 H   0  0  0  0  0  0  0  0  0  0  0  0\\n   -0.8175   -1.7214    0.8710 H   0  0  0  0  0  0  0  0  0  0  0  0\\n   -4.2067   -1.1019    2.7932 H   0  0  0  0  0  0  0  0  0  0  0  0\\n   -2.4771   -1.5995    2.6619 H   0  0  0  0  0  0  0  0  0  0  0  0\\n   -2.9010    0.1022    3.0881 H   0  0  0  0  0  0  0  0  0  0  0  0\\n  1  2  1  0\\n  2  3  2  0\\n  2  4  1  0\\n  4  5  1  0\\n  5  6  2  0\\n  6  7  1  0\\n  7  8  2  0\\n  8  9  1  0\\n  9 10  2  0\\n 10 11  1  0\\n 11 12  1  0\\n 10 13  1  0\\n 13 14  2  0\\n 14 15  1  0\\n 15 16  2  0\\n  4 17  1  0\\n 16  5  1  0\\n 15  8  1  0\\n  1 18  1  0\\n  4 19  1  1\\n  6 20  1  0\\n  7 21  1  0\\n  9 22  1  0\\n 12 23  1  0\\n 12 24  1  0\\n 12 25  1  0\\n 13 26  1  0\\n 14 27  1  0\\n 16 28  1  0\\n 17 29  1  0\\n 17 30  1  0\\n 17 31  1  0\\nM  END\\n\");\n",
              "\tviewer_16944055779801872.setStyle({\"stick\": {}});\n",
              "\tviewer_16944055779801872.zoomTo();\n",
              "viewer_16944055779801872.render();\n",
              "});\n",
              "</script>"
            ]
          },
          "metadata": {}
        },
        {
          "output_type": "stream",
          "name": "stdout",
          "text": [
            "penicillin\n"
          ]
        },
        {
          "output_type": "display_data",
          "data": {
            "application/3dmoljs_load.v0": "<div id=\"3dmolviewer_16944055780968103\"  style=\"position: relative; width: 400px; height: 400px;\">\n        <p id=\"3dmolwarning_16944055780968103\" style=\"background-color:#ffcccc;color:black\">You appear to be running in JupyterLab (or JavaScript failed to load for some other reason).  You need to install the 3dmol extension: <br>\n        <tt>jupyter labextension install jupyterlab_3dmol</tt></p>\n        </div>\n<script>\n\nvar loadScriptAsync = function(uri){\n  return new Promise((resolve, reject) => {\n    //this is to ignore the existence of requirejs amd\n    var savedexports, savedmodule;\n    if (typeof exports !== 'undefined') savedexports = exports;\n    else exports = {}\n    if (typeof module !== 'undefined') savedmodule = module;\n    else module = {}\n\n    var tag = document.createElement('script');\n    tag.src = uri;\n    tag.async = true;\n    tag.onload = () => {\n        exports = savedexports;\n        module = savedmodule;\n        resolve();\n    };\n  var firstScriptTag = document.getElementsByTagName('script')[0];\n  firstScriptTag.parentNode.insertBefore(tag, firstScriptTag);\n});\n};\n\nif(typeof $3Dmolpromise === 'undefined') {\n$3Dmolpromise = null;\n  $3Dmolpromise = loadScriptAsync('https://cdnjs.cloudflare.com/ajax/libs/3Dmol/2.0.3/3Dmol-min.js');\n}\n\nvar viewer_16944055780968103 = null;\nvar warn = document.getElementById(\"3dmolwarning_16944055780968103\");\nif(warn) {\n    warn.parentNode.removeChild(warn);\n}\n$3Dmolpromise.then(function() {\nviewer_16944055780968103 = $3Dmol.createViewer(document.getElementById(\"3dmolviewer_16944055780968103\"),{backgroundColor:\"white\"});\nviewer_16944055780968103.zoomTo();\n\tviewer_16944055780968103.addModel(\"\\n     RDKit          3D\\n\\n 41 43  0  0  0  0  0  0  0  0999 V2000\\n   -4.4183   -0.7763    2.5670 O   0  0  0  0  0  0  0  0  0  0  0  0\\n   -4.3041   -1.6152    1.4616 C   0  0  0  0  0  0  0  0  0  0  0  0\\n   -5.2180   -2.4450    1.2083 O   0  0  0  0  0  0  0  0  0  0  0  0\\n   -3.1131   -1.5086    0.5466 C   0  0  2  0  0  0  0  0  0  0  0  0\\n   -1.9247   -1.3738    1.3472 N   0  0  0  0  0  0  0  0  0  0  0  0\\n   -0.5482   -1.9058    1.2150 C   0  0  0  0  0  0  0  0  0  0  0  0\\n   -0.0490   -3.0186    0.9045 O   0  0  0  0  0  0  0  0  0  0  0  0\\n   -0.0027   -0.5472    1.5247 C   0  0  1  0  0  0  0  0  0  0  0  0\\n    0.6894    0.0424    0.3760 N   0  0  0  0  0  0  0  0  0  0  0  0\\n    1.2963    1.3393    0.4484 C   0  0  0  0  0  0  0  0  0  0  0  0\\n    1.2455    2.0068    1.5171 O   0  0  0  0  0  0  0  0  0  0  0  0\\n    2.0270    1.8939   -0.7353 C   0  0  0  0  0  0  0  0  0  0  0  0\\n    3.4151    1.3199   -0.8005 C   0  0  0  0  0  0  0  0  0  0  0  0\\n    4.4568    1.9027   -0.0592 C   0  0  0  0  0  0  0  0  0  0  0  0\\n    5.7406    1.3494   -0.0934 C   0  0  0  0  0  0  0  0  0  0  0  0\\n    5.9912    0.2076   -0.8595 C   0  0  0  0  0  0  0  0  0  0  0  0\\n    4.9576   -0.3848   -1.5902 C   0  0  0  0  0  0  0  0  0  0  0  0\\n    3.6723    0.1653   -1.5591 C   0  0  0  0  0  0  0  0  0  0  0  0\\n   -1.3684   -0.1028    1.6991 C   0  0  1  0  0  0  0  0  0  0  0  0\\n   -2.0863    1.0729    0.4904 S   0  0  0  0  0  0  0  0  0  0  0  0\\n   -3.1051   -0.2310   -0.3537 C   0  0  0  0  0  0  0  0  0  0  0  0\\n   -2.4223   -0.5543   -1.6951 C   0  0  0  0  0  0  0  0  0  0  0  0\\n   -4.5086    0.3371   -0.6407 C   0  0  0  0  0  0  0  0  0  0  0  0\\n   -5.2231   -0.8305    3.1796 H   0  0  0  0  0  0  0  0  0  0  0  0\\n   -3.0450   -2.4393   -0.0606 H   0  0  0  0  0  0  0  0  0  0  0  0\\n    0.6089   -0.5417    2.4533 H   0  0  0  0  0  0  0  0  0  0  0  0\\n    0.8119   -0.5184   -0.4978 H   0  0  0  0  0  0  0  0  0  0  0  0\\n    1.4630    1.6551   -1.6630 H   0  0  0  0  0  0  0  0  0  0  0  0\\n    2.0764    3.0025   -0.6637 H   0  0  0  0  0  0  0  0  0  0  0  0\\n    4.2734    2.7825    0.5453 H   0  0  0  0  0  0  0  0  0  0  0  0\\n    6.5406    1.8039    0.4767 H   0  0  0  0  0  0  0  0  0  0  0  0\\n    6.9851   -0.2202   -0.8838 H   0  0  0  0  0  0  0  0  0  0  0  0\\n    5.1516   -1.2723   -2.1786 H   0  0  0  0  0  0  0  0  0  0  0  0\\n    2.8792   -0.3083   -2.1243 H   0  0  0  0  0  0  0  0  0  0  0  0\\n   -1.6126    0.1623    2.7513 H   0  0  0  0  0  0  0  0  0  0  0  0\\n   -1.4069   -0.9710   -1.5284 H   0  0  0  0  0  0  0  0  0  0  0  0\\n   -2.3218    0.3626   -2.3148 H   0  0  0  0  0  0  0  0  0  0  0  0\\n   -3.0165   -1.3006   -2.2653 H   0  0  0  0  0  0  0  0  0  0  0  0\\n   -4.9833    0.7088    0.2917 H   0  0  0  0  0  0  0  0  0  0  0  0\\n   -4.4451    1.1938   -1.3456 H   0  0  0  0  0  0  0  0  0  0  0  0\\n   -5.1589   -0.4434   -1.0910 H   0  0  0  0  0  0  0  0  0  0  0  0\\n  1  2  1  0\\n  2  3  2  0\\n  2  4  1  0\\n  4  5  1  0\\n  5  6  1  0\\n  6  7  2  0\\n  6  8  1  0\\n  8  9  1  0\\n  9 10  1  0\\n 10 11  2  0\\n 10 12  1  0\\n 12 13  1  0\\n 13 14  2  0\\n 14 15  1  0\\n 15 16  2  0\\n 16 17  1  0\\n 17 18  2  0\\n  8 19  1  0\\n 19 20  1  0\\n 20 21  1  0\\n 21 22  1  0\\n 21 23  1  0\\n 21  4  1  0\\n 19  5  1  0\\n 18 13  1  0\\n  1 24  1  0\\n  4 25  1  6\\n  8 26  1  1\\n  9 27  1  0\\n 12 28  1  0\\n 12 29  1  0\\n 14 30  1  0\\n 15 31  1  0\\n 16 32  1  0\\n 17 33  1  0\\n 18 34  1  0\\n 19 35  1  1\\n 22 36  1  0\\n 22 37  1  0\\n 22 38  1  0\\n 23 39  1  0\\n 23 40  1  0\\n 23 41  1  0\\nM  END\\n\");\n\tviewer_16944055780968103.setStyle({\"stick\": {}});\n\tviewer_16944055780968103.zoomTo();\nviewer_16944055780968103.render();\n});\n</script>",
            "text/html": [
              "<div id=\"3dmolviewer_16944055780968103\"  style=\"position: relative; width: 400px; height: 400px;\">\n",
              "        <p id=\"3dmolwarning_16944055780968103\" style=\"background-color:#ffcccc;color:black\">You appear to be running in JupyterLab (or JavaScript failed to load for some other reason).  You need to install the 3dmol extension: <br>\n",
              "        <tt>jupyter labextension install jupyterlab_3dmol</tt></p>\n",
              "        </div>\n",
              "<script>\n",
              "\n",
              "var loadScriptAsync = function(uri){\n",
              "  return new Promise((resolve, reject) => {\n",
              "    //this is to ignore the existence of requirejs amd\n",
              "    var savedexports, savedmodule;\n",
              "    if (typeof exports !== 'undefined') savedexports = exports;\n",
              "    else exports = {}\n",
              "    if (typeof module !== 'undefined') savedmodule = module;\n",
              "    else module = {}\n",
              "\n",
              "    var tag = document.createElement('script');\n",
              "    tag.src = uri;\n",
              "    tag.async = true;\n",
              "    tag.onload = () => {\n",
              "        exports = savedexports;\n",
              "        module = savedmodule;\n",
              "        resolve();\n",
              "    };\n",
              "  var firstScriptTag = document.getElementsByTagName('script')[0];\n",
              "  firstScriptTag.parentNode.insertBefore(tag, firstScriptTag);\n",
              "});\n",
              "};\n",
              "\n",
              "if(typeof $3Dmolpromise === 'undefined') {\n",
              "$3Dmolpromise = null;\n",
              "  $3Dmolpromise = loadScriptAsync('https://cdnjs.cloudflare.com/ajax/libs/3Dmol/2.0.3/3Dmol-min.js');\n",
              "}\n",
              "\n",
              "var viewer_16944055780968103 = null;\n",
              "var warn = document.getElementById(\"3dmolwarning_16944055780968103\");\n",
              "if(warn) {\n",
              "    warn.parentNode.removeChild(warn);\n",
              "}\n",
              "$3Dmolpromise.then(function() {\n",
              "viewer_16944055780968103 = $3Dmol.createViewer(document.getElementById(\"3dmolviewer_16944055780968103\"),{backgroundColor:\"white\"});\n",
              "viewer_16944055780968103.zoomTo();\n",
              "\tviewer_16944055780968103.addModel(\"\\n     RDKit          3D\\n\\n 41 43  0  0  0  0  0  0  0  0999 V2000\\n   -4.4183   -0.7763    2.5670 O   0  0  0  0  0  0  0  0  0  0  0  0\\n   -4.3041   -1.6152    1.4616 C   0  0  0  0  0  0  0  0  0  0  0  0\\n   -5.2180   -2.4450    1.2083 O   0  0  0  0  0  0  0  0  0  0  0  0\\n   -3.1131   -1.5086    0.5466 C   0  0  2  0  0  0  0  0  0  0  0  0\\n   -1.9247   -1.3738    1.3472 N   0  0  0  0  0  0  0  0  0  0  0  0\\n   -0.5482   -1.9058    1.2150 C   0  0  0  0  0  0  0  0  0  0  0  0\\n   -0.0490   -3.0186    0.9045 O   0  0  0  0  0  0  0  0  0  0  0  0\\n   -0.0027   -0.5472    1.5247 C   0  0  1  0  0  0  0  0  0  0  0  0\\n    0.6894    0.0424    0.3760 N   0  0  0  0  0  0  0  0  0  0  0  0\\n    1.2963    1.3393    0.4484 C   0  0  0  0  0  0  0  0  0  0  0  0\\n    1.2455    2.0068    1.5171 O   0  0  0  0  0  0  0  0  0  0  0  0\\n    2.0270    1.8939   -0.7353 C   0  0  0  0  0  0  0  0  0  0  0  0\\n    3.4151    1.3199   -0.8005 C   0  0  0  0  0  0  0  0  0  0  0  0\\n    4.4568    1.9027   -0.0592 C   0  0  0  0  0  0  0  0  0  0  0  0\\n    5.7406    1.3494   -0.0934 C   0  0  0  0  0  0  0  0  0  0  0  0\\n    5.9912    0.2076   -0.8595 C   0  0  0  0  0  0  0  0  0  0  0  0\\n    4.9576   -0.3848   -1.5902 C   0  0  0  0  0  0  0  0  0  0  0  0\\n    3.6723    0.1653   -1.5591 C   0  0  0  0  0  0  0  0  0  0  0  0\\n   -1.3684   -0.1028    1.6991 C   0  0  1  0  0  0  0  0  0  0  0  0\\n   -2.0863    1.0729    0.4904 S   0  0  0  0  0  0  0  0  0  0  0  0\\n   -3.1051   -0.2310   -0.3537 C   0  0  0  0  0  0  0  0  0  0  0  0\\n   -2.4223   -0.5543   -1.6951 C   0  0  0  0  0  0  0  0  0  0  0  0\\n   -4.5086    0.3371   -0.6407 C   0  0  0  0  0  0  0  0  0  0  0  0\\n   -5.2231   -0.8305    3.1796 H   0  0  0  0  0  0  0  0  0  0  0  0\\n   -3.0450   -2.4393   -0.0606 H   0  0  0  0  0  0  0  0  0  0  0  0\\n    0.6089   -0.5417    2.4533 H   0  0  0  0  0  0  0  0  0  0  0  0\\n    0.8119   -0.5184   -0.4978 H   0  0  0  0  0  0  0  0  0  0  0  0\\n    1.4630    1.6551   -1.6630 H   0  0  0  0  0  0  0  0  0  0  0  0\\n    2.0764    3.0025   -0.6637 H   0  0  0  0  0  0  0  0  0  0  0  0\\n    4.2734    2.7825    0.5453 H   0  0  0  0  0  0  0  0  0  0  0  0\\n    6.5406    1.8039    0.4767 H   0  0  0  0  0  0  0  0  0  0  0  0\\n    6.9851   -0.2202   -0.8838 H   0  0  0  0  0  0  0  0  0  0  0  0\\n    5.1516   -1.2723   -2.1786 H   0  0  0  0  0  0  0  0  0  0  0  0\\n    2.8792   -0.3083   -2.1243 H   0  0  0  0  0  0  0  0  0  0  0  0\\n   -1.6126    0.1623    2.7513 H   0  0  0  0  0  0  0  0  0  0  0  0\\n   -1.4069   -0.9710   -1.5284 H   0  0  0  0  0  0  0  0  0  0  0  0\\n   -2.3218    0.3626   -2.3148 H   0  0  0  0  0  0  0  0  0  0  0  0\\n   -3.0165   -1.3006   -2.2653 H   0  0  0  0  0  0  0  0  0  0  0  0\\n   -4.9833    0.7088    0.2917 H   0  0  0  0  0  0  0  0  0  0  0  0\\n   -4.4451    1.1938   -1.3456 H   0  0  0  0  0  0  0  0  0  0  0  0\\n   -5.1589   -0.4434   -1.0910 H   0  0  0  0  0  0  0  0  0  0  0  0\\n  1  2  1  0\\n  2  3  2  0\\n  2  4  1  0\\n  4  5  1  0\\n  5  6  1  0\\n  6  7  2  0\\n  6  8  1  0\\n  8  9  1  0\\n  9 10  1  0\\n 10 11  2  0\\n 10 12  1  0\\n 12 13  1  0\\n 13 14  2  0\\n 14 15  1  0\\n 15 16  2  0\\n 16 17  1  0\\n 17 18  2  0\\n  8 19  1  0\\n 19 20  1  0\\n 20 21  1  0\\n 21 22  1  0\\n 21 23  1  0\\n 21  4  1  0\\n 19  5  1  0\\n 18 13  1  0\\n  1 24  1  0\\n  4 25  1  6\\n  8 26  1  1\\n  9 27  1  0\\n 12 28  1  0\\n 12 29  1  0\\n 14 30  1  0\\n 15 31  1  0\\n 16 32  1  0\\n 17 33  1  0\\n 18 34  1  0\\n 19 35  1  1\\n 22 36  1  0\\n 22 37  1  0\\n 22 38  1  0\\n 23 39  1  0\\n 23 40  1  0\\n 23 41  1  0\\nM  END\\n\");\n",
              "\tviewer_16944055780968103.setStyle({\"stick\": {}});\n",
              "\tviewer_16944055780968103.zoomTo();\n",
              "viewer_16944055780968103.render();\n",
              "});\n",
              "</script>"
            ]
          },
          "metadata": {}
        },
        {
          "output_type": "stream",
          "name": "stdout",
          "text": [
            "amoxicillin\n"
          ]
        },
        {
          "output_type": "display_data",
          "data": {
            "application/3dmoljs_load.v0": "<div id=\"3dmolviewer_16944055781867785\"  style=\"position: relative; width: 400px; height: 400px;\">\n        <p id=\"3dmolwarning_16944055781867785\" style=\"background-color:#ffcccc;color:black\">You appear to be running in JupyterLab (or JavaScript failed to load for some other reason).  You need to install the 3dmol extension: <br>\n        <tt>jupyter labextension install jupyterlab_3dmol</tt></p>\n        </div>\n<script>\n\nvar loadScriptAsync = function(uri){\n  return new Promise((resolve, reject) => {\n    //this is to ignore the existence of requirejs amd\n    var savedexports, savedmodule;\n    if (typeof exports !== 'undefined') savedexports = exports;\n    else exports = {}\n    if (typeof module !== 'undefined') savedmodule = module;\n    else module = {}\n\n    var tag = document.createElement('script');\n    tag.src = uri;\n    tag.async = true;\n    tag.onload = () => {\n        exports = savedexports;\n        module = savedmodule;\n        resolve();\n    };\n  var firstScriptTag = document.getElementsByTagName('script')[0];\n  firstScriptTag.parentNode.insertBefore(tag, firstScriptTag);\n});\n};\n\nif(typeof $3Dmolpromise === 'undefined') {\n$3Dmolpromise = null;\n  $3Dmolpromise = loadScriptAsync('https://cdnjs.cloudflare.com/ajax/libs/3Dmol/2.0.3/3Dmol-min.js');\n}\n\nvar viewer_16944055781867785 = null;\nvar warn = document.getElementById(\"3dmolwarning_16944055781867785\");\nif(warn) {\n    warn.parentNode.removeChild(warn);\n}\n$3Dmolpromise.then(function() {\nviewer_16944055781867785 = $3Dmol.createViewer(document.getElementById(\"3dmolviewer_16944055781867785\"),{backgroundColor:\"white\"});\nviewer_16944055781867785.zoomTo();\n\tviewer_16944055781867785.addModel(\"\\n     RDKit          3D\\n\\n 39 41  0  0  0  0  0  0  0  0999 V2000\\n   -5.4529    0.8741    0.3460 O   0  0  0  0  0  0  0  0  0  0  0  0\\n   -4.4291    0.9818   -0.5896 C   0  0  0  0  0  0  0  0  0  0  0  0\\n   -4.6881    1.3716   -1.7606 O   0  0  0  0  0  0  0  0  0  0  0  0\\n   -3.0297    0.5850   -0.2051 C   0  0  2  0  0  0  0  0  0  0  0  0\\n   -2.0542    1.2508   -1.0317 N   0  0  0  0  0  0  0  0  0  0  0  0\\n   -1.1005    2.3582   -0.7928 C   0  0  0  0  0  0  0  0  0  0  0  0\\n   -1.1562    3.4733   -0.2121 O   0  0  0  0  0  0  0  0  0  0  0  0\\n   -0.0229    1.5569   -1.4547 C   0  0  1  0  0  0  0  0  0  0  0  0\\n    1.0085    1.1376   -0.5017 N   0  0  0  0  0  0  0  0  0  0  0  0\\n    2.2089    0.4826   -0.9416 C   0  0  0  0  0  0  0  0  0  0  0  0\\n    2.3366    0.1713   -2.1577 O   0  0  0  0  0  0  0  0  0  0  0  0\\n    3.2912    0.1422    0.0130 C   0  0  0  0  0  0  0  0  0  0  0  0\\n    3.4619    0.8651    1.2086 C   0  0  0  0  0  0  0  0  0  0  0  0\\n    4.4901    0.5333    2.0963 C   0  0  0  0  0  0  0  0  0  0  0  0\\n    5.3639   -0.5169    1.8023 C   0  0  0  0  0  0  0  0  0  0  0  0\\n    6.3824   -0.8362    2.6974 O   0  0  0  0  0  0  0  0  0  0  0  0\\n    5.2090   -1.2352    0.6103 C   0  0  0  0  0  0  0  0  0  0  0  0\\n    4.1829   -0.9059   -0.2804 C   0  0  0  0  0  0  0  0  0  0  0  0\\n   -1.0234    0.5506   -1.7340 C   0  0  1  0  0  0  0  0  0  0  0  0\\n   -0.9276   -1.0638   -0.8836 S   0  0  0  0  0  0  0  0  0  0  0  0\\n   -2.7001   -0.9360   -0.3524 C   0  0  0  0  0  0  0  0  0  0  0  0\\n   -2.8684   -1.6612    0.9908 C   0  0  0  0  0  0  0  0  0  0  0  0\\n   -3.5532   -1.6406   -1.4272 C   0  0  0  0  0  0  0  0  0  0  0  0\\n   -6.4056    1.1183    0.1038 H   0  0  0  0  0  0  0  0  0  0  0  0\\n   -2.8592    0.9138    0.8440 H   0  0  0  0  0  0  0  0  0  0  0  0\\n    0.3873    2.0700   -2.3519 H   0  0  0  0  0  0  0  0  0  0  0  0\\n    0.8169    1.2266    0.5219 H   0  0  0  0  0  0  0  0  0  0  0  0\\n    2.8214    1.7021    1.4518 H   0  0  0  0  0  0  0  0  0  0  0  0\\n    4.6118    1.0982    3.0119 H   0  0  0  0  0  0  0  0  0  0  0  0\\n    7.0324   -1.5913    2.5124 H   0  0  0  0  0  0  0  0  0  0  0  0\\n    5.8826   -2.0489    0.3729 H   0  0  0  0  0  0  0  0  0  0  0  0\\n    4.0798   -1.4789   -1.1936 H   0  0  0  0  0  0  0  0  0  0  0  0\\n   -1.2708    0.4577   -2.8146 H   0  0  0  0  0  0  0  0  0  0  0  0\\n   -2.1958   -1.2202    1.7575 H   0  0  0  0  0  0  0  0  0  0  0  0\\n   -2.6142   -2.7380    0.8874 H   0  0  0  0  0  0  0  0  0  0  0  0\\n   -3.9173   -1.5758    1.3477 H   0  0  0  0  0  0  0  0  0  0  0  0\\n   -3.4655   -1.1143   -2.4015 H   0  0  0  0  0  0  0  0  0  0  0  0\\n   -3.2093   -2.6878   -1.5684 H   0  0  0  0  0  0  0  0  0  0  0  0\\n   -4.6234   -1.6697   -1.1299 H   0  0  0  0  0  0  0  0  0  0  0  0\\n  1  2  1  0\\n  2  3  2  0\\n  2  4  1  0\\n  4  5  1  0\\n  5  6  1  0\\n  6  7  2  0\\n  6  8  1  0\\n  8  9  1  0\\n  9 10  1  0\\n 10 11  2  0\\n 10 12  1  0\\n 12 13  2  0\\n 13 14  1  0\\n 14 15  2  0\\n 15 16  1  0\\n 15 17  1  0\\n 17 18  2  0\\n  8 19  1  0\\n 19 20  1  0\\n 20 21  1  0\\n 21 22  1  0\\n 21 23  1  0\\n 21  4  1  0\\n 19  5  1  0\\n 18 12  1  0\\n  1 24  1  0\\n  4 25  1  1\\n  8 26  1  6\\n  9 27  1  0\\n 13 28  1  0\\n 14 29  1  0\\n 16 30  1  0\\n 17 31  1  0\\n 18 32  1  0\\n 19 33  1  6\\n 22 34  1  0\\n 22 35  1  0\\n 22 36  1  0\\n 23 37  1  0\\n 23 38  1  0\\n 23 39  1  0\\nM  END\\n\");\n\tviewer_16944055781867785.setStyle({\"stick\": {}});\n\tviewer_16944055781867785.zoomTo();\nviewer_16944055781867785.render();\n});\n</script>",
            "text/html": [
              "<div id=\"3dmolviewer_16944055781867785\"  style=\"position: relative; width: 400px; height: 400px;\">\n",
              "        <p id=\"3dmolwarning_16944055781867785\" style=\"background-color:#ffcccc;color:black\">You appear to be running in JupyterLab (or JavaScript failed to load for some other reason).  You need to install the 3dmol extension: <br>\n",
              "        <tt>jupyter labextension install jupyterlab_3dmol</tt></p>\n",
              "        </div>\n",
              "<script>\n",
              "\n",
              "var loadScriptAsync = function(uri){\n",
              "  return new Promise((resolve, reject) => {\n",
              "    //this is to ignore the existence of requirejs amd\n",
              "    var savedexports, savedmodule;\n",
              "    if (typeof exports !== 'undefined') savedexports = exports;\n",
              "    else exports = {}\n",
              "    if (typeof module !== 'undefined') savedmodule = module;\n",
              "    else module = {}\n",
              "\n",
              "    var tag = document.createElement('script');\n",
              "    tag.src = uri;\n",
              "    tag.async = true;\n",
              "    tag.onload = () => {\n",
              "        exports = savedexports;\n",
              "        module = savedmodule;\n",
              "        resolve();\n",
              "    };\n",
              "  var firstScriptTag = document.getElementsByTagName('script')[0];\n",
              "  firstScriptTag.parentNode.insertBefore(tag, firstScriptTag);\n",
              "});\n",
              "};\n",
              "\n",
              "if(typeof $3Dmolpromise === 'undefined') {\n",
              "$3Dmolpromise = null;\n",
              "  $3Dmolpromise = loadScriptAsync('https://cdnjs.cloudflare.com/ajax/libs/3Dmol/2.0.3/3Dmol-min.js');\n",
              "}\n",
              "\n",
              "var viewer_16944055781867785 = null;\n",
              "var warn = document.getElementById(\"3dmolwarning_16944055781867785\");\n",
              "if(warn) {\n",
              "    warn.parentNode.removeChild(warn);\n",
              "}\n",
              "$3Dmolpromise.then(function() {\n",
              "viewer_16944055781867785 = $3Dmol.createViewer(document.getElementById(\"3dmolviewer_16944055781867785\"),{backgroundColor:\"white\"});\n",
              "viewer_16944055781867785.zoomTo();\n",
              "\tviewer_16944055781867785.addModel(\"\\n     RDKit          3D\\n\\n 39 41  0  0  0  0  0  0  0  0999 V2000\\n   -5.4529    0.8741    0.3460 O   0  0  0  0  0  0  0  0  0  0  0  0\\n   -4.4291    0.9818   -0.5896 C   0  0  0  0  0  0  0  0  0  0  0  0\\n   -4.6881    1.3716   -1.7606 O   0  0  0  0  0  0  0  0  0  0  0  0\\n   -3.0297    0.5850   -0.2051 C   0  0  2  0  0  0  0  0  0  0  0  0\\n   -2.0542    1.2508   -1.0317 N   0  0  0  0  0  0  0  0  0  0  0  0\\n   -1.1005    2.3582   -0.7928 C   0  0  0  0  0  0  0  0  0  0  0  0\\n   -1.1562    3.4733   -0.2121 O   0  0  0  0  0  0  0  0  0  0  0  0\\n   -0.0229    1.5569   -1.4547 C   0  0  1  0  0  0  0  0  0  0  0  0\\n    1.0085    1.1376   -0.5017 N   0  0  0  0  0  0  0  0  0  0  0  0\\n    2.2089    0.4826   -0.9416 C   0  0  0  0  0  0  0  0  0  0  0  0\\n    2.3366    0.1713   -2.1577 O   0  0  0  0  0  0  0  0  0  0  0  0\\n    3.2912    0.1422    0.0130 C   0  0  0  0  0  0  0  0  0  0  0  0\\n    3.4619    0.8651    1.2086 C   0  0  0  0  0  0  0  0  0  0  0  0\\n    4.4901    0.5333    2.0963 C   0  0  0  0  0  0  0  0  0  0  0  0\\n    5.3639   -0.5169    1.8023 C   0  0  0  0  0  0  0  0  0  0  0  0\\n    6.3824   -0.8362    2.6974 O   0  0  0  0  0  0  0  0  0  0  0  0\\n    5.2090   -1.2352    0.6103 C   0  0  0  0  0  0  0  0  0  0  0  0\\n    4.1829   -0.9059   -0.2804 C   0  0  0  0  0  0  0  0  0  0  0  0\\n   -1.0234    0.5506   -1.7340 C   0  0  1  0  0  0  0  0  0  0  0  0\\n   -0.9276   -1.0638   -0.8836 S   0  0  0  0  0  0  0  0  0  0  0  0\\n   -2.7001   -0.9360   -0.3524 C   0  0  0  0  0  0  0  0  0  0  0  0\\n   -2.8684   -1.6612    0.9908 C   0  0  0  0  0  0  0  0  0  0  0  0\\n   -3.5532   -1.6406   -1.4272 C   0  0  0  0  0  0  0  0  0  0  0  0\\n   -6.4056    1.1183    0.1038 H   0  0  0  0  0  0  0  0  0  0  0  0\\n   -2.8592    0.9138    0.8440 H   0  0  0  0  0  0  0  0  0  0  0  0\\n    0.3873    2.0700   -2.3519 H   0  0  0  0  0  0  0  0  0  0  0  0\\n    0.8169    1.2266    0.5219 H   0  0  0  0  0  0  0  0  0  0  0  0\\n    2.8214    1.7021    1.4518 H   0  0  0  0  0  0  0  0  0  0  0  0\\n    4.6118    1.0982    3.0119 H   0  0  0  0  0  0  0  0  0  0  0  0\\n    7.0324   -1.5913    2.5124 H   0  0  0  0  0  0  0  0  0  0  0  0\\n    5.8826   -2.0489    0.3729 H   0  0  0  0  0  0  0  0  0  0  0  0\\n    4.0798   -1.4789   -1.1936 H   0  0  0  0  0  0  0  0  0  0  0  0\\n   -1.2708    0.4577   -2.8146 H   0  0  0  0  0  0  0  0  0  0  0  0\\n   -2.1958   -1.2202    1.7575 H   0  0  0  0  0  0  0  0  0  0  0  0\\n   -2.6142   -2.7380    0.8874 H   0  0  0  0  0  0  0  0  0  0  0  0\\n   -3.9173   -1.5758    1.3477 H   0  0  0  0  0  0  0  0  0  0  0  0\\n   -3.4655   -1.1143   -2.4015 H   0  0  0  0  0  0  0  0  0  0  0  0\\n   -3.2093   -2.6878   -1.5684 H   0  0  0  0  0  0  0  0  0  0  0  0\\n   -4.6234   -1.6697   -1.1299 H   0  0  0  0  0  0  0  0  0  0  0  0\\n  1  2  1  0\\n  2  3  2  0\\n  2  4  1  0\\n  4  5  1  0\\n  5  6  1  0\\n  6  7  2  0\\n  6  8  1  0\\n  8  9  1  0\\n  9 10  1  0\\n 10 11  2  0\\n 10 12  1  0\\n 12 13  2  0\\n 13 14  1  0\\n 14 15  2  0\\n 15 16  1  0\\n 15 17  1  0\\n 17 18  2  0\\n  8 19  1  0\\n 19 20  1  0\\n 20 21  1  0\\n 21 22  1  0\\n 21 23  1  0\\n 21  4  1  0\\n 19  5  1  0\\n 18 12  1  0\\n  1 24  1  0\\n  4 25  1  1\\n  8 26  1  6\\n  9 27  1  0\\n 13 28  1  0\\n 14 29  1  0\\n 16 30  1  0\\n 17 31  1  0\\n 18 32  1  0\\n 19 33  1  6\\n 22 34  1  0\\n 22 35  1  0\\n 22 36  1  0\\n 23 37  1  0\\n 23 38  1  0\\n 23 39  1  0\\nM  END\\n\");\n",
              "\tviewer_16944055781867785.setStyle({\"stick\": {}});\n",
              "\tviewer_16944055781867785.zoomTo();\n",
              "viewer_16944055781867785.render();\n",
              "});\n",
              "</script>"
            ]
          },
          "metadata": {}
        },
        {
          "output_type": "stream",
          "name": "stdout",
          "text": [
            "ranitidine\n"
          ]
        },
        {
          "output_type": "display_data",
          "data": {
            "application/3dmoljs_load.v0": "<div id=\"3dmolviewer_16944055782760177\"  style=\"position: relative; width: 400px; height: 400px;\">\n        <p id=\"3dmolwarning_16944055782760177\" style=\"background-color:#ffcccc;color:black\">You appear to be running in JupyterLab (or JavaScript failed to load for some other reason).  You need to install the 3dmol extension: <br>\n        <tt>jupyter labextension install jupyterlab_3dmol</tt></p>\n        </div>\n<script>\n\nvar loadScriptAsync = function(uri){\n  return new Promise((resolve, reject) => {\n    //this is to ignore the existence of requirejs amd\n    var savedexports, savedmodule;\n    if (typeof exports !== 'undefined') savedexports = exports;\n    else exports = {}\n    if (typeof module !== 'undefined') savedmodule = module;\n    else module = {}\n\n    var tag = document.createElement('script');\n    tag.src = uri;\n    tag.async = true;\n    tag.onload = () => {\n        exports = savedexports;\n        module = savedmodule;\n        resolve();\n    };\n  var firstScriptTag = document.getElementsByTagName('script')[0];\n  firstScriptTag.parentNode.insertBefore(tag, firstScriptTag);\n});\n};\n\nif(typeof $3Dmolpromise === 'undefined') {\n$3Dmolpromise = null;\n  $3Dmolpromise = loadScriptAsync('https://cdnjs.cloudflare.com/ajax/libs/3Dmol/2.0.3/3Dmol-min.js');\n}\n\nvar viewer_16944055782760177 = null;\nvar warn = document.getElementById(\"3dmolwarning_16944055782760177\");\nif(warn) {\n    warn.parentNode.removeChild(warn);\n}\n$3Dmolpromise.then(function() {\nviewer_16944055782760177 = $3Dmol.createViewer(document.getElementById(\"3dmolviewer_16944055782760177\"),{backgroundColor:\"white\"});\nviewer_16944055782760177.zoomTo();\n\tviewer_16944055782760177.addModel(\"\\n     RDKit          3D\\n\\n 43 43  0  0  0  0  0  0  0  0999 V2000\\n   -4.1586   -0.6247    2.7903 C   0  0  0  0  0  0  0  0  0  0  0  0\\n   -3.8246   -0.8089    1.4998 C   0  0  0  0  0  0  0  0  0  0  0  0\\n   -4.7714   -0.5666    0.4485 N   0  0  0  0  0  0  0  0  0  0  0  0\\n   -5.8871   -1.4799    0.2329 C   0  0  0  0  0  0  0  0  0  0  0  0\\n   -2.5079   -1.2963    1.1809 N   0  0  0  0  0  0  0  0  0  0  0  0\\n   -2.0325   -1.4867   -0.1878 C   0  0  0  0  0  0  0  0  0  0  0  0\\n   -1.4271   -0.1886   -0.7202 C   0  0  0  0  0  0  0  0  0  0  0  0\\n   -0.9132   -0.3849   -2.4646 S   0  0  0  0  0  0  0  0  0  0  0  0\\n    0.7701   -1.0130   -2.1308 C   0  0  0  0  0  0  0  0  0  0  0  0\\n    1.6804    0.1105   -1.7543 C   0  0  0  0  0  0  0  0  0  0  0  0\\n    2.1095    0.3302   -0.5332 O   0  0  0  0  0  0  0  0  0  0  0  0\\n    2.8722    1.3989   -0.5512 C   0  0  0  0  0  0  0  0  0  0  0  0\\n    3.5607    1.9629    0.6622 C   0  0  0  0  0  0  0  0  0  0  0  0\\n    4.8619    1.3220    0.9529 N   0  0  0  0  0  0  0  0  0  0  0  0\\n    5.8381    1.5195   -0.1301 C   0  0  0  0  0  0  0  0  0  0  0  0\\n    4.7216   -0.1065    1.2784 C   0  0  0  0  0  0  0  0  0  0  0  0\\n    2.9508    1.9054   -1.8350 C   0  0  0  0  0  0  0  0  0  0  0  0\\n    2.1766    1.0718   -2.6140 C   0  0  0  0  0  0  0  0  0  0  0  0\\n   -5.4103   -0.0668    3.2192 N   0  0  0  0  0  4  0  0  0  0  0  0\\n   -6.1026    0.6416    2.4597 O   0  0  0  0  0  0  0  0  0  0  0  0\\n   -5.7495   -0.1436    4.5489 O   0  0  0  0  0  1  0  0  0  0  0  0\\n   -3.4447   -0.9015    3.5566 H   0  0  0  0  0  0  0  0  0  0  0  0\\n   -4.4594   -0.0064   -0.3749 H   0  0  0  0  0  0  0  0  0  0  0  0\\n   -6.7089   -0.9449   -0.2874 H   0  0  0  0  0  0  0  0  0  0  0  0\\n   -6.2700   -1.8711    1.1987 H   0  0  0  0  0  0  0  0  0  0  0  0\\n   -5.5530   -2.3313   -0.3961 H   0  0  0  0  0  0  0  0  0  0  0  0\\n   -1.8399   -1.5170    1.9541 H   0  0  0  0  0  0  0  0  0  0  0  0\\n   -1.2585   -2.2823   -0.1901 H   0  0  0  0  0  0  0  0  0  0  0  0\\n   -2.8615   -1.8306   -0.8430 H   0  0  0  0  0  0  0  0  0  0  0  0\\n   -2.1866    0.6185   -0.6800 H   0  0  0  0  0  0  0  0  0  0  0  0\\n   -0.5740    0.1246   -0.0829 H   0  0  0  0  0  0  0  0  0  0  0  0\\n    0.7556   -1.7772   -1.3270 H   0  0  0  0  0  0  0  0  0  0  0  0\\n    1.1547   -1.4967   -3.0526 H   0  0  0  0  0  0  0  0  0  0  0  0\\n    2.8872    1.8512    1.5392 H   0  0  0  0  0  0  0  0  0  0  0  0\\n    3.7085    3.0567    0.5273 H   0  0  0  0  0  0  0  0  0  0  0  0\\n    6.8456    1.1972    0.2096 H   0  0  0  0  0  0  0  0  0  0  0  0\\n    5.5637    0.9366   -1.0366 H   0  0  0  0  0  0  0  0  0  0  0  0\\n    5.9068    2.5961   -0.3975 H   0  0  0  0  0  0  0  0  0  0  0  0\\n    4.4201   -0.7001    0.3878 H   0  0  0  0  0  0  0  0  0  0  0  0\\n    5.6884   -0.5015    1.6573 H   0  0  0  0  0  0  0  0  0  0  0  0\\n    3.9677   -0.2478    2.0824 H   0  0  0  0  0  0  0  0  0  0  0  0\\n    3.5048    2.7746   -2.1633 H   0  0  0  0  0  0  0  0  0  0  0  0\\n    1.9962    1.1563   -3.6776 H   0  0  0  0  0  0  0  0  0  0  0  0\\n  1  2  2  0\\n  2  3  1  0\\n  3  4  1  0\\n  2  5  1  0\\n  5  6  1  0\\n  6  7  1  0\\n  7  8  1  0\\n  8  9  1  0\\n  9 10  1  0\\n 10 11  1  0\\n 11 12  1  0\\n 12 13  1  0\\n 13 14  1  0\\n 14 15  1  0\\n 14 16  1  0\\n 12 17  2  0\\n 17 18  1  0\\n  1 19  1  0\\n 19 20  2  0\\n 19 21  1  0\\n 18 10  2  0\\n  1 22  1  0\\n  3 23  1  0\\n  4 24  1  0\\n  4 25  1  0\\n  4 26  1  0\\n  5 27  1  0\\n  6 28  1  0\\n  6 29  1  0\\n  7 30  1  0\\n  7 31  1  0\\n  9 32  1  0\\n  9 33  1  0\\n 13 34  1  0\\n 13 35  1  0\\n 15 36  1  0\\n 15 37  1  0\\n 15 38  1  0\\n 16 39  1  0\\n 16 40  1  0\\n 16 41  1  0\\n 17 42  1  0\\n 18 43  1  0\\nM  CHG  2  19   1  21  -1\\nM  END\\n\");\n\tviewer_16944055782760177.setStyle({\"stick\": {}});\n\tviewer_16944055782760177.zoomTo();\nviewer_16944055782760177.render();\n});\n</script>",
            "text/html": [
              "<div id=\"3dmolviewer_16944055782760177\"  style=\"position: relative; width: 400px; height: 400px;\">\n",
              "        <p id=\"3dmolwarning_16944055782760177\" style=\"background-color:#ffcccc;color:black\">You appear to be running in JupyterLab (or JavaScript failed to load for some other reason).  You need to install the 3dmol extension: <br>\n",
              "        <tt>jupyter labextension install jupyterlab_3dmol</tt></p>\n",
              "        </div>\n",
              "<script>\n",
              "\n",
              "var loadScriptAsync = function(uri){\n",
              "  return new Promise((resolve, reject) => {\n",
              "    //this is to ignore the existence of requirejs amd\n",
              "    var savedexports, savedmodule;\n",
              "    if (typeof exports !== 'undefined') savedexports = exports;\n",
              "    else exports = {}\n",
              "    if (typeof module !== 'undefined') savedmodule = module;\n",
              "    else module = {}\n",
              "\n",
              "    var tag = document.createElement('script');\n",
              "    tag.src = uri;\n",
              "    tag.async = true;\n",
              "    tag.onload = () => {\n",
              "        exports = savedexports;\n",
              "        module = savedmodule;\n",
              "        resolve();\n",
              "    };\n",
              "  var firstScriptTag = document.getElementsByTagName('script')[0];\n",
              "  firstScriptTag.parentNode.insertBefore(tag, firstScriptTag);\n",
              "});\n",
              "};\n",
              "\n",
              "if(typeof $3Dmolpromise === 'undefined') {\n",
              "$3Dmolpromise = null;\n",
              "  $3Dmolpromise = loadScriptAsync('https://cdnjs.cloudflare.com/ajax/libs/3Dmol/2.0.3/3Dmol-min.js');\n",
              "}\n",
              "\n",
              "var viewer_16944055782760177 = null;\n",
              "var warn = document.getElementById(\"3dmolwarning_16944055782760177\");\n",
              "if(warn) {\n",
              "    warn.parentNode.removeChild(warn);\n",
              "}\n",
              "$3Dmolpromise.then(function() {\n",
              "viewer_16944055782760177 = $3Dmol.createViewer(document.getElementById(\"3dmolviewer_16944055782760177\"),{backgroundColor:\"white\"});\n",
              "viewer_16944055782760177.zoomTo();\n",
              "\tviewer_16944055782760177.addModel(\"\\n     RDKit          3D\\n\\n 43 43  0  0  0  0  0  0  0  0999 V2000\\n   -4.1586   -0.6247    2.7903 C   0  0  0  0  0  0  0  0  0  0  0  0\\n   -3.8246   -0.8089    1.4998 C   0  0  0  0  0  0  0  0  0  0  0  0\\n   -4.7714   -0.5666    0.4485 N   0  0  0  0  0  0  0  0  0  0  0  0\\n   -5.8871   -1.4799    0.2329 C   0  0  0  0  0  0  0  0  0  0  0  0\\n   -2.5079   -1.2963    1.1809 N   0  0  0  0  0  0  0  0  0  0  0  0\\n   -2.0325   -1.4867   -0.1878 C   0  0  0  0  0  0  0  0  0  0  0  0\\n   -1.4271   -0.1886   -0.7202 C   0  0  0  0  0  0  0  0  0  0  0  0\\n   -0.9132   -0.3849   -2.4646 S   0  0  0  0  0  0  0  0  0  0  0  0\\n    0.7701   -1.0130   -2.1308 C   0  0  0  0  0  0  0  0  0  0  0  0\\n    1.6804    0.1105   -1.7543 C   0  0  0  0  0  0  0  0  0  0  0  0\\n    2.1095    0.3302   -0.5332 O   0  0  0  0  0  0  0  0  0  0  0  0\\n    2.8722    1.3989   -0.5512 C   0  0  0  0  0  0  0  0  0  0  0  0\\n    3.5607    1.9629    0.6622 C   0  0  0  0  0  0  0  0  0  0  0  0\\n    4.8619    1.3220    0.9529 N   0  0  0  0  0  0  0  0  0  0  0  0\\n    5.8381    1.5195   -0.1301 C   0  0  0  0  0  0  0  0  0  0  0  0\\n    4.7216   -0.1065    1.2784 C   0  0  0  0  0  0  0  0  0  0  0  0\\n    2.9508    1.9054   -1.8350 C   0  0  0  0  0  0  0  0  0  0  0  0\\n    2.1766    1.0718   -2.6140 C   0  0  0  0  0  0  0  0  0  0  0  0\\n   -5.4103   -0.0668    3.2192 N   0  0  0  0  0  4  0  0  0  0  0  0\\n   -6.1026    0.6416    2.4597 O   0  0  0  0  0  0  0  0  0  0  0  0\\n   -5.7495   -0.1436    4.5489 O   0  0  0  0  0  1  0  0  0  0  0  0\\n   -3.4447   -0.9015    3.5566 H   0  0  0  0  0  0  0  0  0  0  0  0\\n   -4.4594   -0.0064   -0.3749 H   0  0  0  0  0  0  0  0  0  0  0  0\\n   -6.7089   -0.9449   -0.2874 H   0  0  0  0  0  0  0  0  0  0  0  0\\n   -6.2700   -1.8711    1.1987 H   0  0  0  0  0  0  0  0  0  0  0  0\\n   -5.5530   -2.3313   -0.3961 H   0  0  0  0  0  0  0  0  0  0  0  0\\n   -1.8399   -1.5170    1.9541 H   0  0  0  0  0  0  0  0  0  0  0  0\\n   -1.2585   -2.2823   -0.1901 H   0  0  0  0  0  0  0  0  0  0  0  0\\n   -2.8615   -1.8306   -0.8430 H   0  0  0  0  0  0  0  0  0  0  0  0\\n   -2.1866    0.6185   -0.6800 H   0  0  0  0  0  0  0  0  0  0  0  0\\n   -0.5740    0.1246   -0.0829 H   0  0  0  0  0  0  0  0  0  0  0  0\\n    0.7556   -1.7772   -1.3270 H   0  0  0  0  0  0  0  0  0  0  0  0\\n    1.1547   -1.4967   -3.0526 H   0  0  0  0  0  0  0  0  0  0  0  0\\n    2.8872    1.8512    1.5392 H   0  0  0  0  0  0  0  0  0  0  0  0\\n    3.7085    3.0567    0.5273 H   0  0  0  0  0  0  0  0  0  0  0  0\\n    6.8456    1.1972    0.2096 H   0  0  0  0  0  0  0  0  0  0  0  0\\n    5.5637    0.9366   -1.0366 H   0  0  0  0  0  0  0  0  0  0  0  0\\n    5.9068    2.5961   -0.3975 H   0  0  0  0  0  0  0  0  0  0  0  0\\n    4.4201   -0.7001    0.3878 H   0  0  0  0  0  0  0  0  0  0  0  0\\n    5.6884   -0.5015    1.6573 H   0  0  0  0  0  0  0  0  0  0  0  0\\n    3.9677   -0.2478    2.0824 H   0  0  0  0  0  0  0  0  0  0  0  0\\n    3.5048    2.7746   -2.1633 H   0  0  0  0  0  0  0  0  0  0  0  0\\n    1.9962    1.1563   -3.6776 H   0  0  0  0  0  0  0  0  0  0  0  0\\n  1  2  2  0\\n  2  3  1  0\\n  3  4  1  0\\n  2  5  1  0\\n  5  6  1  0\\n  6  7  1  0\\n  7  8  1  0\\n  8  9  1  0\\n  9 10  1  0\\n 10 11  1  0\\n 11 12  1  0\\n 12 13  1  0\\n 13 14  1  0\\n 14 15  1  0\\n 14 16  1  0\\n 12 17  2  0\\n 17 18  1  0\\n  1 19  1  0\\n 19 20  2  0\\n 19 21  1  0\\n 18 10  2  0\\n  1 22  1  0\\n  3 23  1  0\\n  4 24  1  0\\n  4 25  1  0\\n  4 26  1  0\\n  5 27  1  0\\n  6 28  1  0\\n  6 29  1  0\\n  7 30  1  0\\n  7 31  1  0\\n  9 32  1  0\\n  9 33  1  0\\n 13 34  1  0\\n 13 35  1  0\\n 15 36  1  0\\n 15 37  1  0\\n 15 38  1  0\\n 16 39  1  0\\n 16 40  1  0\\n 16 41  1  0\\n 17 42  1  0\\n 18 43  1  0\\nM  CHG  2  19   1  21  -1\\nM  END\\n\");\n",
              "\tviewer_16944055782760177.setStyle({\"stick\": {}});\n",
              "\tviewer_16944055782760177.zoomTo();\n",
              "viewer_16944055782760177.render();\n",
              "});\n",
              "</script>"
            ]
          },
          "metadata": {}
        },
        {
          "output_type": "stream",
          "name": "stdout",
          "text": [
            "loratadine\n"
          ]
        },
        {
          "output_type": "display_data",
          "data": {
            "application/3dmoljs_load.v0": "<div id=\"3dmolviewer_16944055783727322\"  style=\"position: relative; width: 400px; height: 400px;\">\n        <p id=\"3dmolwarning_16944055783727322\" style=\"background-color:#ffcccc;color:black\">You appear to be running in JupyterLab (or JavaScript failed to load for some other reason).  You need to install the 3dmol extension: <br>\n        <tt>jupyter labextension install jupyterlab_3dmol</tt></p>\n        </div>\n<script>\n\nvar loadScriptAsync = function(uri){\n  return new Promise((resolve, reject) => {\n    //this is to ignore the existence of requirejs amd\n    var savedexports, savedmodule;\n    if (typeof exports !== 'undefined') savedexports = exports;\n    else exports = {}\n    if (typeof module !== 'undefined') savedmodule = module;\n    else module = {}\n\n    var tag = document.createElement('script');\n    tag.src = uri;\n    tag.async = true;\n    tag.onload = () => {\n        exports = savedexports;\n        module = savedmodule;\n        resolve();\n    };\n  var firstScriptTag = document.getElementsByTagName('script')[0];\n  firstScriptTag.parentNode.insertBefore(tag, firstScriptTag);\n});\n};\n\nif(typeof $3Dmolpromise === 'undefined') {\n$3Dmolpromise = null;\n  $3Dmolpromise = loadScriptAsync('https://cdnjs.cloudflare.com/ajax/libs/3Dmol/2.0.3/3Dmol-min.js');\n}\n\nvar viewer_16944055783727322 = null;\nvar warn = document.getElementById(\"3dmolwarning_16944055783727322\");\nif(warn) {\n    warn.parentNode.removeChild(warn);\n}\n$3Dmolpromise.then(function() {\nviewer_16944055783727322 = $3Dmol.createViewer(document.getElementById(\"3dmolviewer_16944055783727322\"),{backgroundColor:\"white\"});\nviewer_16944055783727322.zoomTo();\n\tviewer_16944055783727322.addModel(\"\\n     RDKit          3D\\n\\n 50 53  0  0  0  0  0  0  0  0999 V2000\\n   -3.4631    2.7799   -0.9425 C   0  0  0  0  0  0  0  0  0  0  0  0\\n   -4.3148    3.1546    0.0963 C   0  0  0  0  0  0  0  0  0  0  0  0\\n   -4.8082    2.1921    0.9796 C   0  0  0  0  0  0  0  0  0  0  0  0\\n   -4.4454    0.8411    0.8399 C   0  0  0  0  0  0  0  0  0  0  0  0\\n   -4.9913   -0.1688    1.8147 C   0  0  0  0  0  0  0  0  0  0  0  0\\n   -3.5906    0.4601   -0.2236 C   0  0  0  0  0  0  0  0  0  0  0  0\\n   -3.2143   -0.9507   -0.4508 C   0  0  0  0  0  0  0  0  0  0  0  0\\n   -1.9433   -1.5054   -0.5521 C   0  0  0  0  0  0  0  0  0  0  0  0\\n   -0.6511   -0.8363   -0.3242 C   0  0  0  0  0  0  0  0  0  0  0  0\\n   -0.5363    0.4230    0.1757 N   0  0  0  0  0  0  0  0  0  0  0  0\\n    0.7951    0.6021    0.2288 C   0  0  0  0  0  0  0  0  0  0  0  0\\n    1.4831    1.7257    0.6636 C   0  0  0  0  0  0  0  0  0  0  0  0\\n    2.8886    1.6874    0.6321 C   0  0  0  0  0  0  0  0  0  0  0  0\\n    3.5931    0.5329    0.1696 C   0  0  0  0  0  0  0  0  0  0  0  0\\n    5.1348    0.5417    0.1554 C   0  0  0  0  0  0  0  0  0  0  0  0\\n    5.6615    0.7610    1.5902 C   0  0  0  0  0  0  0  0  0  0  0  0\\n    5.6346    1.6842   -0.7550 C   0  0  0  0  0  0  0  0  0  0  0  0\\n    5.7426   -0.7803   -0.3720 C   0  0  0  0  0  0  0  0  0  0  0  0\\n    2.8311   -0.5904   -0.2635 C   0  0  0  0  0  0  0  0  0  0  0  0\\n    1.4428   -0.5062   -0.2151 C   0  0  0  0  0  0  0  0  0  0  0  0\\n    0.5428   -1.4322   -0.5680 N   0  0  0  0  0  0  0  0  0  0  0  0\\n   -2.0521   -2.8135   -0.8600 N   0  0  0  0  0  0  0  0  0  0  0  0\\n   -3.3423   -3.0973   -0.9451 N   0  0  0  0  0  0  0  0  0  0  0  0\\n   -3.8621   -4.3996   -1.3371 C   0  0  0  0  0  0  0  0  0  0  0  0\\n   -4.0778   -1.9935   -0.7179 C   0  0  0  0  0  0  0  0  0  0  0  0\\n   -3.1066    1.4404   -1.1060 C   0  0  0  0  0  0  0  0  0  0  0  0\\n   -3.0845    3.5276   -1.6275 H   0  0  0  0  0  0  0  0  0  0  0  0\\n   -4.5953    4.1931    0.2167 H   0  0  0  0  0  0  0  0  0  0  0  0\\n   -5.4708    2.5038    1.7777 H   0  0  0  0  0  0  0  0  0  0  0  0\\n   -4.2002   -0.8895    2.1112 H   0  0  0  0  0  0  0  0  0  0  0  0\\n   -5.3585    0.3229    2.7406 H   0  0  0  0  0  0  0  0  0  0  0  0\\n   -5.8354   -0.7178    1.3485 H   0  0  0  0  0  0  0  0  0  0  0  0\\n    0.9558    2.6031    1.0153 H   0  0  0  0  0  0  0  0  0  0  0  0\\n    3.4245    2.5632    0.9707 H   0  0  0  0  0  0  0  0  0  0  0  0\\n    5.2754   -0.0304    2.2686 H   0  0  0  0  0  0  0  0  0  0  0  0\\n    6.7726    0.7281    1.6117 H   0  0  0  0  0  0  0  0  0  0  0  0\\n    5.3510    1.7475    1.9931 H   0  0  0  0  0  0  0  0  0  0  0  0\\n    6.7447    1.6835   -0.8153 H   0  0  0  0  0  0  0  0  0  0  0  0\\n    5.2288    1.5647   -1.7830 H   0  0  0  0  0  0  0  0  0  0  0  0\\n    5.3239    2.6783   -0.3711 H   0  0  0  0  0  0  0  0  0  0  0  0\\n    5.4422   -1.6377    0.2684 H   0  0  0  0  0  0  0  0  0  0  0  0\\n    6.8535   -0.7334   -0.3665 H   0  0  0  0  0  0  0  0  0  0  0  0\\n    5.4226   -0.9735   -1.4188 H   0  0  0  0  0  0  0  0  0  0  0  0\\n    3.2803   -1.5025   -0.6272 H   0  0  0  0  0  0  0  0  0  0  0  0\\n    0.7225   -2.3901   -0.9439 H   0  0  0  0  0  0  0  0  0  0  0  0\\n   -3.1242   -5.1928   -1.0923 H   0  0  0  0  0  0  0  0  0  0  0  0\\n   -4.8070   -4.6124   -0.7933 H   0  0  0  0  0  0  0  0  0  0  0  0\\n   -4.0572   -4.4079   -2.4297 H   0  0  0  0  0  0  0  0  0  0  0  0\\n   -5.1577   -1.9441   -0.7768 H   0  0  0  0  0  0  0  0  0  0  0  0\\n   -2.4580    1.1643   -1.9288 H   0  0  0  0  0  0  0  0  0  0  0  0\\n  1  2  2  0\\n  2  3  1  0\\n  3  4  2  0\\n  4  5  1  0\\n  4  6  1  0\\n  6  7  1  0\\n  7  8  1  0\\n  8  9  1  0\\n  9 10  2  0\\n 10 11  1  0\\n 11 12  2  0\\n 12 13  1  0\\n 13 14  2  0\\n 14 15  1  0\\n 15 16  1  0\\n 15 17  1  0\\n 15 18  1  0\\n 14 19  1  0\\n 19 20  2  0\\n 20 21  1  0\\n  8 22  2  0\\n 22 23  1  0\\n 23 24  1  0\\n 23 25  1  0\\n  6 26  2  0\\n 26  1  1  0\\n 25  7  2  0\\n 21  9  1  0\\n 20 11  1  0\\n  1 27  1  0\\n  2 28  1  0\\n  3 29  1  0\\n  5 30  1  0\\n  5 31  1  0\\n  5 32  1  0\\n 12 33  1  0\\n 13 34  1  0\\n 16 35  1  0\\n 16 36  1  0\\n 16 37  1  0\\n 17 38  1  0\\n 17 39  1  0\\n 17 40  1  0\\n 18 41  1  0\\n 18 42  1  0\\n 18 43  1  0\\n 19 44  1  0\\n 21 45  1  0\\n 24 46  1  0\\n 24 47  1  0\\n 24 48  1  0\\n 25 49  1  0\\n 26 50  1  0\\nM  END\\n\");\n\tviewer_16944055783727322.setStyle({\"stick\": {}});\n\tviewer_16944055783727322.zoomTo();\nviewer_16944055783727322.render();\n});\n</script>",
            "text/html": [
              "<div id=\"3dmolviewer_16944055783727322\"  style=\"position: relative; width: 400px; height: 400px;\">\n",
              "        <p id=\"3dmolwarning_16944055783727322\" style=\"background-color:#ffcccc;color:black\">You appear to be running in JupyterLab (or JavaScript failed to load for some other reason).  You need to install the 3dmol extension: <br>\n",
              "        <tt>jupyter labextension install jupyterlab_3dmol</tt></p>\n",
              "        </div>\n",
              "<script>\n",
              "\n",
              "var loadScriptAsync = function(uri){\n",
              "  return new Promise((resolve, reject) => {\n",
              "    //this is to ignore the existence of requirejs amd\n",
              "    var savedexports, savedmodule;\n",
              "    if (typeof exports !== 'undefined') savedexports = exports;\n",
              "    else exports = {}\n",
              "    if (typeof module !== 'undefined') savedmodule = module;\n",
              "    else module = {}\n",
              "\n",
              "    var tag = document.createElement('script');\n",
              "    tag.src = uri;\n",
              "    tag.async = true;\n",
              "    tag.onload = () => {\n",
              "        exports = savedexports;\n",
              "        module = savedmodule;\n",
              "        resolve();\n",
              "    };\n",
              "  var firstScriptTag = document.getElementsByTagName('script')[0];\n",
              "  firstScriptTag.parentNode.insertBefore(tag, firstScriptTag);\n",
              "});\n",
              "};\n",
              "\n",
              "if(typeof $3Dmolpromise === 'undefined') {\n",
              "$3Dmolpromise = null;\n",
              "  $3Dmolpromise = loadScriptAsync('https://cdnjs.cloudflare.com/ajax/libs/3Dmol/2.0.3/3Dmol-min.js');\n",
              "}\n",
              "\n",
              "var viewer_16944055783727322 = null;\n",
              "var warn = document.getElementById(\"3dmolwarning_16944055783727322\");\n",
              "if(warn) {\n",
              "    warn.parentNode.removeChild(warn);\n",
              "}\n",
              "$3Dmolpromise.then(function() {\n",
              "viewer_16944055783727322 = $3Dmol.createViewer(document.getElementById(\"3dmolviewer_16944055783727322\"),{backgroundColor:\"white\"});\n",
              "viewer_16944055783727322.zoomTo();\n",
              "\tviewer_16944055783727322.addModel(\"\\n     RDKit          3D\\n\\n 50 53  0  0  0  0  0  0  0  0999 V2000\\n   -3.4631    2.7799   -0.9425 C   0  0  0  0  0  0  0  0  0  0  0  0\\n   -4.3148    3.1546    0.0963 C   0  0  0  0  0  0  0  0  0  0  0  0\\n   -4.8082    2.1921    0.9796 C   0  0  0  0  0  0  0  0  0  0  0  0\\n   -4.4454    0.8411    0.8399 C   0  0  0  0  0  0  0  0  0  0  0  0\\n   -4.9913   -0.1688    1.8147 C   0  0  0  0  0  0  0  0  0  0  0  0\\n   -3.5906    0.4601   -0.2236 C   0  0  0  0  0  0  0  0  0  0  0  0\\n   -3.2143   -0.9507   -0.4508 C   0  0  0  0  0  0  0  0  0  0  0  0\\n   -1.9433   -1.5054   -0.5521 C   0  0  0  0  0  0  0  0  0  0  0  0\\n   -0.6511   -0.8363   -0.3242 C   0  0  0  0  0  0  0  0  0  0  0  0\\n   -0.5363    0.4230    0.1757 N   0  0  0  0  0  0  0  0  0  0  0  0\\n    0.7951    0.6021    0.2288 C   0  0  0  0  0  0  0  0  0  0  0  0\\n    1.4831    1.7257    0.6636 C   0  0  0  0  0  0  0  0  0  0  0  0\\n    2.8886    1.6874    0.6321 C   0  0  0  0  0  0  0  0  0  0  0  0\\n    3.5931    0.5329    0.1696 C   0  0  0  0  0  0  0  0  0  0  0  0\\n    5.1348    0.5417    0.1554 C   0  0  0  0  0  0  0  0  0  0  0  0\\n    5.6615    0.7610    1.5902 C   0  0  0  0  0  0  0  0  0  0  0  0\\n    5.6346    1.6842   -0.7550 C   0  0  0  0  0  0  0  0  0  0  0  0\\n    5.7426   -0.7803   -0.3720 C   0  0  0  0  0  0  0  0  0  0  0  0\\n    2.8311   -0.5904   -0.2635 C   0  0  0  0  0  0  0  0  0  0  0  0\\n    1.4428   -0.5062   -0.2151 C   0  0  0  0  0  0  0  0  0  0  0  0\\n    0.5428   -1.4322   -0.5680 N   0  0  0  0  0  0  0  0  0  0  0  0\\n   -2.0521   -2.8135   -0.8600 N   0  0  0  0  0  0  0  0  0  0  0  0\\n   -3.3423   -3.0973   -0.9451 N   0  0  0  0  0  0  0  0  0  0  0  0\\n   -3.8621   -4.3996   -1.3371 C   0  0  0  0  0  0  0  0  0  0  0  0\\n   -4.0778   -1.9935   -0.7179 C   0  0  0  0  0  0  0  0  0  0  0  0\\n   -3.1066    1.4404   -1.1060 C   0  0  0  0  0  0  0  0  0  0  0  0\\n   -3.0845    3.5276   -1.6275 H   0  0  0  0  0  0  0  0  0  0  0  0\\n   -4.5953    4.1931    0.2167 H   0  0  0  0  0  0  0  0  0  0  0  0\\n   -5.4708    2.5038    1.7777 H   0  0  0  0  0  0  0  0  0  0  0  0\\n   -4.2002   -0.8895    2.1112 H   0  0  0  0  0  0  0  0  0  0  0  0\\n   -5.3585    0.3229    2.7406 H   0  0  0  0  0  0  0  0  0  0  0  0\\n   -5.8354   -0.7178    1.3485 H   0  0  0  0  0  0  0  0  0  0  0  0\\n    0.9558    2.6031    1.0153 H   0  0  0  0  0  0  0  0  0  0  0  0\\n    3.4245    2.5632    0.9707 H   0  0  0  0  0  0  0  0  0  0  0  0\\n    5.2754   -0.0304    2.2686 H   0  0  0  0  0  0  0  0  0  0  0  0\\n    6.7726    0.7281    1.6117 H   0  0  0  0  0  0  0  0  0  0  0  0\\n    5.3510    1.7475    1.9931 H   0  0  0  0  0  0  0  0  0  0  0  0\\n    6.7447    1.6835   -0.8153 H   0  0  0  0  0  0  0  0  0  0  0  0\\n    5.2288    1.5647   -1.7830 H   0  0  0  0  0  0  0  0  0  0  0  0\\n    5.3239    2.6783   -0.3711 H   0  0  0  0  0  0  0  0  0  0  0  0\\n    5.4422   -1.6377    0.2684 H   0  0  0  0  0  0  0  0  0  0  0  0\\n    6.8535   -0.7334   -0.3665 H   0  0  0  0  0  0  0  0  0  0  0  0\\n    5.4226   -0.9735   -1.4188 H   0  0  0  0  0  0  0  0  0  0  0  0\\n    3.2803   -1.5025   -0.6272 H   0  0  0  0  0  0  0  0  0  0  0  0\\n    0.7225   -2.3901   -0.9439 H   0  0  0  0  0  0  0  0  0  0  0  0\\n   -3.1242   -5.1928   -1.0923 H   0  0  0  0  0  0  0  0  0  0  0  0\\n   -4.8070   -4.6124   -0.7933 H   0  0  0  0  0  0  0  0  0  0  0  0\\n   -4.0572   -4.4079   -2.4297 H   0  0  0  0  0  0  0  0  0  0  0  0\\n   -5.1577   -1.9441   -0.7768 H   0  0  0  0  0  0  0  0  0  0  0  0\\n   -2.4580    1.1643   -1.9288 H   0  0  0  0  0  0  0  0  0  0  0  0\\n  1  2  2  0\\n  2  3  1  0\\n  3  4  2  0\\n  4  5  1  0\\n  4  6  1  0\\n  6  7  1  0\\n  7  8  1  0\\n  8  9  1  0\\n  9 10  2  0\\n 10 11  1  0\\n 11 12  2  0\\n 12 13  1  0\\n 13 14  2  0\\n 14 15  1  0\\n 15 16  1  0\\n 15 17  1  0\\n 15 18  1  0\\n 14 19  1  0\\n 19 20  2  0\\n 20 21  1  0\\n  8 22  2  0\\n 22 23  1  0\\n 23 24  1  0\\n 23 25  1  0\\n  6 26  2  0\\n 26  1  1  0\\n 25  7  2  0\\n 21  9  1  0\\n 20 11  1  0\\n  1 27  1  0\\n  2 28  1  0\\n  3 29  1  0\\n  5 30  1  0\\n  5 31  1  0\\n  5 32  1  0\\n 12 33  1  0\\n 13 34  1  0\\n 16 35  1  0\\n 16 36  1  0\\n 16 37  1  0\\n 17 38  1  0\\n 17 39  1  0\\n 17 40  1  0\\n 18 41  1  0\\n 18 42  1  0\\n 18 43  1  0\\n 19 44  1  0\\n 21 45  1  0\\n 24 46  1  0\\n 24 47  1  0\\n 24 48  1  0\\n 25 49  1  0\\n 26 50  1  0\\nM  END\\n\");\n",
              "\tviewer_16944055783727322.setStyle({\"stick\": {}});\n",
              "\tviewer_16944055783727322.zoomTo();\n",
              "viewer_16944055783727322.render();\n",
              "});\n",
              "</script>"
            ]
          },
          "metadata": {}
        }
      ]
    },
    {
      "cell_type": "markdown",
      "source": [
        "-Resolucion B:"
      ],
      "metadata": {
        "id": "NmEViWS8jrqx"
      }
    },
    {
      "cell_type": "code",
      "source": [
        "import pubchempy as pcp\n",
        "\n",
        "# Lista de nombres de los fármacos\n",
        "drug_names = [\"aspirin\", \"ibuprofen\", \"acetaminophen\", \"caffeine\", \"diphenhydramine\", \"loratadine\", \"ranitidine\", \"cetirizine\", \"fexofenadine\", \"naproxen\"]\n",
        "\n",
        "smiles_list = []\n",
        "\n",
        "for drug in drug_names:\n",
        "    try:\n",
        "        compound = pcp.get_compounds(drug, namespace='name', record_type='2d')[0]\n",
        "        smiles_list.append(compound.isomeric_smiles)\n",
        "    except:\n",
        "        try:\n",
        "            compound = pcp.get_compounds(drug, namespace='name', record_type='3d')[0]\n",
        "            smiles_list.append(compound.isomeric_smiles)\n",
        "        except:\n",
        "            smiles_list.append(None)\n",
        "\n",
        "print(smiles_list)"
      ],
      "metadata": {
        "id": "URoCyKoqNhpn"
      },
      "execution_count": null,
      "outputs": []
    },
    {
      "cell_type": "code",
      "source": [
        "from rdkit import Chem\n",
        "from rdkit.Chem import Draw\n",
        "\n",
        "antiTBC = [\n",
        "           'CC(=O)OC1=CC=CC=C1C(=O)O', 'CC(C)CC1=CC=C(C=C1)C(C)C(=O)O','CC(=O)NC1=CC=C(C=C1)O',\n",
        "           'CN1C=NC2=C1C(=O)N(C(=O)N2C)C','CN(C)CCOC(C1=CC=CC=C1)C2=CC=CC=C2',\n",
        "           'CCOC(=O)N1CCC(=C2C3=C(CCC4=C2N=CC=C4)C=C(C=C3)Cl)CC1', 'CN/C(=C\\\\[N+](=O)[O-])/NCCSCC1=CC=C(O1)CN(C)C',\n",
        "           'C1CN(CCN1CCOCC(=O)O)C(C2=CC=CC=C2)C3=CC=C(C=C3)Cl',\n",
        "           'CC(C)(C1=CC=C(C=C1)C(CCCN2CCC(CC2)C(C3=CC=CC=C3)(C4=CC=CC=C4)O)O)C(=O)O', 'C[C@@H](C1=CC2=C(C=C1)C=C(C=C2)OC)C(=O)O']\n",
        "mol_lista = []\n",
        "\n",
        "for i in antiTBC:\n",
        "  mol = Chem.MolFromSmiles(i)\n",
        "  mol_lista.append(mol)\n",
        "Draw.MolsToGridImage(mol_lista)"
      ],
      "metadata": {
        "id": "4seteZdT5tus",
        "colab": {
          "base_uri": "https://localhost:8080/",
          "height": 817
        },
        "outputId": "abec898d-46a8-4531-ab1e-a0caab3ae8ce"
      },
      "execution_count": null,
      "outputs": [
        {
          "output_type": "execute_result",
          "data": {
            "image/png": "[encoded data removed]",
            "text/plain": [
              "<IPython.core.display.Image object>"
            ]
          },
          "metadata": {},
          "execution_count": 14
        }
      ]
    },
    {
      "cell_type": "code",
      "source": [
        "from rdkit import Chem\n",
        "from rdkit.Chem import AllChem\n",
        "\n",
        "for smiles in smiles_list:\n",
        "    molecule = Chem.MolFromSmiles(smiles)\n",
        "    if molecule is None:\n",
        "        print(f\"Error al convertir el SMILES: {smiles}\")\n",
        "        continue\n",
        "    molecule = Chem.AddHs(molecule)  # Añadir átomos de hidrógeno para la optimización\n",
        "    AllChem.EmbedMolecule(molecule, AllChem.ETKDG())  # Generar una conformación 3D para la molécula\n",
        "    AllChem.MMFFOptimizeMolecule(molecule)  # Optimizar la molécula usando MMFF94"
      ],
      "metadata": {
        "id": "glgj30NyW-mQ"
      },
      "execution_count": null,
      "outputs": []
    },
    {
      "cell_type": "code",
      "source": [
        "from rdkit import Chem\n",
        "from rdkit.Chem import AllChem\n",
        "\n",
        "smiles_list = ['CC(=O)OC1=CC=CC=C1C(=O)O', 'CC(C)CC1=CC=C(C=C1)C(C)C(=O)O', 'CC(=O)NC1=CC=C(C=C1)O',\n",
        "           'CN1C=NC2=C1C(=O)N(C(=O)N2C)C','CN(C)CCOC(C1=CC=CC=C1)C2=CC=CC=C2',\n",
        "           'CCOC(=O)N1CCC(=C2C3=C(CCC4=C2N=CC=C4)C=C(C=C3)Cl)CC1', 'CN/C(=C\\\\[N+](=O)[O-])/NCCSCC1=CC=C(O1)CN(C)C',\n",
        "           'C1CN(CCN1CCOCC(=O)O)C(C2=CC=CC=C2)C3=CC=C(C=C3)Cl',\n",
        "           'CC(C)(C1=CC=C(C=C1)C(CCCN2CCC(CC2)C(C3=CC=CC=C3)(C4=CC=CC=C4)O)O)C(=O)O', 'C[C@@H](C1=CC2=C(C=C1)C=C(C=C2)OC)C(=O)O']\n",
        "\n",
        "for smiles in smiles_list:\n",
        "    molecule = Chem.MolFromSmiles(smiles)\n",
        "    if molecule is None:\n",
        "        print(f\"Error al convertir el SMILES: {smiles}\")\n",
        "        continue\n",
        "    molecule = Chem.AddHs(molecule)  # Añadir átomos de hidrógeno para la optimización\n",
        "    AllChem.EmbedMolecule(molecule, AllChem.ETKDG())  # Generar una conformación 3D para la molécula\n",
        "    AllChem.MMFFOptimizeMolecule(molecule)  # Optimizar la molécula usando MMFF94\n",
        "\n",
        "    # Imprimir el SMILES después de la optimización\n",
        "    print(f\"SMILES original: {smiles}\")\n",
        "    print(f\"SMILES optimizado: {Chem.MolToSmiles(molecule)}\")\n",
        "    print(\"----------\")\n"
      ],
      "metadata": {
        "id": "7D2dab_EXOZ1"
      },
      "execution_count": null,
      "outputs": []
    },
    {
      "cell_type": "code",
      "source": [
        "#comprobamos que se realizo la preoptimizacion:\n",
        "#1.Comprobar la energía antes y después(disminución)\n",
        "#2.visualizar la estructura antes y después de la\n",
        "\n",
        "from rdkit import Chem\n",
        "from rdkit.Chem import AllChem\n",
        "\n",
        "for smiles in smiles_list:\n",
        "    molecule = Chem.MolFromSmiles(smiles)\n",
        "    molecule = Chem.AddHs(molecule)\n",
        "    AllChem.EmbedMolecule(molecule, AllChem.ETKDG())\n",
        "\n",
        "    # Calcular la energía antes de la optimización\n",
        "    prop = AllChem.MMFFGetMoleculeProperties(molecule)\n",
        "    energy_before = AllChem.MMFFGetMoleculeForceField(molecule, prop).CalcEnergy()\n",
        "\n",
        "    # Optimizar la molécula\n",
        "    AllChem.MMFFOptimizeMolecule(molecule)\n",
        "\n",
        "    # Calcular la energía después de la optimización\n",
        "    energy_after = AllChem.MMFFGetMoleculeForceField(molecule, prop).CalcEnergy()\n",
        "\n",
        "    print(f\"Energía antes: {energy_before:.4f}, Energía después: {energy_after:.4f}\")"
      ],
      "metadata": {
        "id": "ghpI_I9aO-87",
        "colab": {
          "base_uri": "https://localhost:8080/"
        },
        "outputId": "f7dd2829-cac9-4245-d823-9433d8f122ba"
      },
      "execution_count": null,
      "outputs": [
        {
          "output_type": "stream",
          "name": "stdout",
          "text": [
            "Energía antes: 47.5659, Energía después: 18.9098\n",
            "Energía antes: 52.7315, Energía después: 23.7935\n",
            "Energía antes: 3.2522, Energía después: -12.7760\n",
            "Energía antes: -103.9523, Energía después: -122.5284\n",
            "Energía antes: 106.9884, Energía después: 82.4660\n",
            "Energía antes: 112.0152, Energía después: 40.6527\n",
            "Energía antes: 94.0573, Energía después: 22.8778\n",
            "Energía antes: 217.8105, Energía después: 154.4224\n",
            "Energía antes: 176.4722, Energía después: 104.3884\n",
            "Energía antes: 56.9217, Energía después: 35.8519\n"
          ]
        }
      ]
    },
    {
      "cell_type": "code",
      "source": [
        "from rdkit import Chem\n",
        "from rdkit.Chem import AllChem\n",
        "import py3Dmol\n",
        "\n",
        "def show_3D_mol(mol):\n",
        "    block = Chem.MolToMolBlock(mol)\n",
        "    viewer = py3Dmol.view(width=400, height=400)\n",
        "    viewer.addModel(block, format='mol')\n",
        "    viewer.setStyle({'stick': {}})\n",
        "    viewer.zoomTo()\n",
        "    return viewer.show()\n",
        "\n",
        "smiles_list = ['CC(=O)OC1=CC=CC=C1C(=O)O', 'CC(C)CC1=CC=C(C=C1)C(C)C(=O)O', 'CC(=O)NC1=CC=C(C=C1)O',\n",
        "           'CN1C=NC2=C1C(=O)N(C(=O)N2C)C','CN(C)CCOC(C1=CC=CC=C1)C2=CC=CC=C2',\n",
        "           'CCOC(=O)N1CCC(=C2C3=C(CCC4=C2N=CC=C4)C=C(C=C3)Cl)CC1', 'CN/C(=C\\\\[N+](=O)[O-])/NCCSCC1=CC=C(O1)CN(C)C',\n",
        "           'C1CN(CCN1CCOCC(=O)O)C(C2=CC=CC=C2)C3=CC=C(C=C3)Cl',\n",
        "           'CC(C)(C1=CC=C(C=C1)C(CCCN2CCC(CC2)C(C3=CC=CC=C3)(C4=CC=CC=C4)O)O)C(=O)O', 'C[C@@H](C1=CC2=C(C=C1)C=C(C=C2)OC)C(=O)O']\n",
        "\n",
        "optimized_molecules = []  # Aquí almacenaremos las moléculas optimizadas\n",
        "\n",
        "for smiles in smiles_list:\n",
        "    molecule = Chem.MolFromSmiles(smiles)\n",
        "    if molecule is None:\n",
        "        print(f\"Error al convertir el SMILES: {smiles}\")\n",
        "        continue\n",
        "    molecule = Chem.AddHs(molecule)  # Añadir átomos de hidrógeno para la optimización\n",
        "    AllChem.EmbedMolecule(molecule, AllChem.ETKDG())  # Generar una conformación 3D para la molécula\n",
        "    AllChem.MMFFOptimizeMolecule(molecule)  # Optimizar la molécula usando MMFF94\n",
        "\n",
        "    # Agregar la molécula optimizada a la lista\n",
        "    optimized_molecules.append(molecule)\n",
        "\n",
        "# Ahora, puedes visualizar cada molécula en 3D\n",
        "for mol in optimized_molecules:\n",
        "    show_3D_mol(mol)"
      ],
      "metadata": {
        "id": "oVZSDhPUZvhm"
      },
      "execution_count": null,
      "outputs": []
    },
    {
      "cell_type": "markdown",
      "source": [
        "-Comparación con open babel:"
      ],
      "metadata": {
        "id": "r_YyBK2h4JuG"
      }
    },
    {
      "cell_type": "code",
      "source": [
        "!pip install openbabel"
      ],
      "metadata": {
        "id": "wRX2VDsigcEV"
      },
      "execution_count": null,
      "outputs": []
    },
    {
      "cell_type": "code",
      "source": [
        "!apt-get -qq install -y openbabel"
      ],
      "metadata": {
        "id": "c3UjrI6UwvYR"
      },
      "execution_count": null,
      "outputs": []
    },
    {
      "cell_type": "code",
      "source": [
        "!obabel -i smi parababel.smi -o sdf --gen3D > output.sdf"
      ],
      "metadata": {
        "id": "e-AkdFjEwwlc"
      },
      "execution_count": null,
      "outputs": []
    },
    {
      "cell_type": "code",
      "source": [
        "!grep WARNING output.sdf"
      ],
      "metadata": {
        "id": "TdSJ0f76w0e-"
      },
      "execution_count": null,
      "outputs": []
    },
    {
      "cell_type": "code",
      "source": [
        "!obabel -i sdf output.sdf -o mol2 -O _.mol2 -h -m"
      ],
      "metadata": {
        "id": "ti-hX52kw2gW"
      },
      "execution_count": null,
      "outputs": []
    },
    {
      "cell_type": "code",
      "source": [
        "!obabel *.mol2 -O opt.xyz --minimize --sd --steps 20000 --ff MMFF94 -p 7.4 --log -m"
      ],
      "metadata": {
        "id": "FAPlHuRsxCia"
      },
      "execution_count": null,
      "outputs": []
    },
    {
      "cell_type": "code",
      "source": [
        "!obabel -i xyz *.xyz -o pdbqt -O lig_.pdbqt -m"
      ],
      "metadata": {
        "id": "6NxN47cMxJCz"
      },
      "execution_count": null,
      "outputs": []
    },
    {
      "cell_type": "code",
      "source": [
        "!ls *xyz | wc -l"
      ],
      "metadata": {
        "id": "d-Evg7K-xLoZ",
        "colab": {
          "base_uri": "https://localhost:8080/"
        },
        "outputId": "d0231154-ff74-4e35-b5b7-d1c94fcef419"
      },
      "execution_count": 46,
      "outputs": [
        {
          "output_type": "stream",
          "name": "stdout",
          "text": [
            "ls: cannot access '*xyz': No such file or directory\n",
            "0\n"
          ]
        }
      ]
    },
    {
      "cell_type": "code",
      "source": [
        "#!mkdir mis_inputs_vina\n",
        "#!mv *.pdbqt /content/mis_inputs_vina"
      ],
      "metadata": {
        "id": "A577ZXoOxN-1"
      },
      "execution_count": 47,
      "outputs": []
    },
    {
      "cell_type": "code",
      "source": [
        "!zip mis_inputs_vina.zip /content/mis_inputs_vina/*.pdbqt"
      ],
      "metadata": {
        "colab": {
          "base_uri": "https://localhost:8080/"
        },
        "id": "XWV20laMxP-N",
        "outputId": "8a88e479-ffd8-41c5-92cf-09037055b170"
      },
      "execution_count": 44,
      "outputs": [
        {
          "output_type": "stream",
          "name": "stdout",
          "text": [
            "\tzip warning: name not matched: /content/mis_inputs_vina/*.pdbqt\n",
            "\n",
            "zip error: Nothing to do! (mis_inputs_vina.zip)\n"
          ]
        }
      ]
    },
    {
      "cell_type": "markdown",
      "source": [
        "## Pregunta 5: Método científico (4 puntos)"
      ],
      "metadata": {
        "id": "CuzCcXJghR14"
      }
    },
    {
      "cell_type": "markdown",
      "source": [
        "Leer el artículo disponibilizado por el profesor y explica cómo es aplicado el método científico. Emplea como máximo 300 palabras."
      ],
      "metadata": {
        "id": "WngRSR-Rhmx1"
      }
    },
    {
      "cell_type": "markdown",
      "source": [
        "Este articulo presenta una estrategia didáctica usada en la enseñanza de química.\n",
        "La observación que se hace es con respecto a la difícil comprensión de la visión electrónica.\n",
        "Entonces se preguntan por la manera en la que se debería transmitir este tipo de conceptos, como lo es la clasificación periódica y la configuración electrónica.\n",
        "Se planteó el uso de cajas de huevo para la explicación de la configuración electrónica, usando los subniveles energéticos y su núcleo; así como también se dio a conocer la manera de la distribución de electrones a partir de principios (Hund y Aufbau) y como algunas configuraciones rompen la regla de Madelung. Con la fabricación del pasaporte atómico se le brindo los números cuánticos de los elementos, además al trabajar en grupo permitió el fortalecimiento en la adquisición de conocimientos, ya que al debatir las preguntas formuladas se logra cimentar lo aprendido.\n",
        "Además, se comparó cómo el modelo representa los electrones con conceptos reales, la energía de ionización y radio atómico, asimismo se evaluó si la estrategia tomada es económico y práctico para el aprendizaje de este tema.\n",
        "Se concluyó con que el método de enseñanza es viable con respecto a costo y efectividad, ya que permite la conceptualización de la periodicidad atómica y sus características. Por lo que se busca difundir esta herramienta útil.\n",
        "Este articulo presenta una estrategia didáctica usada en la enseñanza de química.\n",
        "La observación que se hace es con respecto a la difícil comprensión de la visión electrónica.\n",
        "Entonces se preguntan por la manera en la que se debería transmitir este tipo de conceptos, como lo es la clasificación periódica y la configuración electrónica.\n",
        "Se planteó el uso de cajas de huevo para la explicación de la configuración electrónica, usando los subniveles energéticos y su núcleo; así como también se dio a conocer la manera de la distribución de electrones a partir de principios (Hund y Aufbau) y como algunas configuraciones rompen la regla de Madelung. Con la fabricación del pasaporte atómico se le brindo los números cuánticos de los elementos, además al trabajar en grupo permitió el fortalecimiento en la adquisición de conocimientos, ya que al debatir las preguntas formuladas se logra cimentar lo aprendido.\n",
        "Además, se comparó cómo el modelo representa los electrones con conceptos reales, la energía de ionización y radio atómico, asimismo se evaluó si la estrategia tomada es económico y práctico para el aprendizaje de este tema.\n",
        "Se concluyó con que el método de enseñanza es viable con respecto a costo y efectividad, ya que permite la conceptualización de la periodicidad atómica y sus características. Por lo que se busca con el articulo un mayor empleo de esta herramienta útil."
      ],
      "metadata": {
        "id": "c5dQO0vvzQmh"
      }
    }
  ]
}